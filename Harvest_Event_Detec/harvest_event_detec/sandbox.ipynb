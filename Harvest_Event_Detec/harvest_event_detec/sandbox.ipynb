{
 "cells": [
  {
   "cell_type": "code",
   "execution_count": 6,
   "metadata": {},
   "outputs": [],
   "source": [
    "import ee\n",
    "import google.auth\n",
    "import math"
   ]
  },
  {
   "cell_type": "code",
   "execution_count": 113,
   "metadata": {},
   "outputs": [],
   "source": [
    "import numpy as np\n"
   ]
  },
  {
   "cell_type": "code",
   "execution_count": 7,
   "metadata": {},
   "outputs": [],
   "source": [
    "# this is needed to Successfully save authorization token. from ee.Authenticate()\n",
    "import ssl\n",
    "ssl._create_default_https_context = ssl._create_unverified_context"
   ]
  },
  {
   "cell_type": "code",
   "execution_count": 8,
   "metadata": {},
   "outputs": [
    {
     "data": {
      "text/html": [
       "<p>To authorize access needed by Earth Engine, open the following\n",
       "        URL in a web browser and follow the instructions:</p>\n",
       "        <p><a href=https://code.earthengine.google.com/client-auth?scopes=https%3A//www.googleapis.com/auth/earthengine%20https%3A//www.googleapis.com/auth/devstorage.full_control&request_id=rVRSHiYi5VzTPVvtSFETtOw9ShiPoddwiZq8rfn6Ie0&tc=Mynere4hHA_-w8bMydR42vj2eyKg2Ej0B0ZDJsWfaLI&cc=4R5Kzx9CO-VjwC1KlNu7LV-oAzmHlz7MC0n1bScu1UE>https://code.earthengine.google.com/client-auth?scopes=https%3A//www.googleapis.com/auth/earthengine%20https%3A//www.googleapis.com/auth/devstorage.full_control&request_id=rVRSHiYi5VzTPVvtSFETtOw9ShiPoddwiZq8rfn6Ie0&tc=Mynere4hHA_-w8bMydR42vj2eyKg2Ej0B0ZDJsWfaLI&cc=4R5Kzx9CO-VjwC1KlNu7LV-oAzmHlz7MC0n1bScu1UE</a></p>\n",
       "        <p>The authorization workflow will generate a code, which you should paste in the box below.</p>\n",
       "        "
      ],
      "text/plain": [
       "<IPython.core.display.HTML object>"
      ]
     },
     "metadata": {},
     "output_type": "display_data"
    },
    {
     "name": "stdout",
     "output_type": "stream",
     "text": [
      "\n",
      "Successfully saved authorization token.\n"
     ]
    }
   ],
   "source": [
    "ee.Authenticate()\n"
   ]
  },
  {
   "cell_type": "code",
   "execution_count": 9,
   "metadata": {},
   "outputs": [],
   "source": [
    "ee.Initialize()"
   ]
  },
  {
   "cell_type": "code",
   "execution_count": 159,
   "metadata": {},
   "outputs": [],
   "source": [
    "# bands used for prediction\n",
    "BANDS = ['B1', 'B2', 'B3', 'B4', 'B5', 'B6', 'B7', 'B8', 'B8A', 'B9', 'B11', 'B12']\n",
    "\n",
    "def mask_sentinel2_clouds(image: ee.Image) -> ee.Image:\n",
    "    CLOUD_BIT = 10\n",
    "    CIRRUS_CLOUD_BIT = 11\n",
    "    bit_mask = (1 << CLOUD_BIT) | (1 << CIRRUS_CLOUD_BIT)\n",
    "    mask = image.select(\"QA60\").bitwiseAnd(bit_mask).eq(0)\n",
    "    return image.updateMask(mask)\n",
    "    \n",
    "def get_input_image(year: int, default_value: float = 1000.0) -> ee.Image:\n",
    "  return (\n",
    "      ee.ImageCollection(\"COPERNICUS/S2_HARMONIZED\")        # Sentinel-2 images\n",
    "      .filterDate(f\"{year}-1-1\", f\"{year}-12-31\")           # filter by year\n",
    "      .filter(ee.Filter.lt(\"CLOUDY_PIXEL_PERCENTAGE\", 20))  # filter cloudy images \n",
    "      .map(mask_sentinel2_clouds)  # mask/hide cloudy pixels\n",
    "      .select(BANDS)          # select all bands starting with B\n",
    "      .median()               # median of all non-cloudy pixels\n",
    "      .unmask(default_value)  # default value for masked pixels\n",
    "      .float()                # convert to float32\n",
    "  )"
   ]
  },
  {
   "cell_type": "code",
   "execution_count": 134,
   "metadata": {},
   "outputs": [
    {
     "name": "stdout",
     "output_type": "stream",
     "text": [
      "2.11.0\n"
     ]
    }
   ],
   "source": [
    "import tensorflow as tf\n",
    "print(tf.__version__)"
   ]
  },
  {
   "cell_type": "code",
   "execution_count": 135,
   "metadata": {},
   "outputs": [
    {
     "name": "stdout",
     "output_type": "stream",
     "text": [
      "0.14.0\n"
     ]
    }
   ],
   "source": [
    "import folium\n",
    "print(folium.__version__)"
   ]
  },
  {
   "cell_type": "code",
   "execution_count": null,
   "metadata": {},
   "outputs": [],
   "source": []
  },
  {
   "cell_type": "code",
   "execution_count": 151,
   "metadata": {},
   "outputs": [],
   "source": [
    "countries = ee.FeatureCollection(\"USDOS/LSIB_SIMPLE/2017\")\n",
    "countryGeometry = countries.filter(ee.Filter.eq('country_na', 'Ukraine'));\n",
    "country_latLon = 50., 31"
   ]
  },
  {
   "cell_type": "code",
   "execution_count": 181,
   "metadata": {},
   "outputs": [
    {
     "data": {
      "text/plain": [
       "<folium.raster_layers.TileLayer at 0x7fb05d9828b0>"
      ]
     },
     "execution_count": 181,
     "metadata": {},
     "output_type": "execute_result"
    }
   ],
   "source": [
    "LABEL_DATA = ee.ImageCollection(\"ESA/WorldCover/v100\").first() # ee.image\n",
    "LABEL_DATA = LABEL_DATA.clip(countryGeometry)\n",
    "\n",
    "igbp_palette = [\n",
    "    '#419BDF',  # water\n",
    "    '#397D49',  # Trees\n",
    "    '#88B053',  # Grass\n",
    "    '#7A87C6',  # Flooded vegetation\n",
    "    '#E49635',  # crops\n",
    "    '#DFC35A',  # shrub and scrub\n",
    "    '#C4281B',  # built-up areas\n",
    "    '#A59B8F',  # bare ground\n",
    "    '#B39FE1',  # snow and ice\n",
    "]\n",
    "\n",
    "LABEL_NAMES = [\n",
    "  'water', 'trees', 'grass', 'flooded_vegetation', 'crops', 'shrub_and_scrub',\n",
    "  'built', 'bare', 'snow_and_ice'\n",
    "]\n",
    "map = folium.Map(location=[50., 31], zoom_start=13)\n",
    "def get_label_image() -> ee.Image:\n",
    "    # Remap the ESA classifications into the Dynamic World classifications\n",
    "    fromValues = [10, 20, 30, 40, 50, 60, 70, 80, 90, 95, 100]\n",
    "    toValues = [1, 5, 2, 4, 6, 7, 8, 0, 3, 3, 7]\n",
    "    return (\n",
    "        LABEL_DATA\n",
    "        .select(\"Map\")\n",
    "        .remap(fromValues, toValues)\n",
    "        .rename(\"landcover\")\n",
    "        .unmask(0)  # fill missing values with 0 (water)\n",
    "        .byte()     # 9 classifications fit into an unsinged 8-bit integer\n",
    "    )\n",
    "\n",
    "image_labels = get_label_image()\n",
    "\n",
    "vis_params = {\n",
    "  \"bands\": [\"landcover\"],\n",
    "  \"max\": len(LABEL_NAMES) - 1,\n",
    "  \"palette\": igbp_palette,\n",
    "}\n",
    "mapid_labels = image_labels.getMapId(vis_params)\n",
    "\n",
    "folium.TileLayer(\n",
    "    tiles=mapid_labels['tile_fetcher'].url_format,\n",
    "    attr='Map Data &copy; <a href=\"https://earthengine.google.com/\">Google Earth Engine</a>',\n",
    "    overlay=True,\n",
    "    name='esa',\n",
    "  ).add_to(map)\n"
   ]
  },
  {
   "cell_type": "code",
   "execution_count": 182,
   "metadata": {},
   "outputs": [
    {
     "data": {
      "text/html": [
       "<div style=\"width:100%;\"><div style=\"position:relative;width:100%;height:0;padding-bottom:60%;\"><span style=\"color:#565656\">Make this Notebook Trusted to load map: File -> Trust Notebook</span><iframe srcdoc=\"&lt;!DOCTYPE html&gt;\n",
       "&lt;html&gt;\n",
       "&lt;head&gt;\n",
       "    \n",
       "    &lt;meta http-equiv=&quot;content-type&quot; content=&quot;text/html; charset=UTF-8&quot; /&gt;\n",
       "    \n",
       "        &lt;script&gt;\n",
       "            L_NO_TOUCH = false;\n",
       "            L_DISABLE_3D = false;\n",
       "        &lt;/script&gt;\n",
       "    \n",
       "    &lt;style&gt;html, body {width: 100%;height: 100%;margin: 0;padding: 0;}&lt;/style&gt;\n",
       "    &lt;style&gt;#map {position:absolute;top:0;bottom:0;right:0;left:0;}&lt;/style&gt;\n",
       "    &lt;script src=&quot;https://cdn.jsdelivr.net/npm/leaflet@1.9.3/dist/leaflet.js&quot;&gt;&lt;/script&gt;\n",
       "    &lt;script src=&quot;https://code.jquery.com/jquery-1.12.4.min.js&quot;&gt;&lt;/script&gt;\n",
       "    &lt;script src=&quot;https://cdn.jsdelivr.net/npm/bootstrap@5.2.2/dist/js/bootstrap.bundle.min.js&quot;&gt;&lt;/script&gt;\n",
       "    &lt;script src=&quot;https://cdnjs.cloudflare.com/ajax/libs/Leaflet.awesome-markers/2.0.2/leaflet.awesome-markers.js&quot;&gt;&lt;/script&gt;\n",
       "    &lt;link rel=&quot;stylesheet&quot; href=&quot;https://cdn.jsdelivr.net/npm/leaflet@1.9.3/dist/leaflet.css&quot;/&gt;\n",
       "    &lt;link rel=&quot;stylesheet&quot; href=&quot;https://cdn.jsdelivr.net/npm/bootstrap@5.2.2/dist/css/bootstrap.min.css&quot;/&gt;\n",
       "    &lt;link rel=&quot;stylesheet&quot; href=&quot;https://netdna.bootstrapcdn.com/bootstrap/3.0.0/css/bootstrap.min.css&quot;/&gt;\n",
       "    &lt;link rel=&quot;stylesheet&quot; href=&quot;https://cdn.jsdelivr.net/npm/@fortawesome/fontawesome-free@6.2.0/css/all.min.css&quot;/&gt;\n",
       "    &lt;link rel=&quot;stylesheet&quot; href=&quot;https://cdnjs.cloudflare.com/ajax/libs/Leaflet.awesome-markers/2.0.2/leaflet.awesome-markers.css&quot;/&gt;\n",
       "    &lt;link rel=&quot;stylesheet&quot; href=&quot;https://cdn.jsdelivr.net/gh/python-visualization/folium/folium/templates/leaflet.awesome.rotate.min.css&quot;/&gt;\n",
       "    \n",
       "            &lt;meta name=&quot;viewport&quot; content=&quot;width=device-width,\n",
       "                initial-scale=1.0, maximum-scale=1.0, user-scalable=no&quot; /&gt;\n",
       "            &lt;style&gt;\n",
       "                #map_44358e8febdb11b419a8586005fd5ecf {\n",
       "                    position: relative;\n",
       "                    width: 100.0%;\n",
       "                    height: 100.0%;\n",
       "                    left: 0.0%;\n",
       "                    top: 0.0%;\n",
       "                }\n",
       "                .leaflet-container { font-size: 1rem; }\n",
       "            &lt;/style&gt;\n",
       "        \n",
       "&lt;/head&gt;\n",
       "&lt;body&gt;\n",
       "    \n",
       "    \n",
       "            &lt;div class=&quot;folium-map&quot; id=&quot;map_44358e8febdb11b419a8586005fd5ecf&quot; &gt;&lt;/div&gt;\n",
       "        \n",
       "&lt;/body&gt;\n",
       "&lt;script&gt;\n",
       "    \n",
       "    \n",
       "            var map_44358e8febdb11b419a8586005fd5ecf = L.map(\n",
       "                &quot;map_44358e8febdb11b419a8586005fd5ecf&quot;,\n",
       "                {\n",
       "                    center: [50.0, 31.0],\n",
       "                    crs: L.CRS.EPSG3857,\n",
       "                    zoom: 13,\n",
       "                    zoomControl: true,\n",
       "                    preferCanvas: false,\n",
       "                }\n",
       "            );\n",
       "\n",
       "            \n",
       "\n",
       "        \n",
       "    \n",
       "            var tile_layer_6a8f9e6b4ff3d8db13941fc1dadc9a8a = L.tileLayer(\n",
       "                &quot;https://{s}.tile.openstreetmap.org/{z}/{x}/{y}.png&quot;,\n",
       "                {&quot;attribution&quot;: &quot;Data by \\u0026copy; \\u003ca target=\\&quot;_blank\\&quot; href=\\&quot;http://openstreetmap.org\\&quot;\\u003eOpenStreetMap\\u003c/a\\u003e, under \\u003ca target=\\&quot;_blank\\&quot; href=\\&quot;http://www.openstreetmap.org/copyright\\&quot;\\u003eODbL\\u003c/a\\u003e.&quot;, &quot;detectRetina&quot;: false, &quot;maxNativeZoom&quot;: 18, &quot;maxZoom&quot;: 18, &quot;minZoom&quot;: 0, &quot;noWrap&quot;: false, &quot;opacity&quot;: 1, &quot;subdomains&quot;: &quot;abc&quot;, &quot;tms&quot;: false}\n",
       "            ).addTo(map_44358e8febdb11b419a8586005fd5ecf);\n",
       "        \n",
       "    \n",
       "            var tile_layer_d52ef0c22a177604a7a530808390ccfd = L.tileLayer(\n",
       "                &quot;https://earthengine.googleapis.com/v1alpha/projects/earthengine-legacy/maps/8f4d21e8a21f5017792b95c0335e03a5-a4022212979efae46849aa343c6ded61/tiles/{z}/{x}/{y}&quot;,\n",
       "                {&quot;attribution&quot;: &quot;Map Data \\u0026copy; \\u003ca href=\\&quot;https://earthengine.google.com/\\&quot;\\u003eGoogle Earth Engine\\u003c/a\\u003e&quot;, &quot;detectRetina&quot;: false, &quot;maxNativeZoom&quot;: 18, &quot;maxZoom&quot;: 18, &quot;minZoom&quot;: 0, &quot;noWrap&quot;: false, &quot;opacity&quot;: 1, &quot;subdomains&quot;: &quot;abc&quot;, &quot;tms&quot;: false}\n",
       "            ).addTo(map_44358e8febdb11b419a8586005fd5ecf);\n",
       "        \n",
       "&lt;/script&gt;\n",
       "&lt;/html&gt;\" style=\"position:absolute;width:100%;height:100%;left:0;top:0;border:none !important;\" allowfullscreen webkitallowfullscreen mozallowfullscreen></iframe></div></div>"
      ],
      "text/plain": [
       "<folium.folium.Map at 0x7fb05daf1b20>"
      ]
     },
     "execution_count": 182,
     "metadata": {},
     "output_type": "execute_result"
    }
   ],
   "source": [
    "map"
   ]
  },
  {
   "cell_type": "code",
   "execution_count": 183,
   "metadata": {},
   "outputs": [],
   "source": [
    "SURF_REF_SEN2 = ee.ImageCollection(\"COPERNICUS/S2_SR_HARMONIZED\").filterDate('2020-01-01', '2020-12-31')"
   ]
  },
  {
   "cell_type": "code",
   "execution_count": null,
   "metadata": {},
   "outputs": [],
   "source": []
  },
  {
   "cell_type": "code",
   "execution_count": 184,
   "metadata": {},
   "outputs": [],
   "source": [
    "def cloudmask_surfRefSen2(image):\n",
    "    opaqueClouds_mask = 1 << 10\n",
    "    cirrusClouds_mask =1 << 11\n",
    "    bit_mask =opaqueClouds_mask |  cirrusClouds_mask\n",
    "    qa = image.select('QA60')\n",
    "    mask = qa.bitwiseAnd(bit_mask).eq(0)\n",
    "    return image.clip(countryGeometry).updateMask(mask)\n",
    "\n",
    "# ee.image.select()  supports regex\n",
    "image = SURF_REF_SEN2.map(cloudmask_surfRefSen2).select(\"B{1}\\d\").filter(ee.Filter.lt(\"CLOUDY_PIXEL_PERCENTAGE\", 20)).median().unmask(1000.0).float()\n",
    "image = image.divide(10000) \n",
    "# we divide by 10000 bc the bands are scaled by 10000 (according to https://developers.google.com/earth-engine/datasets/catalog/COPERNICUS_S2)\n"
   ]
  },
  {
   "cell_type": "code",
   "execution_count": 185,
   "metadata": {},
   "outputs": [
    {
     "data": {
      "text/plain": [
       "<folium.raster_layers.TileLayer at 0x7fb05c9b57f0>"
      ]
     },
     "execution_count": 185,
     "metadata": {},
     "output_type": "execute_result"
    }
   ],
   "source": [
    "vis_params = {\n",
    "  \"min\": 0,\n",
    "  \"max\": 0.3,\n",
    "  \"bands\": [\"B4\", \"B3\", \"B2\"],\n",
    "}\n",
    "\n",
    "mapid = image.getMapId(vis_params)\n",
    "#map = folium.Map(location=[50., 31], zoom_start=13)\n",
    "\n",
    "folium.TileLayer(\n",
    "    tiles=mapid['tile_fetcher'].url_format,\n",
    "    attr='Map Data &copy; <a href=\"https://earthengine.google.com/\">Google Earth Engine</a>',\n",
    "    overlay=True,\n",
    "    name='median composite',\n",
    "  ).add_to(map)\n"
   ]
  },
  {
   "cell_type": "code",
   "execution_count": 186,
   "metadata": {},
   "outputs": [
    {
     "data": {
      "text/plain": [
       "array([[25.45868435, 50.65504754],\n",
       "       [36.2894705 , 50.29463283],\n",
       "       [32.54848447, 50.8608493 ],\n",
       "       ...,\n",
       "       [35.05100326, 46.69351009],\n",
       "       [33.66820389, 50.45192896],\n",
       "       [30.63346126, 46.99444801]])"
      ]
     },
     "execution_count": 186,
     "metadata": {},
     "output_type": "execute_result"
    }
   ],
   "source": [
    "import geopandas as gpd\n",
    "\n",
    "shapefile_path = \"../data/validation_data/merged_harvest_validation_20220919.shp\"\n",
    "gdf = gpd.read_file(shapefile_path)\n",
    "lon_lat_df = gdf[['lon', 'lat']]\n",
    "lon_lat_df = lon_lat_df.dropna()\n",
    "\n",
    "lon_lat_shapeFile = np.array(lon_lat_df)\n",
    "lon_lat_shapeFile"
   ]
  },
  {
   "cell_type": "code",
   "execution_count": 187,
   "metadata": {},
   "outputs": [
    {
     "data": {
      "text/plain": [
       "<folium.map.LayerControl at 0x7fb059dc1160>"
      ]
     },
     "execution_count": 187,
     "metadata": {},
     "output_type": "execute_result"
    }
   ],
   "source": [
    "from typing import Iterable\n",
    "\n",
    "def sample_points(\n",
    "    region: ee.Geometry, image: ee.Image, points_per_class: int, scale: int) -> Iterable[tuple[float, float]]:\n",
    "    # points is FeatureCollection \n",
    "    points = image.stratifiedSample(\n",
    "        points_per_class,\n",
    "        region=region,\n",
    "        scale=scale,\n",
    "        geometries=True,\n",
    "    )\n",
    "    for point in points.toList(points.size()).getInfo():\n",
    "        #print(point)\n",
    "        yield point[\"geometry\"][\"coordinates\"]\n",
    "\n",
    "#for [lon, lat] in sample_points(countryGeometry, image_labels, points_per_class=100, scale=1000):\n",
    "#    folium.Marker(location=[lat, lon], popup = str([lon, lat])).add_to(map)\n",
    "\n",
    "for [lon, lat] in lon_lat_shapeFile:\n",
    "    folium.Marker(location=[lat, lon], popup = str([lon, lat])).add_to(map)\n",
    "\n",
    "folium.LayerControl().add_to(map)\n",
    "#map"
   ]
  },
  {
   "cell_type": "code",
   "execution_count": 188,
   "metadata": {},
   "outputs": [],
   "source": [
    "# uncomment below to see the points marked on the map\n",
    "#map "
   ]
  },
  {
   "cell_type": "code",
   "execution_count": 189,
   "metadata": {},
   "outputs": [],
   "source": [
    "import io\n",
    "import requests\n",
    "from google.api_core import exceptions, retry\n",
    "\n",
    "@retry.Retry(deadline=10 * 60)  # seconds\n",
    "def get_patch(image: ee.Image, lonlat: tuple[float, float], patch_size: int, scale: int) -> np.ndarray:\n",
    "    point = ee.Geometry.Point(lonlat)\n",
    "    url = image.getDownloadURL({\n",
    "        \"region\": point.buffer(scale * patch_size / 2, 1).bounds(1),\n",
    "        \"dimensions\": [patch_size, patch_size],\n",
    "        \"format\": \"NPY\",\n",
    "    })\n",
    "\n",
    "    # If we get \"429: Too Many Requests\" errors, it's safe to retry the request.\n",
    "    # The Retry library only works with `google.api_core` exceptions.\n",
    "    response = requests.get(url)\n",
    "    if response.status_code == 429:\n",
    "        raise exceptions.TooManyRequests(response.text)\n",
    "\n",
    "    # Still raise any other exceptions to make sure we got valid data.\n",
    "    response.raise_for_status()\n",
    "    return np.load(io.BytesIO(response.content), allow_pickle=True)"
   ]
  },
  {
   "cell_type": "code",
   "execution_count": 190,
   "metadata": {},
   "outputs": [],
   "source": [
    "from numpy.lib.recfunctions import structured_to_unstructured\n",
    "\n",
    "def get_input_patch(year: int, lonlat: tuple[float, float], patch_size: int) -> np.ndarray:\n",
    "    image = get_input_image(year)\n",
    "    patch = get_patch(image, lonlat, patch_size, scale=10)\n",
    "    return structured_to_unstructured(patch)\n",
    "\n",
    "def get_label_patch(lonlat: tuple[float, float], patch_size: int) -> np.ndarray:\n",
    "    image = get_label_image()\n",
    "    patch = get_patch(image, lonlat, patch_size, scale=10)\n",
    "    return structured_to_unstructured(patch)"
   ]
  },
  {
   "cell_type": "code",
   "execution_count": null,
   "metadata": {},
   "outputs": [],
   "source": []
  },
  {
   "cell_type": "code",
   "execution_count": 191,
   "metadata": {},
   "outputs": [
    {
     "name": "stdout",
     "output_type": "stream",
     "text": [
      "inputs : float32 (512, 512, 12)\n",
      "labels : uint8 (512, 512, 1)\n"
     ]
    }
   ],
   "source": [
    "\n",
    "def get_testing_data(lonlat: tuple[float, float], patch_size: int = 128) -> tuple[np.ndarray, np.ndarray]:\n",
    "    \"\"\"Gets a square around the point lonlat. This square is of length patch_size.\n",
    "\n",
    "\n",
    "    Args:\n",
    "        lonlat (tuple[float, float]): _description_\n",
    "        patch_size (int, optional): _description_. Defaults to 128.\n",
    "\n",
    "    Returns:\n",
    "        tuple[np.ndarray, np.ndarray]: _description_\n",
    "    \"\"\"\n",
    "    \n",
    "    return (\n",
    "        get_input_patch(2020, lonlat, patch_size),\n",
    "        get_label_patch(lonlat, patch_size),\n",
    "    )\n",
    "\n",
    "point = (country_latLon[1], country_latLon[0]) # (lon, lat)\n",
    "(inputs, labels) = get_testing_data(point, (512))\n",
    "print(f\"inputs : {inputs.dtype} {inputs.shape}\")\n",
    "print(f\"labels : {labels.dtype} {labels.shape}\")\n",
    "\n"
   ]
  },
  {
   "cell_type": "code",
   "execution_count": 192,
   "metadata": {},
   "outputs": [
    {
     "data": {
      "text/plain": [
       "array([0], dtype=uint8)"
      ]
     },
     "execution_count": 192,
     "metadata": {},
     "output_type": "execute_result"
    }
   ],
   "source": [
    "labels[0][500]"
   ]
  },
  {
   "cell_type": "code",
   "execution_count": 161,
   "metadata": {},
   "outputs": [
    {
     "name": "stdout",
     "output_type": "stream",
     "text": [
      "serialized: 868448 bytes\n"
     ]
    },
    {
     "name": "stderr",
     "output_type": "stream",
     "text": [
      "2023-03-17 00:27:17.114852: I tensorflow/core/platform/cpu_feature_guard.cc:193] This TensorFlow binary is optimized with oneAPI Deep Neural Network Library (oneDNN) to use the following CPU instructions in performance-critical operations:  AVX2 FMA\n",
      "To enable them in other operations, rebuild TensorFlow with the appropriate compiler flags.\n"
     ]
    }
   ],
   "source": [
    "def serialize(inputs: np.ndarray, labels: np.ndarray) -> bytes:\n",
    "    features = {\n",
    "        name: tf.train.Feature(\n",
    "            bytes_list=tf.train.BytesList(value=[tf.io.serialize_tensor(data).numpy()])\n",
    "        )\n",
    "        for name, data in {\"inputs\": inputs, \"labels\": labels}.items()\n",
    "    }\n",
    "    example = tf.train.Example(features=tf.train.Features(feature=features))\n",
    "    return example.SerializeToString()\n",
    "\n",
    "serialized = serialize(inputs, labels)\n",
    "print(f\"serialized: {len(serialized)} bytes\")"
   ]
  },
  {
   "cell_type": "code",
   "execution_count": null,
   "metadata": {},
   "outputs": [],
   "source": []
  },
  {
   "cell_type": "code",
   "execution_count": null,
   "metadata": {},
   "outputs": [],
   "source": []
  },
  {
   "cell_type": "code",
   "execution_count": null,
   "metadata": {},
   "outputs": [],
   "source": []
  },
  {
   "cell_type": "code",
   "execution_count": null,
   "metadata": {},
   "outputs": [],
   "source": []
  },
  {
   "cell_type": "code",
   "execution_count": null,
   "metadata": {},
   "outputs": [],
   "source": []
  },
  {
   "cell_type": "code",
   "execution_count": null,
   "metadata": {},
   "outputs": [],
   "source": []
  },
  {
   "cell_type": "code",
   "execution_count": null,
   "metadata": {},
   "outputs": [],
   "source": []
  },
  {
   "cell_type": "code",
   "execution_count": null,
   "metadata": {},
   "outputs": [],
   "source": []
  },
  {
   "cell_type": "code",
   "execution_count": null,
   "metadata": {},
   "outputs": [],
   "source": []
  },
  {
   "cell_type": "code",
   "execution_count": null,
   "metadata": {},
   "outputs": [],
   "source": []
  },
  {
   "cell_type": "code",
   "execution_count": null,
   "metadata": {},
   "outputs": [],
   "source": []
  },
  {
   "cell_type": "code",
   "execution_count": null,
   "metadata": {},
   "outputs": [],
   "source": []
  },
  {
   "cell_type": "code",
   "execution_count": null,
   "metadata": {},
   "outputs": [],
   "source": []
  },
  {
   "cell_type": "code",
   "execution_count": null,
   "metadata": {},
   "outputs": [],
   "source": []
  },
  {
   "cell_type": "code",
   "execution_count": null,
   "metadata": {},
   "outputs": [],
   "source": []
  },
  {
   "cell_type": "code",
   "execution_count": null,
   "metadata": {},
   "outputs": [],
   "source": []
  },
  {
   "cell_type": "code",
   "execution_count": null,
   "metadata": {},
   "outputs": [],
   "source": []
  },
  {
   "cell_type": "code",
   "execution_count": null,
   "metadata": {},
   "outputs": [],
   "source": []
  },
  {
   "cell_type": "code",
   "execution_count": null,
   "metadata": {},
   "outputs": [],
   "source": []
  },
  {
   "cell_type": "code",
   "execution_count": null,
   "metadata": {},
   "outputs": [],
   "source": []
  },
  {
   "cell_type": "code",
   "execution_count": null,
   "metadata": {},
   "outputs": [],
   "source": []
  },
  {
   "cell_type": "code",
   "execution_count": null,
   "metadata": {},
   "outputs": [],
   "source": []
  },
  {
   "cell_type": "code",
   "execution_count": null,
   "metadata": {},
   "outputs": [],
   "source": []
  },
  {
   "cell_type": "code",
   "execution_count": null,
   "metadata": {},
   "outputs": [],
   "source": []
  },
  {
   "cell_type": "code",
   "execution_count": null,
   "metadata": {},
   "outputs": [],
   "source": []
  }
 ],
 "metadata": {
  "kernelspec": {
   "display_name": "Python 3.9.0 ('harvest-event-detec-Fyp2lGEN-py3.9')",
   "language": "python",
   "name": "python3"
  },
  "language_info": {
   "codemirror_mode": {
    "name": "ipython",
    "version": 3
   },
   "file_extension": ".py",
   "mimetype": "text/x-python",
   "name": "python",
   "nbconvert_exporter": "python",
   "pygments_lexer": "ipython3",
   "version": "3.9.0"
  },
  "orig_nbformat": 4,
  "vscode": {
   "interpreter": {
    "hash": "0cf1faa60ab086dde8d867eb16c20b4bffc52bbf785c13cdda65e2052ce97abb"
   }
  }
 },
 "nbformat": 4,
 "nbformat_minor": 2
}

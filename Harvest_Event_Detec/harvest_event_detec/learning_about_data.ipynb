{
 "cells": [
  {
   "attachments": {},
   "cell_type": "markdown",
   "metadata": {},
   "source": [
    "### Dataset from ee.ImageCollection(\"COPERNICUS/S2_SR_HARMONIZED\")\n",
    "https://developers.google.com/earth-engine/datasets/catalog/COPERNICUS_S2_SR_HARMONIZED"
   ]
  },
  {
   "cell_type": "code",
   "execution_count": 1,
   "metadata": {},
   "outputs": [],
   "source": [
    "import datetime\n",
    "import geopandas\n",
    "import numpy as np\n",
    "import pandas as pd\n",
    "pd.options.mode.chained_assignment = None  # default='warn'\n",
    "\n",
    "#from sklearn.datasets import fetch_mldata\n",
    "from sklearn.decomposition import PCA\n",
    "from sklearn.manifold import TSNE\n",
    "import matplotlib\n",
    "\n",
    " # to enable ipympl interactive interface for plots\n",
    "%matplotlib widget\n",
    "\n",
    "import matplotlib.pyplot as plt\n",
    "from mpl_toolkits.mplot3d import Axes3D\n",
    "import seaborn as sns\n",
    "\n",
    "from matplotlib.backends.backend_pdf import PdfPages\n"
   ]
  },
  {
   "cell_type": "code",
   "execution_count": 2,
   "metadata": {},
   "outputs": [],
   "source": [
    "import time\n",
    "import matplotlib\n",
    "from distinctipy import distinctipy # generate N distinct colors\n"
   ]
  },
  {
   "cell_type": "code",
   "execution_count": 3,
   "metadata": {},
   "outputs": [],
   "source": [
    "#local scripts\n",
    "from scripts import veg_indices, utilities, plots\n",
    "#from scripts.utilities import *"
   ]
  },
  {
   "cell_type": "code",
   "execution_count": 4,
   "metadata": {},
   "outputs": [],
   "source": [
    "BANDS_DICT = {   'B2': 'Blue',\n",
    "            'B3': 'Green',\n",
    "            'B4': 'Red',\n",
    "            'B5': 'Red_Edge_1',\n",
    "            'B6': 'Red_Edge_2',\n",
    "            'B7': 'Red_Edge_3',\n",
    "            'B8': 'NIR',\n",
    "            'B8A': 'Red_Edge_4',\n",
    "            'B11': 'SWIR_1',\n",
    "            'B12': 'SWIR_2'}\n",
    "\n",
    "BANDS = list(BANDS_DICT.keys())"
   ]
  },
  {
   "cell_type": "code",
   "execution_count": 5,
   "metadata": {},
   "outputs": [],
   "source": [
    "DF = geopandas.read_file('../data/merged_images.geojson')\n",
    "DF.rename(columns = {'is_within_period':'har_evnt'}, inplace = True)\n",
    "NUM_SAMPLES = len(np.unique(DF.image_idx)) - 1"
   ]
  },
  {
   "cell_type": "code",
   "execution_count": 6,
   "metadata": {},
   "outputs": [
    {
     "name": "stdout",
     "output_type": "stream",
     "text": [
      "Added:  ['RVI', 'ARVI', 'PSSRa', 'NDI45', 'GNDVI', 'MCARI', 'IRECI', 'CIr', 'MTCI', 'NDVIre', 'NIRv', 'EVI', 'NDTI', 'NDMI', 'MSI', 'GCI', 'NBRI', 'BSI', 'NDWI', 'NDSI']\n",
      "(not in place), created : ['RVI_diff', 'ARVI_diff', 'PSSRa_diff', 'NDI45_diff', 'GNDVI_diff', 'MCARI_diff', 'IRECI_diff', 'CIr_diff', 'MTCI_diff', 'NDVIre_diff', 'NIRv_diff', 'EVI_diff', 'NDTI_diff', 'NDMI_diff', 'MSI_diff', 'GCI_diff', 'NBRI_diff', 'BSI_diff', 'NDWI_diff', 'NDSI_diff', 'NDVI_diff']\n",
      "Index(['B11', 'B12', 'B2', 'B3', 'B4', 'B5', 'B6', 'B7', 'B8', 'B8A', 'NDVI',\n",
      "       'finHarvDat', 'lat', 'lon', 'point_idx', 'start_date', 'end_date',\n",
      "       'har_evnt', 'image_idx', 'geometry', 'RVI', 'ARVI', 'PSSRa', 'NDI45',\n",
      "       'GNDVI', 'MCARI', 'IRECI', 'CIr', 'MTCI', 'NDVIre', 'NIRv', 'EVI',\n",
      "       'NDTI', 'NDMI', 'MSI', 'GCI', 'NBRI', 'BSI', 'NDWI', 'NDSI', 'RVI_diff',\n",
      "       'ARVI_diff', 'PSSRa_diff', 'NDI45_diff', 'GNDVI_diff', 'MCARI_diff',\n",
      "       'IRECI_diff', 'CIr_diff', 'MTCI_diff', 'NDVIre_diff', 'NIRv_diff',\n",
      "       'EVI_diff', 'NDTI_diff', 'NDMI_diff', 'MSI_diff', 'GCI_diff',\n",
      "       'NBRI_diff', 'BSI_diff', 'NDWI_diff', 'NDSI_diff', 'NDVI_diff'],\n",
      "      dtype='object') (3925, 61)\n"
     ]
    }
   ],
   "source": [
    "df = DF.copy()\n",
    "df = df[(df.NDVI) != 0] # drop invalid points\n",
    "VEG_INDICES_NAMES = veg_indices.add_veg_indices(df) + ['NDVI'] \n",
    "df, VEG_DIFF_NAMES = veg_indices.get_added_veg_diff(df, VEG_INDICES_NAMES)\n",
    "NUMERIC_COLS = BANDS + VEG_INDICES_NAMES + VEG_DIFF_NAMES\n",
    "\n",
    "df = utilities.get_drop_after_harvest(df)# drop rows of non-harvest, after a harvest event in a farm ( a point )\n",
    "\n",
    "# For each 3-week image, standarize each column\n",
    "df = utilities.get_rm_outlier_standarize(df, NUMERIC_COLS, rm_outliers=False)\n",
    "\n",
    "# For each 3-week image, standarize each column, after removing outliers\n",
    "df_trimmed = utilities.get_rm_outlier_standarize(df, NUMERIC_COLS)\n",
    "\n",
    "print(df_trimmed.columns, df_trimmed.shape)"
   ]
  },
  {
   "attachments": {},
   "cell_type": "markdown",
   "metadata": {},
   "source": [
    "# NOTE: df_trimmed has NaN because we set outliers to NaN"
   ]
  },
  {
   "cell_type": "code",
   "execution_count": 7,
   "metadata": {},
   "outputs": [
    {
     "data": {
      "text/html": [
       "<div>\n",
       "<style scoped>\n",
       "    .dataframe tbody tr th:only-of-type {\n",
       "        vertical-align: middle;\n",
       "    }\n",
       "\n",
       "    .dataframe tbody tr th {\n",
       "        vertical-align: top;\n",
       "    }\n",
       "\n",
       "    .dataframe thead th {\n",
       "        text-align: right;\n",
       "    }\n",
       "</style>\n",
       "<table border=\"1\" class=\"dataframe\">\n",
       "  <thead>\n",
       "    <tr style=\"text-align: right;\">\n",
       "      <th></th>\n",
       "      <th>value</th>\n",
       "      <th>class</th>\n",
       "      <th>har_evnt</th>\n",
       "      <th>image_idx</th>\n",
       "      <th>start_date</th>\n",
       "    </tr>\n",
       "  </thead>\n",
       "  <tbody>\n",
       "    <tr>\n",
       "      <th>0</th>\n",
       "      <td>0.198261</td>\n",
       "      <td>B2</td>\n",
       "      <td>0.0</td>\n",
       "      <td>i4</td>\n",
       "      <td>2022-04-02</td>\n",
       "    </tr>\n",
       "    <tr>\n",
       "      <th>1</th>\n",
       "      <td>-1.759429</td>\n",
       "      <td>B2</td>\n",
       "      <td>0.0</td>\n",
       "      <td>i4</td>\n",
       "      <td>2022-04-02</td>\n",
       "    </tr>\n",
       "    <tr>\n",
       "      <th>2</th>\n",
       "      <td>-0.660002</td>\n",
       "      <td>B2</td>\n",
       "      <td>0.0</td>\n",
       "      <td>i4</td>\n",
       "      <td>2022-04-02</td>\n",
       "    </tr>\n",
       "    <tr>\n",
       "      <th>3</th>\n",
       "      <td>-0.993377</td>\n",
       "      <td>B2</td>\n",
       "      <td>0.0</td>\n",
       "      <td>i4</td>\n",
       "      <td>2022-04-02</td>\n",
       "    </tr>\n",
       "    <tr>\n",
       "      <th>4</th>\n",
       "      <td>-1.319658</td>\n",
       "      <td>B2</td>\n",
       "      <td>0.0</td>\n",
       "      <td>i4</td>\n",
       "      <td>2022-04-02</td>\n",
       "    </tr>\n",
       "    <tr>\n",
       "      <th>...</th>\n",
       "      <td>...</td>\n",
       "      <td>...</td>\n",
       "      <td>...</td>\n",
       "      <td>...</td>\n",
       "      <td>...</td>\n",
       "    </tr>\n",
       "    <tr>\n",
       "      <th>198</th>\n",
       "      <td>0.201554</td>\n",
       "      <td>NDVI_diff</td>\n",
       "      <td>False</td>\n",
       "      <td>i5</td>\n",
       "      <td>2022-04-23</td>\n",
       "    </tr>\n",
       "    <tr>\n",
       "      <th>199</th>\n",
       "      <td>-0.358327</td>\n",
       "      <td>NDVI_diff</td>\n",
       "      <td>False</td>\n",
       "      <td>i5</td>\n",
       "      <td>2022-04-23</td>\n",
       "    </tr>\n",
       "    <tr>\n",
       "      <th>200</th>\n",
       "      <td>-0.599542</td>\n",
       "      <td>NDVI_diff</td>\n",
       "      <td>False</td>\n",
       "      <td>i5</td>\n",
       "      <td>2022-04-23</td>\n",
       "    </tr>\n",
       "    <tr>\n",
       "      <th>201</th>\n",
       "      <td>-0.364269</td>\n",
       "      <td>NDVI_diff</td>\n",
       "      <td>False</td>\n",
       "      <td>i5</td>\n",
       "      <td>2022-04-23</td>\n",
       "    </tr>\n",
       "    <tr>\n",
       "      <th>202</th>\n",
       "      <td>0.332250</td>\n",
       "      <td>NDVI_diff</td>\n",
       "      <td>False</td>\n",
       "      <td>i5</td>\n",
       "      <td>2022-04-23</td>\n",
       "    </tr>\n",
       "  </tbody>\n",
       "</table>\n",
       "<p>204100 rows × 5 columns</p>\n",
       "</div>"
      ],
      "text/plain": [
       "        value      class har_evnt image_idx start_date\n",
       "0    0.198261         B2      0.0        i4 2022-04-02\n",
       "1   -1.759429         B2      0.0        i4 2022-04-02\n",
       "2   -0.660002         B2      0.0        i4 2022-04-02\n",
       "3   -0.993377         B2      0.0        i4 2022-04-02\n",
       "4   -1.319658         B2      0.0        i4 2022-04-02\n",
       "..        ...        ...      ...       ...        ...\n",
       "198  0.201554  NDVI_diff    False        i5 2022-04-23\n",
       "199 -0.358327  NDVI_diff    False        i5 2022-04-23\n",
       "200 -0.599542  NDVI_diff    False        i5 2022-04-23\n",
       "201 -0.364269  NDVI_diff    False        i5 2022-04-23\n",
       "202  0.332250  NDVI_diff    False        i5 2022-04-23\n",
       "\n",
       "[204100 rows x 5 columns]"
      ]
     },
     "execution_count": 7,
     "metadata": {},
     "output_type": "execute_result"
    }
   ],
   "source": [
    "stretched_df_trimmed = utilities.stretch_cols(df_trimmed, NUMERIC_COLS)\n",
    "stretched_df_trimmed"
   ]
  },
  {
   "attachments": {},
   "cell_type": "markdown",
   "metadata": {},
   "source": [
    "### Producing Box Plots per Numeric Column"
   ]
  },
  {
   "cell_type": "code",
   "execution_count": 8,
   "metadata": {},
   "outputs": [
    {
     "name": "stdout",
     "output_type": "stream",
     "text": [
      "skipping\n"
     ]
    }
   ],
   "source": [
    "%%script echo skipping\n",
    "\n",
    "def save_multi_image(filename):\n",
    "    pp = PdfPages(filename)\n",
    "    for sampleIdx in stretched_df_trimmed.image_idx.unique():\n",
    "        curr_df = stretched_df_trimmed[stretched_df_trimmed.image_idx == sampleIdx]\n",
    "        fig = plt.figure(figsize=(16,int(len(NUMERIC_COLS) * 1.5)))            # set showfliers to False to remove outliers\n",
    "        sns.boxplot(data=curr_df, x=\"value\", y=\"class\", hue=\"har_evnt\", showfliers = True).set(title= (\"Sample Index:\", sampleIdx))\n",
    "        fig.savefig(pp, format='pdf')\n",
    "        plt.close() # closing figure\n",
    "    pp.close()\n",
    "\n",
    "save_multi_image(\"../plots/box_plots/everything_trimmed_standarized.pdf\")"
   ]
  },
  {
   "attachments": {},
   "cell_type": "markdown",
   "metadata": {},
   "source": [
    "### Producing Separability Plots"
   ]
  },
  {
   "cell_type": "code",
   "execution_count": 10,
   "metadata": {},
   "outputs": [
    {
     "name": "stdout",
     "output_type": "stream",
     "text": [
      "skipping\n"
     ]
    }
   ],
   "source": [
    "%%script echo skipping\n",
    "\n",
    "def plot_lines_Mean_95CI(df: pd.DataFrame):\n",
    "    sns.set(rc={'figure.figsize':(len(BANDS) * 8, len(BANDS) * 5)})\n",
    "\n",
    "    fig, axes = plt.subplots(len(BANDS), 1)\n",
    "    fig.suptitle('Mean and 95% CI by Band')\n",
    "    fig.subplots_adjust(hspace=0.5, wspace=0.5)\n",
    "\n",
    "\n",
    "    for i in range(len(BANDS)):\n",
    "        band_name = BANDS[i]\n",
    "        sns.lineplot(ax=axes[i], x=\"finHarvDat\", y=band_name,\n",
    "            hue=\"har_evnt\",\n",
    "            data=df)\n",
    "        sns.scatterplot(ax=axes[i], data=df, x=\"finHarvDat\", y=band_name, hue=\"har_evnt\", style=\"har_evnt\", alpha=0.5)\n",
    "\n",
    "        ax2 = axes[i].twinx()\n",
    "        sns.histplot(ax=ax2, data=df, x=\"finHarvDat\", bins=40, element=\"step\", fill=False, color='green')\n",
    "        if(i % 2 == 0):\n",
    "            #axes[i].tick_params(bottom=False)\n",
    "            #axes[i].legend_.remove()\n",
    "            pass\n",
    "        title = (BANDS_DICT[band_name] + f' ({band_name})')\n",
    "        axes[i].set_title(title)\n",
    "    plt.close() # closing figure\n",
    "\n",
    "\n",
    "    utilities.saveFigsAsPDF([fig], \"../plots/line_plots/mean&CIByBand.pdf\")\n",
    "\n",
    "plot_lines_Mean_95CI(df.dropna(subset=[\"finHarvDat\"]))"
   ]
  },
  {
   "cell_type": "code",
   "execution_count": 11,
   "metadata": {},
   "outputs": [
    {
     "name": "stdout",
     "output_type": "stream",
     "text": [
      "skipping\n"
     ]
    }
   ],
   "source": [
    "%%script echo skipping\n",
    "\n",
    "def plot_lines_Median_IQR(df: pd.DataFrame):\n",
    "\n",
    "    sns.set(rc={'figure.figsize':(len(BANDS) * 8, len(BANDS) * 5)})\n",
    "    fig, axes = plt.subplots(len(BANDS), 1)\n",
    "    fig.suptitle('Median and IQR by Band')\n",
    "    fig.subplots_adjust(hspace=0.5, wspace=0.5)\n",
    "\n",
    "    # https://stackoverflow.com/questions/52525476/seaborn-lineplot-using-median-instead-of-mean\n",
    "    for i in range(len(BANDS)):\n",
    "        band_name = BANDS[i]\n",
    "        sns.lineplot(ax=axes[i], x=\"finHarvDat\", y=band_name,\n",
    "            hue=\"har_evnt\", estimator=\"median\",errorbar=(\"pi\", 50),# show inner quartile range #https://seaborn.pydata.org/tutorial/error_bars.html\n",
    "            data=df)\n",
    "        \n",
    "        sns.scatterplot(ax=axes[i], data=df, x=\"finHarvDat\", y=band_name, hue=\"har_evnt\", style=\"har_evnt\", alpha=0.5)\n",
    "\n",
    "        ax2 = axes[i].twinx()\n",
    "        sns.histplot(ax=ax2, data=df, x=\"finHarvDat\", bins=40, element=\"step\", fill=False, color='green')\n",
    "\n",
    "        if(i % 2 == 0):\n",
    "            #axes[i].tick_params(bottom=False)\n",
    "            #axes[i].legend_.remove()\n",
    "            pass\n",
    "\n",
    "        title = (BANDS_DICT[band_name] + f' ({band_name})')\n",
    "        axes[i].set_title(title)\n",
    "    plt.close() # closing figure\n",
    "    utilities.saveFigsAsPDF([fig], \"../plots/line_plots/median&IQRByBand.pdf\")\n",
    "\n",
    "plot_lines_Median_IQR(df.dropna(subset=[\"finHarvDat\"]))"
   ]
  },
  {
   "attachments": {},
   "cell_type": "markdown",
   "metadata": {},
   "source": [
    "## normalize using max value in each 3week period (aka image)\n"
   ]
  },
  {
   "cell_type": "code",
   "execution_count": 170,
   "metadata": {},
   "outputs": [],
   "source": [
    "def get_top_N_features(N:int, COLUMN_NAMES:list([str]), df_trimmed: pd.DataFrame):\n",
    "    dics = []\n",
    "    for i in range(0,4):\n",
    "        dataframes_dic = plots.plot_per_period(utilities.get_classes_colors(COLUMN_NAMES), df_trimmed,\n",
    "                                            COLUMN_NAMES, f\"../plots/bar_plots/seperability{i}.pdf\", metric=i)\n",
    "        dics.append(dataframes_dic)\n",
    "    \n",
    "    df_scores = pd.DataFrame({\"class\" : np.array(COLUMN_NAMES), \n",
    "                                \"score\": np.zeros(len(COLUMN_NAMES))}).set_index('class')\n",
    "\n",
    "    for i in range(4): # for each separability metric\n",
    "        curr_dic = dics[i]\n",
    "        for image_idx in sorted(dics[0].keys()): # [i6 i7 i8 i9]\n",
    "            curr_df = curr_dic[image_idx]\n",
    "            curr_df['score'] = np.array(curr_df['value'][:])\n",
    "            \n",
    "            if(i >= 2): # because the two other separability metrics results say that they are separable\n",
    "                            #   when the result is lower, opposite to the first two where the result is more \n",
    "                            #  separable when the value is higher\n",
    "                curr_df['score'] = 1/curr_df['score']\n",
    "                \n",
    "            curr_df.sort_values(by=['score'], ascending=False, inplace=True)\n",
    "            \n",
    "            # normalize based on the max value\n",
    "            curr_df['score'] = curr_df['score']/np.max(curr_df['score'])\n",
    "            \n",
    "            joined_df = df_scores.join(curr_df.set_index(\"class\"), how=\"left\", rsuffix=\"_right\")\n",
    "            joined_df['score_right'] = joined_df['score_right'].fillna(0) # replace nans with zeros\n",
    "            df_scores['score'] = df_scores['score'] + joined_df['score_right']\n",
    "        \n",
    "        \n",
    "    df_scores.sort_values(by=['score'],  ascending=False, inplace=True)\n",
    "    \n",
    "    TOP_FEATURES = list(df_scores[:N].index)\n",
    "    print()\n",
    "    print(TOP_FEATURES)\n",
    "    print()\n",
    "    \n",
    "    return TOP_FEATURES\n",
    "\n",
    "get_top_N_features(4, NUMERIC_COLS, df_trimmed)"
   ]
  },
  {
   "cell_type": "code",
   "execution_count": null,
   "metadata": {},
   "outputs": [],
   "source": []
  },
  {
   "cell_type": "code",
   "execution_count": null,
   "metadata": {},
   "outputs": [],
   "source": []
  }
 ],
 "metadata": {
  "kernelspec": {
   "display_name": "harvest-event-detec-Fyp2lGEN-py3.9",
   "language": "python",
   "name": "python3"
  },
  "language_info": {
   "codemirror_mode": {
    "name": "ipython",
    "version": 3
   },
   "file_extension": ".py",
   "mimetype": "text/x-python",
   "name": "python",
   "nbconvert_exporter": "python",
   "pygments_lexer": "ipython3",
   "version": "3.10.11"
  },
  "orig_nbformat": 4,
  "vscode": {
   "interpreter": {
    "hash": "0cf1faa60ab086dde8d867eb16c20b4bffc52bbf785c13cdda65e2052ce97abb"
   }
  }
 },
 "nbformat": 4,
 "nbformat_minor": 2
}

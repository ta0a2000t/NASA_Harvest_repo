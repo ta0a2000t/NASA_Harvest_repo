{
 "cells": [
  {
   "cell_type": "code",
   "execution_count": null,
   "metadata": {},
   "outputs": [],
   "source": [
    "import datetime\n",
    "import geopandas\n",
    "import numpy as np\n",
    "import pandas as pd\n",
    "import copy\n",
    "\n",
    "#from sklearn.datasets import fetch_mldata\n",
    "from sklearn.decomposition import PCA\n",
    "from sklearn.manifold import TSNE\n",
    "\n",
    " # to enable ipympl interactive interface for plots\n",
    "%matplotlib widget\n",
    "\n",
    "import matplotlib.pyplot as plt\n",
    "from mpl_toolkits.mplot3d import Axes3D\n",
    "import matplotlib.pyplot as plt\n",
    "import seaborn as sns\n"
   ]
  },
  {
   "cell_type": "code",
   "execution_count": null,
   "metadata": {},
   "outputs": [],
   "source": [
    "import time\n",
    "import matplotlib\n",
    "from distinctipy import distinctipy # generate N distinct colors\n"
   ]
  },
  {
   "cell_type": "code",
   "execution_count": null,
   "metadata": {},
   "outputs": [],
   "source": [
    "BANDS = ['B2', 'B3', 'B4', 'B5', 'B6', 'B7', 'B8', 'B8A', 'B11', 'B12']\n",
    "NUMERIC_COLS = BANDS + ['NDVI'] #[ 'NDVI_diff'] "
   ]
  },
  {
   "cell_type": "code",
   "execution_count": null,
   "metadata": {},
   "outputs": [],
   "source": [
    "DF = geopandas.read_file('../data/merged_samples_gdf.geojson')\n",
    "DF.rename(columns = {'is_within_period':'har_evnt'}, inplace = True)\n",
    "DF.shape"
   ]
  },
  {
   "cell_type": "code",
   "execution_count": null,
   "metadata": {},
   "outputs": [],
   "source": [
    "NUM_SAMPLES = len(np.unique(DF.sample_idx))\n",
    "DF.head()"
   ]
  },
  {
   "cell_type": "code",
   "execution_count": null,
   "metadata": {},
   "outputs": [],
   "source": [
    "indices = (DF.loc[(DF.har_evnt == True)]).point_idx\n",
    "points_with_change_df = DF.loc[(DF.point_idx).isin(indices)]\n",
    "points_with_change_df.shape # 366 * NUM_SAMPLES rows\n",
    "df = points_with_change_df"
   ]
  },
  {
   "cell_type": "code",
   "execution_count": null,
   "metadata": {},
   "outputs": [],
   "source": [
    "stretch_numeric_df = pd.DataFrame({'value':np.array([]), 'class':np.array([]), 'har_evnt': np.array([])})\n",
    "for col_name in NUMERIC_COLS:\n",
    "    curr_df = pd.DataFrame({'value': df[col_name], 'class':np.tile(np.array([col_name]), df.shape[0]), 'har_evnt':(df['har_evnt'] == True)})\n",
    "\n",
    "    stretch_numeric_df = pd.concat([stretch_numeric_df, curr_df])\n",
    "stretch_numeric_df"
   ]
  },
  {
   "cell_type": "code",
   "execution_count": null,
   "metadata": {},
   "outputs": [],
   "source": [
    "fig = plt.figure(figsize=(16,10))\n",
    "\n",
    "sns.boxplot(data=stretch_numeric_df, x=\"value\", y=\"class\", hue=\"har_evnt\")"
   ]
  },
  {
   "cell_type": "code",
   "execution_count": null,
   "metadata": {},
   "outputs": [],
   "source": [
    "pca = PCA(n_components=3)\n",
    "numeric_col_values = (df.loc[:, NUMERIC_COLS]).copy().values\n",
    "pca_result = pca.fit_transform(numeric_col_values)\n",
    "\n",
    "df['pca_one'] = pca_result[:,0]\n",
    "df['pca_two'] = pca_result[:,1] \n",
    "df['pca_three'] = pca_result[:,2]\n",
    "\n",
    "print('Explained variation per principal component: {}'.format(pca.explained_variance_ratio_))"
   ]
  },
  {
   "cell_type": "code",
   "execution_count": null,
   "metadata": {},
   "outputs": [],
   "source": [
    "fig = plt.figure(figsize=(16,10))\n",
    "sns.scatterplot(\n",
    "    x=\"pca_one\", y=\"pca_two\",\n",
    "    hue= 'sample_idx',\n",
    "    palette=sns.color_palette(\"brg\", NUM_SAMPLES),\n",
    "    data=df,\n",
    "    alpha=0.4,\n",
    "    legend=\"full\"\n",
    ")\n",
    "plt.show()"
   ]
  },
  {
   "cell_type": "code",
   "execution_count": null,
   "metadata": {},
   "outputs": [],
   "source": [
    "fig = plt.figure(figsize=(10,10))\n",
    "ax = fig.add_subplot(projection='3d')\n",
    "\n",
    "p = ax.scatter(\n",
    "    xs=df[\"pca_one\"], \n",
    "    ys=df[\"pca_two\"], \n",
    "    zs=df[\"pca_three\"], \n",
    "    color= df['har_evnt'].apply(lambda x: \"red\" if(x) else \"blue\"),\n",
    "    alpha=0.5\n",
    "    )\n",
    "\n",
    "ax.set_xlabel('pca-one')\n",
    "ax.set_ylabel('pca-two')\n",
    "ax.set_zlabel('pca-three')\n",
    "plt.show()"
   ]
  },
  {
   "cell_type": "code",
   "execution_count": null,
   "metadata": {},
   "outputs": [],
   "source": []
  },
  {
   "cell_type": "code",
   "execution_count": null,
   "metadata": {},
   "outputs": [],
   "source": [
    "colors = distinctipy.get_colors(NUM_SAMPLES)\n",
    "\n",
    "fig = plt.figure(figsize=(10,10))\n",
    "ax = fig.add_subplot(projection='3d')\n",
    "\n",
    "p = ax.scatter(\n",
    "    xs=df[\"pca_one\"], \n",
    "    ys=df[\"pca_two\"], \n",
    "    zs=df[\"pca_three\"], \n",
    "    color= df['sample_idx'].apply(lambda x: colors[int(x[1:])]),\n",
    "    alpha=0.5,\n",
    "    )\n",
    "\n",
    "ax.set_xlabel('pca-one')\n",
    "ax.set_ylabel('pca-two')\n",
    "ax.set_zlabel('pca-three')\n",
    "\n",
    "plt.show()"
   ]
  },
  {
   "cell_type": "code",
   "execution_count": null,
   "metadata": {},
   "outputs": [],
   "source": [
    "\n",
    "fig = plt.figure(figsize=(10,10))\n",
    "ax = fig.add_subplot(projection='3d')\n",
    "\n",
    "p = ax.scatter(\n",
    "    xs=df[\"pca_one\"], \n",
    "    ys=df[\"pca_two\"], \n",
    "    zs=df[\"pca_three\"], \n",
    "    c=df[\"NDVI\"], \n",
    "    cmap='brg'\n",
    "    )\n",
    "\n",
    "ax.set_xlabel('pca-one')\n",
    "ax.set_ylabel('pca-two')\n",
    "ax.set_zlabel('pca-three')\n",
    "\n",
    "fig.colorbar(p, ax=ax)\n",
    "plt.show()"
   ]
  },
  {
   "cell_type": "code",
   "execution_count": null,
   "metadata": {},
   "outputs": [],
   "source": [
    "time_start = time.time()\n",
    "tsne = TSNE(n_components=2, verbose=1, perplexity=40, n_iter=300)\n",
    "tsne_results = tsne.fit_transform(numeric_col_values)\n",
    "\n",
    "print('t-SNE done! Time elapsed: {} seconds'.format(time.time()-time_start))\n",
    "\n",
    "df['tsne_2d_one'] = tsne_results[:,0]\n",
    "df['tsne_2d_two'] = tsne_results[:,1]"
   ]
  },
  {
   "cell_type": "code",
   "execution_count": null,
   "metadata": {},
   "outputs": [],
   "source": [
    "fig = plt.figure(figsize=(16,10))\n",
    "\n",
    "sns.scatterplot(\n",
    "    x=\"tsne_2d_one\", y=\"tsne_2d_two\",\n",
    "    hue=\"sample_idx\",\n",
    "    palette=sns.color_palette(\"hls\", NUM_SAMPLES),\n",
    "    data=df,\n",
    "    legend=\"full\",\n",
    "    alpha=0.5\n",
    ")\n",
    "\n",
    "fig = plt.figure(figsize=(16,10))\n",
    "sns.scatterplot(\n",
    "    x=\"tsne_2d_one\", y=\"tsne_2d_two\",\n",
    "    hue=\"har_evnt\",\n",
    "    palette=sns.color_palette(\"hls\", 2),\n",
    "    data=df,\n",
    "    legend=\"full\",\n",
    "    alpha=0.5\n",
    ")"
   ]
  },
  {
   "cell_type": "code",
   "execution_count": null,
   "metadata": {},
   "outputs": [],
   "source": [
    "time_start = time.time()\n",
    "tsne = TSNE(n_components=3, verbose=1, perplexity=40, n_iter=300)\n",
    "tsne_results = tsne.fit_transform(numeric_col_values.copy())\n",
    "\n",
    "print('t-SNE done! Time elapsed: {} seconds'.format(time.time()-time_start))\n",
    "\n",
    "df['tsne_3d_one'] = tsne_results[:,0]\n",
    "df['tsne_3d_two'] = tsne_results[:,1]\n",
    "df['tsne_3d_three'] = tsne_results[:,2]"
   ]
  },
  {
   "cell_type": "code",
   "execution_count": null,
   "metadata": {},
   "outputs": [],
   "source": [
    "fig = plt.figure()\n",
    "ax = fig.add_subplot(projection='3d')\n",
    "\n",
    "p = ax.scatter(\n",
    "    xs=df[\"tsne_3d_one\"], \n",
    "    ys=df[\"tsne_3d_two\"], \n",
    "    zs=df[\"tsne_3d_three\"], \n",
    "    c=df[\"NDVI\"], \n",
    "    cmap='brg'\n",
    "    )\n",
    "\n",
    "ax.set_xlabel('tsne_3d_one')\n",
    "ax.set_ylabel('tsne_3d_two')\n",
    "ax.set_zlabel('tsne_3d_three')\n",
    "\n",
    "fig.colorbar(p, ax=ax)\n",
    "plt.show()\n",
    "\n",
    "\n",
    "\n",
    "fig = plt.figure(figsize=(10,10))\n",
    "ax = fig.add_subplot(projection='3d')\n",
    "\n",
    "p = ax.scatter(\n",
    "    xs=df[\"tsne_3d_one\"], \n",
    "    ys=df[\"tsne_3d_two\"], \n",
    "    zs=df[\"tsne_3d_three\"], \n",
    "    c=df[\"har_evnt\"],\n",
    "    cmap='Paired'\n",
    "    )\n",
    "\n",
    "ax.set_xlabel('tsne_3d_one')\n",
    "ax.set_ylabel('tsne_3d_two')\n",
    "ax.set_zlabel('tsne_3d_three')\n",
    "\n",
    "fig.colorbar(p, ax=ax)\n",
    "plt.show()"
   ]
  },
  {
   "cell_type": "code",
   "execution_count": null,
   "metadata": {},
   "outputs": [],
   "source": []
  },
  {
   "cell_type": "code",
   "execution_count": null,
   "metadata": {},
   "outputs": [],
   "source": [
    "x = np.empty(NUM_SAMPLES)\n",
    "y = np.zeros(NUM_SAMPLES)\n",
    "\n",
    "for sample_idx in range(NUM_SAMPLES):\n",
    "    curr_df = df.loc[df['sample_idx'] == 's'+sample_idx]\n",
    "    x = curr_df['']"
   ]
  },
  {
   "cell_type": "code",
   "execution_count": null,
   "metadata": {},
   "outputs": [],
   "source": [
    "\n",
    "title = \"finHarvDat By Sample's Date Range\"\n",
    "my_bins = pd.date_range(start=min(df.start_date), end=max(df.end_date),freq='3W')\n",
    "sns.displot(data=curr_df,x=\"finHarvDat\", bins=matplotlib.dates.date2num(my_bins)).set(title=title)\n"
   ]
  },
  {
   "cell_type": "code",
   "execution_count": null,
   "metadata": {},
   "outputs": [],
   "source": [
    "sns.displot(data=curr_df,x=\"finHarvDat\", bins=40)"
   ]
  },
  {
   "cell_type": "code",
   "execution_count": null,
   "metadata": {},
   "outputs": [],
   "source": []
  },
  {
   "cell_type": "code",
   "execution_count": null,
   "metadata": {},
   "outputs": [],
   "source": []
  }
 ],
 "metadata": {
  "kernelspec": {
   "display_name": "harvest-event-detec-Fyp2lGEN-py3.9",
   "language": "python",
   "name": "python3"
  },
  "language_info": {
   "codemirror_mode": {
    "name": "ipython",
    "version": 3
   },
   "file_extension": ".py",
   "mimetype": "text/x-python",
   "name": "python",
   "nbconvert_exporter": "python",
   "pygments_lexer": "ipython3",
   "version": "3.9.0"
  },
  "orig_nbformat": 4
 },
 "nbformat": 4,
 "nbformat_minor": 2
}

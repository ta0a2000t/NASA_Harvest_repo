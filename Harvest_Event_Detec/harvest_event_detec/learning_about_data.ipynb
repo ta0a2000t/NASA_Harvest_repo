{
 "cells": [
  {
   "attachments": {},
   "cell_type": "markdown",
   "metadata": {},
   "source": [
    "### Dataset from ee.ImageCollection(\"COPERNICUS/S2_SR_HARMONIZED\")\n",
    "https://developers.google.com/earth-engine/datasets/catalog/COPERNICUS_S2_SR_HARMONIZED"
   ]
  },
  {
   "cell_type": "code",
   "execution_count": 1,
   "metadata": {},
   "outputs": [],
   "source": [
    "import datetime\n",
    "import geopandas\n",
    "import numpy as np\n",
    "import pandas as pd\n",
    "pd.options.mode.chained_assignment = None  # default='warn'\n",
    "\n",
    "#from sklearn.datasets import fetch_mldata\n",
    "from sklearn.decomposition import PCA\n",
    "from sklearn.manifold import TSNE\n",
    "import matplotlib\n",
    "\n",
    " # to enable ipympl interactive interface for plots\n",
    "%matplotlib widget\n",
    "\n",
    "import matplotlib.pyplot as plt\n",
    "from mpl_toolkits.mplot3d import Axes3D\n",
    "import seaborn as sns\n",
    "\n",
    "from matplotlib.backends.backend_pdf import PdfPages"
   ]
  },
  {
   "cell_type": "code",
   "execution_count": 2,
   "metadata": {},
   "outputs": [],
   "source": [
    "import time\n",
    "import matplotlib\n",
    "from distinctipy import distinctipy # generate N distinct colors"
   ]
  },
  {
   "cell_type": "code",
   "execution_count": 3,
   "metadata": {},
   "outputs": [],
   "source": [
    "#local scripts\n",
    "from scripts import veg_indices, utilities, plots\n",
    "#from scripts.utilities import *"
   ]
  },
  {
   "cell_type": "code",
   "execution_count": 4,
   "metadata": {},
   "outputs": [],
   "source": [
    "BANDS_DICT = {   'B2': 'Blue',\n",
    "            'B3': 'Green',\n",
    "            'B4': 'Red',\n",
    "            'B5': 'Red_Edge_1',\n",
    "            'B6': 'Red_Edge_2',\n",
    "            'B7': 'Red_Edge_3',\n",
    "            'B8': 'NIR',\n",
    "            'B8A': 'Red_Edge_4',\n",
    "            'B11': 'SWIR_1',\n",
    "            'B12': 'SWIR_2'}\n",
    "\n",
    "BANDS = list(BANDS_DICT.keys())"
   ]
  },
  {
   "cell_type": "code",
   "execution_count": 5,
   "metadata": {},
   "outputs": [
    {
     "name": "stdout",
     "output_type": "stream",
     "text": [
      "Added:  ['RVI', 'ARVI', 'PSSRa', 'NDI45', 'GNDVI', 'MCARI', 'IRECI', 'CIr', 'MTCI', 'NDVIre', 'NIRv', 'EVI', 'NDTI', 'NDMI', 'MSI', 'GCI', 'NBRI', 'BSI', 'NDWI', 'NDSI']\n",
      "(not in place), created : ['RVI_diff', 'ARVI_diff', 'PSSRa_diff', 'NDI45_diff', 'GNDVI_diff', 'MCARI_diff', 'IRECI_diff', 'CIr_diff', 'MTCI_diff', 'NDVIre_diff', 'NIRv_diff', 'EVI_diff', 'NDTI_diff', 'NDMI_diff', 'MSI_diff', 'GCI_diff', 'NBRI_diff', 'BSI_diff', 'NDWI_diff', 'NDSI_diff', 'NDVI_diff']\n",
      "Index(['index', 'B11', 'B12', 'B2', 'B3', 'B4', 'B5', 'B6', 'B7', 'B8', 'B8A',\n",
      "       'NDVI', 'finHarvDat', 'lat', 'lon', 'point_idx', 'start_date',\n",
      "       'end_date', 'har_evnt', 'image_idx', 'geometry', 'RVI', 'ARVI', 'PSSRa',\n",
      "       'NDI45', 'GNDVI', 'MCARI', 'IRECI', 'CIr', 'MTCI', 'NDVIre', 'NIRv',\n",
      "       'EVI', 'NDTI', 'NDMI', 'MSI', 'GCI', 'NBRI', 'BSI', 'NDWI', 'NDSI',\n",
      "       'RVI_diff', 'ARVI_diff', 'PSSRa_diff', 'NDI45_diff', 'GNDVI_diff',\n",
      "       'MCARI_diff', 'IRECI_diff', 'CIr_diff', 'MTCI_diff', 'NDVIre_diff',\n",
      "       'NIRv_diff', 'EVI_diff', 'NDTI_diff', 'NDMI_diff', 'MSI_diff',\n",
      "       'GCI_diff', 'NBRI_diff', 'BSI_diff', 'NDWI_diff', 'NDSI_diff',\n",
      "       'NDVI_diff'],\n",
      "      dtype='object') (15326, 62)\n"
     ]
    }
   ],
   "source": [
    "df, NUMERIC_COLS, NUM_SAMPLES = utilities.get_df(\"merged_images_train\", veg_indices, BANDS)\n",
    "# For each 3-week image, standarize each column\n",
    "df = utilities.get_rm_outlier_standarize(df, NUMERIC_COLS, rm_outliers=False)"
   ]
  },
  {
   "cell_type": "code",
   "execution_count": 6,
   "metadata": {},
   "outputs": [
    {
     "name": "stdout",
     "output_type": "stream",
     "text": [
      "Index(['index', 'B11', 'B12', 'B2', 'B3', 'B4', 'B5', 'B6', 'B7', 'B8', 'B8A',\n",
      "       'NDVI', 'finHarvDat', 'lat', 'lon', 'point_idx', 'start_date',\n",
      "       'end_date', 'har_evnt', 'image_idx', 'geometry', 'RVI', 'ARVI', 'PSSRa',\n",
      "       'NDI45', 'GNDVI', 'MCARI', 'IRECI', 'CIr', 'MTCI', 'NDVIre', 'NIRv',\n",
      "       'EVI', 'NDTI', 'NDMI', 'MSI', 'GCI', 'NBRI', 'BSI', 'NDWI', 'NDSI',\n",
      "       'RVI_diff', 'ARVI_diff', 'PSSRa_diff', 'NDI45_diff', 'GNDVI_diff',\n",
      "       'MCARI_diff', 'IRECI_diff', 'CIr_diff', 'MTCI_diff', 'NDVIre_diff',\n",
      "       'NIRv_diff', 'EVI_diff', 'NDTI_diff', 'NDMI_diff', 'MSI_diff',\n",
      "       'GCI_diff', 'NBRI_diff', 'BSI_diff', 'NDWI_diff', 'NDSI_diff',\n",
      "       'NDVI_diff'],\n",
      "      dtype='object') (15326, 62)\n"
     ]
    }
   ],
   "source": [
    "# For each 3-week image, standarize each column, after removing outliers\n",
    "df_trimmed = utilities.get_rm_outlier_standarize(df, NUMERIC_COLS)\n",
    "\n",
    "print(df_trimmed.columns, df_trimmed.shape)"
   ]
  },
  {
   "attachments": {},
   "cell_type": "markdown",
   "metadata": {},
   "source": [
    "# NOTE: df_trimmed has NaN because we set outliers to NaN"
   ]
  },
  {
   "cell_type": "code",
   "execution_count": null,
   "metadata": {},
   "outputs": [],
   "source": [
    "stretched_df_trimmed = utilities.stretch_cols(df_trimmed, NUMERIC_COLS)\n",
    "stretched_df_trimmed"
   ]
  },
  {
   "attachments": {},
   "cell_type": "markdown",
   "metadata": {},
   "source": [
    "### Producing Box Plots per Numeric Column"
   ]
  },
  {
   "cell_type": "code",
   "execution_count": null,
   "metadata": {},
   "outputs": [],
   "source": [
    "%%script echo skipping\n",
    "\n",
    "def save_multi_image(filename):\n",
    "    pp = PdfPages(filename)\n",
    "    for sampleIdx in stretched_df_trimmed.image_idx.unique():\n",
    "        curr_df = stretched_df_trimmed[stretched_df_trimmed.image_idx == sampleIdx]\n",
    "        fig = plt.figure(figsize=(16,int(len(NUMERIC_COLS) * 1.5)))            # set showfliers to False to remove outliers\n",
    "        sns.boxplot(data=curr_df, x=\"value\", y=\"class\", hue=\"har_evnt\", showfliers = True).set(title= (\"Sample Index:\", sampleIdx))\n",
    "        fig.savefig(pp, format='pdf')\n",
    "        plt.close() # closing figure\n",
    "    pp.close()\n",
    "\n",
    "save_multi_image(\"../plots/box_plots/everything_trimmed_standarized.pdf\")"
   ]
  },
  {
   "attachments": {},
   "cell_type": "markdown",
   "metadata": {},
   "source": [
    "### Producing Separability Plots"
   ]
  },
  {
   "cell_type": "code",
   "execution_count": null,
   "metadata": {},
   "outputs": [],
   "source": [
    "%%script echo skipping\n",
    "\n",
    "def plot_lines_Mean_95CI(df: pd.DataFrame):\n",
    "    sns.set(rc={'figure.figsize':(len(BANDS) * 8, len(BANDS) * 5)})\n",
    "\n",
    "    fig, axes = plt.subplots(len(BANDS), 1)\n",
    "    fig.suptitle('Mean and 95% CI by Band')\n",
    "    fig.subplots_adjust(hspace=0.5, wspace=0.5)\n",
    "\n",
    "\n",
    "    for i in range(len(BANDS)):\n",
    "        band_name = BANDS[i]\n",
    "        sns.lineplot(ax=axes[i], x=\"finHarvDat\", y=band_name,\n",
    "            hue=\"har_evnt\",\n",
    "            data=df)\n",
    "        sns.scatterplot(ax=axes[i], data=df, x=\"finHarvDat\", y=band_name, hue=\"har_evnt\", style=\"har_evnt\", alpha=0.5)\n",
    "\n",
    "        ax2 = axes[i].twinx()\n",
    "        sns.histplot(ax=ax2, data=df, x=\"finHarvDat\", bins=40, element=\"step\", fill=False, color='green')\n",
    "        if(i % 2 == 0):\n",
    "            #axes[i].tick_params(bottom=False)\n",
    "            #axes[i].legend_.remove()\n",
    "            pass\n",
    "        title = (BANDS_DICT[band_name] + f' ({band_name})')\n",
    "        axes[i].set_title(title)\n",
    "    plt.close() # closing figure\n",
    "\n",
    "\n",
    "    utilities.saveFigsAsPDF([fig], \"../plots/line_plots/mean&CIByBand.pdf\")\n",
    "\n",
    "plot_lines_Mean_95CI(df.dropna(subset=[\"finHarvDat\"]))"
   ]
  },
  {
   "cell_type": "code",
   "execution_count": null,
   "metadata": {},
   "outputs": [],
   "source": [
    "%%script echo skipping\n",
    "\n",
    "def plot_lines_Median_IQR(df: pd.DataFrame):\n",
    "\n",
    "    sns.set(rc={'figure.figsize':(len(BANDS) * 8, len(BANDS) * 5)})\n",
    "    fig, axes = plt.subplots(len(BANDS), 1)\n",
    "    fig.suptitle('Median and IQR by Band')\n",
    "    fig.subplots_adjust(hspace=0.5, wspace=0.5)\n",
    "\n",
    "    # https://stackoverflow.com/questions/52525476/seaborn-lineplot-using-median-instead-of-mean\n",
    "    for i in range(len(BANDS)):\n",
    "        band_name = BANDS[i]\n",
    "        sns.lineplot(ax=axes[i], x=\"finHarvDat\", y=band_name,\n",
    "            hue=\"har_evnt\", estimator=\"median\",errorbar=(\"pi\", 50),# show inner quartile range #https://seaborn.pydata.org/tutorial/error_bars.html\n",
    "            data=df)\n",
    "        \n",
    "        sns.scatterplot(ax=axes[i], data=df, x=\"finHarvDat\", y=band_name, hue=\"har_evnt\", style=\"har_evnt\", alpha=0.5)\n",
    "\n",
    "        ax2 = axes[i].twinx()\n",
    "        sns.histplot(ax=ax2, data=df, x=\"finHarvDat\", bins=40, element=\"step\", fill=False, color='green')\n",
    "\n",
    "        if(i % 2 == 0):\n",
    "            #axes[i].tick_params(bottom=False)\n",
    "            #axes[i].legend_.remove()\n",
    "            pass\n",
    "\n",
    "        title = (BANDS_DICT[band_name] + f' ({band_name})')\n",
    "        axes[i].set_title(title)\n",
    "    plt.close() # closing figure\n",
    "    utilities.saveFigsAsPDF([fig], \"../plots/line_plots/median&IQRByBand.pdf\")\n",
    "\n",
    "plot_lines_Median_IQR(df.dropna(subset=[\"finHarvDat\"]))"
   ]
  },
  {
   "attachments": {},
   "cell_type": "markdown",
   "metadata": {},
   "source": [
    "## normalize using max value in each 3week period (aka image)\n"
   ]
  },
  {
   "cell_type": "code",
   "execution_count": 9,
   "metadata": {},
   "outputs": [
    {
     "name": "stderr",
     "output_type": "stream",
     "text": [
      "/Users/tahaal/Documents/GitHub/NASA_Harvest_repo/Harvest_Event_Detec/harvest_event_detec/scripts/utilities.py:212: RuntimeWarning: divide by zero encountered in log\n",
      "  return np.sum(np.where(A != 0, np.multiply(A, np.log(np.divide(A, M))), 0))\n",
      "/Users/tahaal/Documents/GitHub/NASA_Harvest_repo/Harvest_Event_Detec/harvest_event_detec/scripts/utilities.py:212: RuntimeWarning: invalid value encountered in multiply\n",
      "  return np.sum(np.where(A != 0, np.multiply(A, np.log(np.divide(A, M))), 0))\n",
      "/Users/tahaal/Documents/GitHub/NASA_Harvest_repo/Harvest_Event_Detec/harvest_event_detec/scripts/utilities.py:212: RuntimeWarning: invalid value encountered in divide\n",
      "  return np.sum(np.where(A != 0, np.multiply(A, np.log(np.divide(A, M))), 0))\n",
      "/Users/tahaal/Documents/GitHub/NASA_Harvest_repo/Harvest_Event_Detec/harvest_event_detec/scripts/utilities.py:212: RuntimeWarning: invalid value encountered in divide\n",
      "  return np.sum(np.where(A != 0, np.multiply(A, np.log(np.divide(A, M))), 0))\n",
      "/Users/tahaal/Documents/GitHub/NASA_Harvest_repo/Harvest_Event_Detec/harvest_event_detec/scripts/utilities.py:212: RuntimeWarning: divide by zero encountered in log\n",
      "  return np.sum(np.where(A != 0, np.multiply(A, np.log(np.divide(A, M))), 0))\n",
      "/Users/tahaal/Documents/GitHub/NASA_Harvest_repo/Harvest_Event_Detec/harvest_event_detec/scripts/utilities.py:212: RuntimeWarning: invalid value encountered in multiply\n",
      "  return np.sum(np.where(A != 0, np.multiply(A, np.log(np.divide(A, M))), 0))\n",
      "/Users/tahaal/Documents/GitHub/NASA_Harvest_repo/Harvest_Event_Detec/harvest_event_detec/scripts/utilities.py:212: RuntimeWarning: divide by zero encountered in log\n",
      "  return np.sum(np.where(A != 0, np.multiply(A, np.log(np.divide(A, M))), 0))\n",
      "/Users/tahaal/Documents/GitHub/NASA_Harvest_repo/Harvest_Event_Detec/harvest_event_detec/scripts/utilities.py:212: RuntimeWarning: invalid value encountered in multiply\n",
      "  return np.sum(np.where(A != 0, np.multiply(A, np.log(np.divide(A, M))), 0))\n"
     ]
    },
    {
     "name": "stdout",
     "output_type": "stream",
     "text": [
      "\n",
      "['B8', 'RVI', 'IRECI_diff', 'B4', 'NBRI_diff', 'NDTI_diff', 'MSI', 'NDMI_diff', 'CIr', 'NDI45', 'NDMI', 'NDI45_diff', 'BSI', 'NIRv', 'ARVI']\n",
      "\n"
     ]
    },
    {
     "data": {
      "text/plain": [
       "['B8',\n",
       " 'RVI',\n",
       " 'IRECI_diff',\n",
       " 'B4',\n",
       " 'NBRI_diff',\n",
       " 'NDTI_diff',\n",
       " 'MSI',\n",
       " 'NDMI_diff',\n",
       " 'CIr',\n",
       " 'NDI45',\n",
       " 'NDMI',\n",
       " 'NDI45_diff',\n",
       " 'BSI',\n",
       " 'NIRv',\n",
       " 'ARVI']"
      ]
     },
     "execution_count": 9,
     "metadata": {},
     "output_type": "execute_result"
    }
   ],
   "source": [
    "def get_top_N_features(N:int, COLUMN_NAMES:list([str]), df_trimmed: pd.DataFrame):\n",
    "    dics = []\n",
    "    for i in range(0,4):\n",
    "        dataframes_dic = plots.plot_per_period(utilities.get_classes_colors(COLUMN_NAMES), df_trimmed,\n",
    "                                            COLUMN_NAMES, f\"../plots/bar_plots/seperability{i}.pdf\", metric=i)\n",
    "        dics.append(dataframes_dic)\n",
    "    \n",
    "    df_scores = pd.DataFrame({\"class\" : np.array(COLUMN_NAMES), \n",
    "                                \"score\": np.zeros(len(COLUMN_NAMES))}).set_index('class')\n",
    "\n",
    "    for i in range(4): # for each separability metric\n",
    "        curr_dic = dics[i]\n",
    "        for image_idx in sorted(dics[0].keys()): # [i6 i7 i8 i9]\n",
    "            curr_df = curr_dic[image_idx]\n",
    "            curr_df['score'] = np.array(curr_df['value'][:])\n",
    "            \n",
    "            if(i >= 2): # because the two other separability metrics results say that they are separable\n",
    "                            #   when the result is lower, opposite to the first two where the result is more \n",
    "                            #  separable when the value is higher\n",
    "                curr_df['score'] = 1/curr_df['score']\n",
    "                \n",
    "            curr_df.sort_values(by=['score'], ascending=False, inplace=True)\n",
    "            \n",
    "            # normalize based on the max value\n",
    "            curr_df['score'] = curr_df['score']/np.max(curr_df['score'])\n",
    "            \n",
    "            joined_df = df_scores.join(curr_df.set_index(\"class\"), how=\"left\", rsuffix=\"_right\")\n",
    "            joined_df['score_right'] = joined_df['score_right'].fillna(0) # replace nans with zeros\n",
    "            df_scores['score'] = df_scores['score'] + joined_df['score_right']\n",
    "        \n",
    "        \n",
    "    df_scores.sort_values(by=['score'],  ascending=False, inplace=True)\n",
    "    \n",
    "    TOP_FEATURES = list(df_scores[:N].index)\n",
    "    print()\n",
    "    print(TOP_FEATURES)\n",
    "    print()\n",
    "    \n",
    "    return TOP_FEATURES\n",
    "\n",
    "get_top_N_features(15, NUMERIC_COLS, df_trimmed)"
   ]
  },
  {
   "cell_type": "code",
   "execution_count": null,
   "metadata": {},
   "outputs": [],
   "source": []
  },
  {
   "cell_type": "code",
   "execution_count": null,
   "metadata": {},
   "outputs": [],
   "source": []
  }
 ],
 "metadata": {
  "kernelspec": {
   "display_name": "harvest-event-detec-Fyp2lGEN-py3.9",
   "language": "python",
   "name": "python3"
  },
  "language_info": {
   "codemirror_mode": {
    "name": "ipython",
    "version": 3
   },
   "file_extension": ".py",
   "mimetype": "text/x-python",
   "name": "python",
   "nbconvert_exporter": "python",
   "pygments_lexer": "ipython3",
   "version": "3.10.11"
  },
  "orig_nbformat": 4,
  "vscode": {
   "interpreter": {
    "hash": "0cf1faa60ab086dde8d867eb16c20b4bffc52bbf785c13cdda65e2052ce97abb"
   }
  }
 },
 "nbformat": 4,
 "nbformat_minor": 2
}

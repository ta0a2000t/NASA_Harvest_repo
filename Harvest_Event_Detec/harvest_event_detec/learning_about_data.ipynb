{
 "cells": [
  {
   "attachments": {},
   "cell_type": "markdown",
   "metadata": {},
   "source": [
    "### Dataset from ee.ImageCollection(\"COPERNICUS/S2_SR_HARMONIZED\")\n",
    "https://developers.google.com/earth-engine/datasets/catalog/COPERNICUS_S2_SR_HARMONIZED"
   ]
  },
  {
   "cell_type": "code",
   "execution_count": 1,
   "metadata": {},
   "outputs": [],
   "source": [
    "import datetime\n",
    "import geopandas\n",
    "import numpy as np\n",
    "import pandas as pd\n",
    "pd.options.mode.chained_assignment = None  # default='warn'\n",
    "\n",
    "#from sklearn.datasets import fetch_mldata\n",
    "from sklearn.decomposition import PCA\n",
    "from sklearn.manifold import TSNE\n",
    "import matplotlib\n",
    "\n",
    " # to enable ipympl interactive interface for plots\n",
    "%matplotlib widget\n",
    "\n",
    "import matplotlib.pyplot as plt\n",
    "from mpl_toolkits.mplot3d import Axes3D\n",
    "import seaborn as sns\n",
    "\n",
    "from matplotlib.backends.backend_pdf import PdfPages"
   ]
  },
  {
   "cell_type": "code",
   "execution_count": 2,
   "metadata": {},
   "outputs": [],
   "source": [
    "import time\n",
    "import matplotlib\n",
    "from distinctipy import distinctipy # generate N distinct colors"
   ]
  },
  {
   "cell_type": "code",
   "execution_count": 3,
   "metadata": {},
   "outputs": [],
   "source": [
    "#local scripts\n",
    "from scripts import veg_indices, utilities, plots\n",
    "#from scripts.utilities import *"
   ]
  },
  {
   "cell_type": "code",
   "execution_count": 4,
   "metadata": {},
   "outputs": [],
   "source": [
    "BANDS_DICT = {   'B2': 'Blue',\n",
    "            'B3': 'Green',\n",
    "            'B4': 'Red',\n",
    "            'B5': 'Red_Edge_1',\n",
    "            'B6': 'Red_Edge_2',\n",
    "            'B7': 'Red_Edge_3',\n",
    "            'B8': 'NIR',\n",
    "            'B8A': 'Red_Edge_4',\n",
    "            'B11': 'SWIR_1',\n",
    "            'B12': 'SWIR_2'}\n",
    "\n",
    "BANDS = list(BANDS_DICT.keys())"
   ]
  },
  {
   "cell_type": "code",
   "execution_count": 5,
   "metadata": {},
   "outputs": [],
   "source": [
    "NUMERIC_COLS = ['B2','B3','B4','B5','B6','B7','B8','B8A','B11','B12','RVI',\n",
    "                'ARVI','PSSRa','NDI45','GNDVI','MCARI','IRECI','CIr','MTCI',\n",
    "                'NDVIre','NIRv','EVI','NDTI','NDMI','MSI','GCI','NBRI','BSI',\n",
    "                'NDWI','NDSI','NDVI','RVI_diff','ARVI_diff','PSSRa_diff',\n",
    "                'NDI45_diff','GNDVI_diff','MCARI_diff','IRECI_diff','CIr_diff',\n",
    "                'MTCI_diff','NDVIre_diff','NIRv_diff','EVI_diff','NDTI_diff',\n",
    "                'NDMI_diff','MSI_diff','GCI_diff','NBRI_diff','BSI_diff','NDWI_diff',\n",
    "                'NDSI_diff','NDVI_diff','RVI_prev','ARVI_prev','PSSRa_prev','NDI45_prev',\n",
    "                'GNDVI_prev','MCARI_prev','IRECI_prev','CIr_prev','MTCI_prev','NDVIre_prev',\n",
    "                'NIRv_prev','EVI_prev','NDTI_prev','NDMI_prev','MSI_prev','GCI_prev',\n",
    "                'NBRI_prev','BSI_prev','NDWI_prev','NDSI_prev','NDVI_prev']\n",
    "\n",
    "NUM_SAMPLES = 16"
   ]
  },
  {
   "cell_type": "code",
   "execution_count": 6,
   "metadata": {},
   "outputs": [],
   "source": [
    "file_name = \"merged_images_groundTruth\"\n",
    "df = geopandas.read_file(f'../data/{file_name}')\n",
    "\n",
    "# For each 3-week image, standarize each column, after removing outliers\n",
    "df_trimmed = utilities.get_rm_outlier_standarize(df, NUMERIC_COLS, rm_outliers=True)"
   ]
  },
  {
   "cell_type": "code",
   "execution_count": 7,
   "metadata": {},
   "outputs": [
    {
     "name": "stdout",
     "output_type": "stream",
     "text": [
      "Index(['level_0', 'INDEX', 'index', 'B11', 'B12', 'B2', 'B3', 'B4', 'B5', 'B6',\n",
      "       'B7', 'B8', 'B8A', 'NDVI', 'finHarvDat', 'lat', 'lon', 'point_idx',\n",
      "       'start_date', 'end_date', 'har_evnt', 'image_idx', 'RVI', 'ARVI',\n",
      "       'PSSRa', 'NDI45', 'GNDVI', 'MCARI', 'IRECI', 'CIr', 'MTCI', 'NDVIre',\n",
      "       'NIRv', 'EVI', 'NDTI', 'NDMI', 'MSI', 'GCI', 'NBRI', 'BSI', 'NDWI',\n",
      "       'NDSI', 'RVI_prev', 'ARVI_prev', 'PSSRa_prev', 'NDI45_prev',\n",
      "       'GNDVI_prev', 'MCARI_prev', 'IRECI_prev', 'CIr_prev', 'MTCI_prev',\n",
      "       'NDVIre_prev', 'NIRv_prev', 'EVI_prev', 'NDTI_prev', 'NDMI_prev',\n",
      "       'MSI_prev', 'GCI_prev', 'NBRI_prev', 'BSI_prev', 'NDWI_prev',\n",
      "       'NDSI_prev', 'NDVI_prev', 'RVI_diff', 'ARVI_diff', 'PSSRa_diff',\n",
      "       'NDI45_diff', 'GNDVI_diff', 'MCARI_diff', 'IRECI_diff', 'CIr_diff',\n",
      "       'MTCI_diff', 'NDVIre_diff', 'NIRv_diff', 'EVI_diff', 'NDTI_diff',\n",
      "       'NDMI_diff', 'MSI_diff', 'GCI_diff', 'NBRI_diff', 'BSI_diff',\n",
      "       'NDWI_diff', 'NDSI_diff', 'NDVI_diff', 'geometry'],\n",
      "      dtype='object') (1682, 85)\n"
     ]
    }
   ],
   "source": [
    "\n",
    "print(df_trimmed.columns, df_trimmed.shape)"
   ]
  },
  {
   "attachments": {},
   "cell_type": "markdown",
   "metadata": {},
   "source": [
    "# NOTE: df_trimmed has NaN because we set outliers to NaN"
   ]
  },
  {
   "cell_type": "code",
   "execution_count": null,
   "metadata": {},
   "outputs": [],
   "source": [
    "stretched_df_trimmed = utilities.stretch_cols(df_trimmed, NUMERIC_COLS)\n",
    "stretched_df_trimmed"
   ]
  },
  {
   "attachments": {},
   "cell_type": "markdown",
   "metadata": {},
   "source": [
    "### Producing Box Plots per Numeric Column"
   ]
  },
  {
   "cell_type": "code",
   "execution_count": null,
   "metadata": {},
   "outputs": [],
   "source": [
    "%%script echo skipping\n",
    "\n",
    "def save_multi_image(filename):\n",
    "    pp = PdfPages(filename)\n",
    "    for sampleIdx in stretched_df_trimmed.image_idx.unique():\n",
    "        curr_df = stretched_df_trimmed[stretched_df_trimmed.image_idx == sampleIdx]\n",
    "        fig = plt.figure(figsize=(16,int(len(NUMERIC_COLS) * 1.5)))            # set showfliers to False to remove outliers\n",
    "        sns.boxplot(data=curr_df, x=\"value\", y=\"class\", hue=\"har_evnt\", showfliers = True).set(title= (\"Sample Index:\", sampleIdx))\n",
    "        fig.savefig(pp, format='pdf')\n",
    "        plt.close() # closing figure\n",
    "    pp.close()\n",
    "\n",
    "save_multi_image(\"../plots/box_plots/everything_trimmed_standarized.pdf\")"
   ]
  },
  {
   "attachments": {},
   "cell_type": "markdown",
   "metadata": {},
   "source": [
    "### Producing Separability Plots"
   ]
  },
  {
   "cell_type": "code",
   "execution_count": null,
   "metadata": {},
   "outputs": [],
   "source": [
    "%%script echo skipping\n",
    "\n",
    "def plot_lines_Mean_95CI(df: pd.DataFrame):\n",
    "    sns.set(rc={'figure.figsize':(len(BANDS) * 8, len(BANDS) * 5)})\n",
    "\n",
    "    fig, axes = plt.subplots(len(BANDS), 1)\n",
    "    fig.suptitle('Mean and 95% CI by Band')\n",
    "    fig.subplots_adjust(hspace=0.5, wspace=0.5)\n",
    "\n",
    "\n",
    "    for i in range(len(BANDS)):\n",
    "        band_name = BANDS[i]\n",
    "        sns.lineplot(ax=axes[i], x=\"finHarvDat\", y=band_name,\n",
    "            hue=\"har_evnt\",\n",
    "            data=df)\n",
    "        sns.scatterplot(ax=axes[i], data=df, x=\"finHarvDat\", y=band_name, hue=\"har_evnt\", style=\"har_evnt\", alpha=0.5)\n",
    "\n",
    "        ax2 = axes[i].twinx()\n",
    "        sns.histplot(ax=ax2, data=df, x=\"finHarvDat\", bins=40, element=\"step\", fill=False, color='green')\n",
    "        if(i % 2 == 0):\n",
    "            #axes[i].tick_params(bottom=False)\n",
    "            #axes[i].legend_.remove()\n",
    "            pass\n",
    "        title = (BANDS_DICT[band_name] + f' ({band_name})')\n",
    "        axes[i].set_title(title)\n",
    "    plt.close() # closing figure\n",
    "\n",
    "\n",
    "    utilities.saveFigsAsPDF([fig], \"../plots/line_plots/mean&CIByBand.pdf\")\n",
    "\n",
    "plot_lines_Mean_95CI(df.dropna(subset=[\"finHarvDat\"]))"
   ]
  },
  {
   "cell_type": "code",
   "execution_count": null,
   "metadata": {},
   "outputs": [],
   "source": [
    "%%script echo skipping\n",
    "\n",
    "def plot_lines_Median_IQR(df: pd.DataFrame):\n",
    "\n",
    "    sns.set(rc={'figure.figsize':(len(BANDS) * 8, len(BANDS) * 5)})\n",
    "    fig, axes = plt.subplots(len(BANDS), 1)\n",
    "    fig.suptitle('Median and IQR by Band')\n",
    "    fig.subplots_adjust(hspace=0.5, wspace=0.5)\n",
    "\n",
    "    # https://stackoverflow.com/questions/52525476/seaborn-lineplot-using-median-instead-of-mean\n",
    "    for i in range(len(BANDS)):\n",
    "        band_name = BANDS[i]\n",
    "        sns.lineplot(ax=axes[i], x=\"finHarvDat\", y=band_name,\n",
    "            hue=\"har_evnt\", estimator=\"median\",errorbar=(\"pi\", 50),# show inner quartile range #https://seaborn.pydata.org/tutorial/error_bars.html\n",
    "            data=df)\n",
    "        \n",
    "        sns.scatterplot(ax=axes[i], data=df, x=\"finHarvDat\", y=band_name, hue=\"har_evnt\", style=\"har_evnt\", alpha=0.5)\n",
    "\n",
    "        ax2 = axes[i].twinx()\n",
    "        sns.histplot(ax=ax2, data=df, x=\"finHarvDat\", bins=40, element=\"step\", fill=False, color='green')\n",
    "\n",
    "        if(i % 2 == 0):\n",
    "            #axes[i].tick_params(bottom=False)\n",
    "            #axes[i].legend_.remove()\n",
    "            pass\n",
    "\n",
    "        title = (BANDS_DICT[band_name] + f' ({band_name})')\n",
    "        axes[i].set_title(title)\n",
    "    plt.close() # closing figure\n",
    "    utilities.saveFigsAsPDF([fig], \"../plots/line_plots/median&IQRByBand.pdf\")\n",
    "\n",
    "plot_lines_Median_IQR(df.dropna(subset=[\"finHarvDat\"]))"
   ]
  },
  {
   "attachments": {},
   "cell_type": "markdown",
   "metadata": {},
   "source": [
    "## normalize using max value in each 3week period (aka image)\n"
   ]
  },
  {
   "cell_type": "code",
   "execution_count": 8,
   "metadata": {},
   "outputs": [],
   "source": [
    "def get_top_N_features(N:int, COLUMN_NAMES:list([str]), df_trimmed: pd.DataFrame):\n",
    "    dics = []\n",
    "    for i in range(0,4):\n",
    "        dataframes_dic = plots.plot_per_period(utilities.get_classes_colors(COLUMN_NAMES), df_trimmed,\n",
    "                                            COLUMN_NAMES, f\"../plots/bar_plots/seperability{i}.pdf\", metric=i)\n",
    "        dics.append(dataframes_dic)\n",
    "    \n",
    "    df_scores = pd.DataFrame({\"class\" : np.array(COLUMN_NAMES), \n",
    "                                \"score\": np.zeros(len(COLUMN_NAMES))}).set_index('class')\n",
    "\n",
    "    for i in range(4): # for each separability metric\n",
    "        curr_dic = dics[i]\n",
    "        for image_idx in sorted(dics[0].keys()): # [i7 i8 i9]\n",
    "            curr_df = curr_dic[image_idx]\n",
    "            curr_df['score'] = np.array(curr_df['value'][:])\n",
    "            \n",
    "            if(i >= 2): # because the two other separability metrics results say that they are separable\n",
    "                            #   when the result is lower, opposite to the first two where the result is more \n",
    "                            #  separable when the value is higher\n",
    "                curr_df['score'] = 1/curr_df['score']\n",
    "                \n",
    "            curr_df.sort_values(by=['score'], ascending=False, inplace=True)\n",
    "            \n",
    "            # normalize based on the max value\n",
    "            curr_df['score'] = curr_df['score']/np.max(curr_df['score'])\n",
    "            \n",
    "            joined_df = df_scores.join(curr_df.set_index(\"class\"), how=\"left\", rsuffix=\"_right\")\n",
    "            joined_df['score_right'] = joined_df['score_right'].fillna(0) # replace nans with zeros\n",
    "            df_scores['score'] = df_scores['score'] + joined_df['score_right']\n",
    "        \n",
    "        \n",
    "    df_scores.sort_values(by=['score'],  ascending=False, inplace=True)\n",
    "    TOP_FEATURES = list(df_scores[:N].index)\n",
    "    \n",
    "    return df_scores\n",
    "\n",
    "res = get_top_N_features(15, NUMERIC_COLS, df_trimmed)\n",
    "# from these indices, some of them can be derived from planet satalite, which is great\n",
    "# these findings can be used to improve the prediction that is already in use using planet satalite"
   ]
  },
  {
   "cell_type": "code",
   "execution_count": 9,
   "metadata": {},
   "outputs": [],
   "source": [
    "res.to_csv(\"top_feats.csv\")"
   ]
  },
  {
   "cell_type": "code",
   "execution_count": 10,
   "metadata": {},
   "outputs": [
    {
     "data": {
      "text/plain": [
       "Index(['NDVI', 'RVI', 'BSI', 'MCARI_prev', 'B4', 'RVI_prev', 'GNDVI', 'NDWI',\n",
       "       'ARVI', 'B12', 'NDVI_prev', 'B3', 'NBRI', 'MSI_prev', 'NDI45', 'B2',\n",
       "       'PSSRa', 'NDVIre', 'NBRI_prev', 'B11', 'GCI', 'NDVIre_prev', 'EVI_prev',\n",
       "       'GNDVI_prev', 'NDWI_prev', 'NIRv_diff', 'EVI', 'NDMI_prev', 'B5',\n",
       "       'PSSRa_prev', 'GCI_prev', 'MSI', 'NDTI', 'MTCI_prev', 'CIr', 'BSI_prev',\n",
       "       'NDMI', 'GCI_diff', 'NDTI_diff', 'NDI45_prev', 'MCARI', 'CIr_prev',\n",
       "       'IRECI_prev', 'CIr_diff', 'MSI_diff', 'MTCI', 'IRECI', 'B6',\n",
       "       'NDTI_prev', 'NDSI_prev', 'GNDVI_diff', 'NDWI_diff', 'NIRv', 'B8',\n",
       "       'ARVI_prev', 'NDSI', 'PSSRa_diff', 'MTCI_diff', 'NBRI_diff',\n",
       "       'NDI45_diff', 'RVI_diff', 'IRECI_diff', 'NIRv_prev', 'NDMI_diff',\n",
       "       'NDSI_diff', 'MCARI_diff', 'BSI_diff', 'EVI_diff', 'NDVI_diff', 'B7',\n",
       "       'B8A', 'NDVIre_diff', 'ARVI_diff'],\n",
       "      dtype='object', name='class')"
      ]
     },
     "execution_count": 10,
     "metadata": {},
     "output_type": "execute_result"
    }
   ],
   "source": [
    "res.T.columns"
   ]
  },
  {
   "cell_type": "code",
   "execution_count": 11,
   "metadata": {},
   "outputs": [
    {
     "data": {
      "text/html": [
       "<div>\n",
       "<style scoped>\n",
       "    .dataframe tbody tr th:only-of-type {\n",
       "        vertical-align: middle;\n",
       "    }\n",
       "\n",
       "    .dataframe tbody tr th {\n",
       "        vertical-align: top;\n",
       "    }\n",
       "\n",
       "    .dataframe thead th {\n",
       "        text-align: right;\n",
       "    }\n",
       "</style>\n",
       "<table border=\"1\" class=\"dataframe\">\n",
       "  <thead>\n",
       "    <tr style=\"text-align: right;\">\n",
       "      <th></th>\n",
       "      <th>score</th>\n",
       "    </tr>\n",
       "    <tr>\n",
       "      <th>class</th>\n",
       "      <th></th>\n",
       "    </tr>\n",
       "  </thead>\n",
       "  <tbody>\n",
       "    <tr>\n",
       "      <th>NDVI</th>\n",
       "      <td>7.100975</td>\n",
       "    </tr>\n",
       "    <tr>\n",
       "      <th>RVI</th>\n",
       "      <td>7.074619</td>\n",
       "    </tr>\n",
       "    <tr>\n",
       "      <th>BSI</th>\n",
       "      <td>7.017032</td>\n",
       "    </tr>\n",
       "    <tr>\n",
       "      <th>MCARI_prev</th>\n",
       "      <td>6.307646</td>\n",
       "    </tr>\n",
       "    <tr>\n",
       "      <th>B4</th>\n",
       "      <td>6.104225</td>\n",
       "    </tr>\n",
       "  </tbody>\n",
       "</table>\n",
       "</div>"
      ],
      "text/plain": [
       "               score\n",
       "class               \n",
       "NDVI        7.100975\n",
       "RVI         7.074619\n",
       "BSI         7.017032\n",
       "MCARI_prev  6.307646\n",
       "B4          6.104225"
      ]
     },
     "execution_count": 11,
     "metadata": {},
     "output_type": "execute_result"
    }
   ],
   "source": [
    "res.head()"
   ]
  },
  {
   "cell_type": "code",
   "execution_count": null,
   "metadata": {},
   "outputs": [],
   "source": [
    "['NDVI', 'RVI', 'BSI', 'MCARI_prev', 'B4']"
   ]
  },
  {
   "cell_type": "code",
   "execution_count": null,
   "metadata": {},
   "outputs": [],
   "source": [
    "# recommend to use indices with B11 and/or B12 for sentinel-based prediction\n",
    "\n",
    "# recommend to use indices with lower Bs for planet-based prediction"
   ]
  },
  {
   "cell_type": "code",
   "execution_count": null,
   "metadata": {},
   "outputs": [],
   "source": [
    "    \"\"\"\n",
    "    We need to investigate if using sentinel-2 based indices &\n",
    "    bands are better performing compared to those based on bands dependent on planet satalite\n",
    "    \n",
    "    \n",
    "    \"\"\""
   ]
  },
  {
   "cell_type": "code",
   "execution_count": null,
   "metadata": {},
   "outputs": [],
   "source": [
    "\"\"\"\n",
    "background (3 slides)\n",
    "\n",
    "purpose:\n",
    "\n",
    "\n",
    "\n",
    "conclusions:\n",
    "planet data recommendations\n",
    "sentinel-2 data recommendations\n",
    "\n",
    "\n",
    "last slide:\n",
    "\n",
    "mention potentional effects on future applications\n",
    "\n",
    "# mention future potential improvements:\n",
    "- using a pretrained model & fine tune the last layers for our remote sensing purposes\n",
    "- have multiple models for differnt parts of the year. Our scoring approach takes in consideration \n",
    "            the performance across the harvest season, but we found that some bands & indices \n",
    "                    perform better at differnt parts of the hervest season: for example, B12 \n",
    "                        is really good later in the summer(August), but not that good in other months.\n",
    "\n",
    "\"\"\"\n",
    "    "
   ]
  },
  {
   "cell_type": "code",
   "execution_count": null,
   "metadata": {},
   "outputs": [],
   "source": [
    "#planet bands: RGB & NIR"
   ]
  }
 ],
 "metadata": {
  "kernelspec": {
   "display_name": "harvest-event-detec-Fyp2lGEN-py3.9",
   "language": "python",
   "name": "python3"
  },
  "language_info": {
   "codemirror_mode": {
    "name": "ipython",
    "version": 3
   },
   "file_extension": ".py",
   "mimetype": "text/x-python",
   "name": "python",
   "nbconvert_exporter": "python",
   "pygments_lexer": "ipython3",
   "version": "3.10.11"
  },
  "orig_nbformat": 4,
  "vscode": {
   "interpreter": {
    "hash": "0cf1faa60ab086dde8d867eb16c20b4bffc52bbf785c13cdda65e2052ce97abb"
   }
  }
 },
 "nbformat": 4,
 "nbformat_minor": 2
}

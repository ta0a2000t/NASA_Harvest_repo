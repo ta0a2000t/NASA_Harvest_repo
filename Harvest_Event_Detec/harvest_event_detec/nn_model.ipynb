{
 "cells": [
  {
   "attachments": {},
   "cell_type": "markdown",
   "metadata": {},
   "source": [
    "## call \"~/.local/bin/poetry\" if poetry keyword not working on mac"
   ]
  },
  {
   "cell_type": "code",
   "execution_count": 1,
   "metadata": {},
   "outputs": [],
   "source": [
    "# TODO split based on farms"
   ]
  },
  {
   "cell_type": "code",
   "execution_count": 2,
   "metadata": {},
   "outputs": [],
   "source": [
    "import datetime\n",
    "import geopandas\n",
    "import numpy as np\n",
    "import pandas as pd\n",
    "pd.options.mode.chained_assignment = None  # default='warn'\n",
    "\n",
    "import tensorflow as tf\n",
    "from tensorflow.keras.models import Sequential\n",
    "from tensorflow.keras.layers import Dense"
   ]
  },
  {
   "attachments": {},
   "cell_type": "markdown",
   "metadata": {},
   "source": []
  },
  {
   "cell_type": "code",
   "execution_count": 3,
   "metadata": {},
   "outputs": [],
   "source": [
    "# TODO try only with best performing numeric columns for input into model first\n",
    "# TODO select features for deep learning model after ranking features with random forest (feature importance)\n",
    "# TODO lstm network\n",
    "# DONE TODO SMOTE algorithm, for upsampling havested fields; we only have ~300 :(\n",
    "    \n",
    "    \n",
    "# TODO convert image_idx into cyclic numeric values using sin or cos.\n",
    "    # https://datascience.stackexchange.com/questions/17759/encoding-features-like-month-and-hour-as-categorial-or-numeric"
   ]
  },
  {
   "cell_type": "code",
   "execution_count": 4,
   "metadata": {},
   "outputs": [],
   "source": [
    "#local scripts\n",
    "\n",
    "from scripts import veg_indices, utilities, plots\n",
    "#from scripts.utilities import *"
   ]
  },
  {
   "cell_type": "code",
   "execution_count": 5,
   "metadata": {},
   "outputs": [],
   "source": [
    "# cpied from learning_about-data.ipynb\n",
    "BANDS_DICT = {   'B2': 'Blue',\n",
    "            'B3': 'Green',\n",
    "            'B4': 'Red',\n",
    "            'B5': 'Red_Edge_1',\n",
    "            'B6': 'Red_Edge_2',\n",
    "            'B7': 'Red_Edge_3',\n",
    "            'B8': 'NIR',\n",
    "            'B8A': 'Red_Edge_4',\n",
    "            'B11': 'SWIR_1',\n",
    "            'B12': 'SWIR_2'}\n",
    "\n",
    "BANDS = list(BANDS_DICT.keys())"
   ]
  },
  {
   "cell_type": "code",
   "execution_count": null,
   "metadata": {},
   "outputs": [],
   "source": []
  },
  {
   "cell_type": "code",
   "execution_count": 6,
   "metadata": {},
   "outputs": [
    {
     "name": "stdout",
     "output_type": "stream",
     "text": [
      "Added:  ['RVI', 'ARVI', 'PSSRa', 'NDI45', 'GNDVI', 'MCARI', 'IRECI', 'CIr', 'MTCI', 'NDVIre', 'NIRv', 'EVI', 'NDTI', 'NDMI', 'MSI', 'GCI', 'NBRI', 'BSI', 'NDWI', 'NDSI']\n",
      "(not in place), created : ['RVI_diff', 'ARVI_diff', 'PSSRa_diff', 'NDI45_diff', 'GNDVI_diff', 'MCARI_diff', 'IRECI_diff', 'CIr_diff', 'MTCI_diff', 'NDVIre_diff', 'NIRv_diff', 'EVI_diff', 'NDTI_diff', 'NDMI_diff', 'MSI_diff', 'GCI_diff', 'NBRI_diff', 'BSI_diff', 'NDWI_diff', 'NDSI_diff', 'NDVI_diff', 'RVI_prev', 'ARVI_prev', 'PSSRa_prev', 'NDI45_prev', 'GNDVI_prev', 'MCARI_prev', 'IRECI_prev', 'CIr_prev', 'MTCI_prev', 'NDVIre_prev', 'NIRv_prev', 'EVI_prev', 'NDTI_prev', 'NDMI_prev', 'MSI_prev', 'GCI_prev', 'NBRI_prev', 'BSI_prev', 'NDWI_prev', 'NDSI_prev', 'NDVI_prev']\n",
      "Index(['index', 'INDEX', 'B11', 'B12', 'B2', 'B3', 'B4', 'B5', 'B6', 'B7',\n",
      "       'B8', 'B8A', 'NDVI', 'finHarvDat', 'lat', 'lon', 'point_idx',\n",
      "       'start_date', 'end_date', 'har_evnt', 'image_idx', 'geometry', 'RVI',\n",
      "       'ARVI', 'PSSRa', 'NDI45', 'GNDVI', 'MCARI', 'IRECI', 'CIr', 'MTCI',\n",
      "       'NDVIre', 'NIRv', 'EVI', 'NDTI', 'NDMI', 'MSI', 'GCI', 'NBRI', 'BSI',\n",
      "       'NDWI', 'NDSI', 'RVI_prev', 'ARVI_prev', 'PSSRa_prev', 'NDI45_prev',\n",
      "       'GNDVI_prev', 'MCARI_prev', 'IRECI_prev', 'CIr_prev', 'MTCI_prev',\n",
      "       'NDVIre_prev', 'NIRv_prev', 'EVI_prev', 'NDTI_prev', 'NDMI_prev',\n",
      "       'MSI_prev', 'GCI_prev', 'NBRI_prev', 'BSI_prev', 'NDWI_prev',\n",
      "       'NDSI_prev', 'NDVI_prev', 'RVI_diff', 'ARVI_diff', 'PSSRa_diff',\n",
      "       'NDI45_diff', 'GNDVI_diff', 'MCARI_diff', 'IRECI_diff', 'CIr_diff',\n",
      "       'MTCI_diff', 'NDVIre_diff', 'NIRv_diff', 'EVI_diff', 'NDTI_diff',\n",
      "       'NDMI_diff', 'MSI_diff', 'GCI_diff', 'NBRI_diff', 'BSI_diff',\n",
      "       'NDWI_diff', 'NDSI_diff', 'NDVI_diff'],\n",
      "      dtype='object') (15326, 84)\n",
      "Added:  ['RVI', 'ARVI', 'PSSRa', 'NDI45', 'GNDVI', 'MCARI', 'IRECI', 'CIr', 'MTCI', 'NDVIre', 'NIRv', 'EVI', 'NDTI', 'NDMI', 'MSI', 'GCI', 'NBRI', 'BSI', 'NDWI', 'NDSI']\n",
      "(not in place), created : ['RVI_diff', 'ARVI_diff', 'PSSRa_diff', 'NDI45_diff', 'GNDVI_diff', 'MCARI_diff', 'IRECI_diff', 'CIr_diff', 'MTCI_diff', 'NDVIre_diff', 'NIRv_diff', 'EVI_diff', 'NDTI_diff', 'NDMI_diff', 'MSI_diff', 'GCI_diff', 'NBRI_diff', 'BSI_diff', 'NDWI_diff', 'NDSI_diff', 'NDVI_diff', 'RVI_prev', 'ARVI_prev', 'PSSRa_prev', 'NDI45_prev', 'GNDVI_prev', 'MCARI_prev', 'IRECI_prev', 'CIr_prev', 'MTCI_prev', 'NDVIre_prev', 'NIRv_prev', 'EVI_prev', 'NDTI_prev', 'NDMI_prev', 'MSI_prev', 'GCI_prev', 'NBRI_prev', 'BSI_prev', 'NDWI_prev', 'NDSI_prev', 'NDVI_prev']\n",
      "Index(['index', 'INDEX', 'B11', 'B12', 'B2', 'B3', 'B4', 'B5', 'B6', 'B7',\n",
      "       'B8', 'B8A', 'NDVI', 'finHarvDat', 'lat', 'lon', 'point_idx',\n",
      "       'start_date', 'end_date', 'har_evnt', 'image_idx', 'geometry', 'RVI',\n",
      "       'ARVI', 'PSSRa', 'NDI45', 'GNDVI', 'MCARI', 'IRECI', 'CIr', 'MTCI',\n",
      "       'NDVIre', 'NIRv', 'EVI', 'NDTI', 'NDMI', 'MSI', 'GCI', 'NBRI', 'BSI',\n",
      "       'NDWI', 'NDSI', 'RVI_prev', 'ARVI_prev', 'PSSRa_prev', 'NDI45_prev',\n",
      "       'GNDVI_prev', 'MCARI_prev', 'IRECI_prev', 'CIr_prev', 'MTCI_prev',\n",
      "       'NDVIre_prev', 'NIRv_prev', 'EVI_prev', 'NDTI_prev', 'NDMI_prev',\n",
      "       'MSI_prev', 'GCI_prev', 'NBRI_prev', 'BSI_prev', 'NDWI_prev',\n",
      "       'NDSI_prev', 'NDVI_prev', 'RVI_diff', 'ARVI_diff', 'PSSRa_diff',\n",
      "       'NDI45_diff', 'GNDVI_diff', 'MCARI_diff', 'IRECI_diff', 'CIr_diff',\n",
      "       'MTCI_diff', 'NDVIre_diff', 'NIRv_diff', 'EVI_diff', 'NDTI_diff',\n",
      "       'NDMI_diff', 'MSI_diff', 'GCI_diff', 'NBRI_diff', 'BSI_diff',\n",
      "       'NDWI_diff', 'NDSI_diff', 'NDVI_diff'],\n",
      "      dtype='object') (3841, 84)\n"
     ]
    }
   ],
   "source": [
    "df, NUMERIC_COLS, NUM_SAMPLES = utilities.get_df(\"merged_images_train\", veg_indices, BANDS)\n",
    "test_df, _, _ = utilities.get_df(\"merged_images_validation\", veg_indices, BANDS)"
   ]
  },
  {
   "cell_type": "code",
   "execution_count": 7,
   "metadata": {},
   "outputs": [
    {
     "name": "stdout",
     "output_type": "stream",
     "text": [
      "selected features: ['RVI_diff', 'B5', 'B4', 'NDVI_diff', 'ARVI_diff']\n"
     ]
    }
   ],
   "source": [
    "\n",
    "def get_ordered_rdm_forests_features():\n",
    "    # first one is the most important\n",
    "    return ['RVI_diff', 'B5', 'B4', 'NDVI_diff', 'ARVI_diff', 'EVI_diff', 'B3',\n",
    "       'B2', 'GNDVI_diff', 'IRECI_diff', 'ARVI', 'NDVIre_diff', 'NDWI_diff',\n",
    "       'NDMI_diff', 'BSI_diff', 'B6', 'PSSRa_diff', 'B11', 'B7', 'NDSI',\n",
    "       'CIr_diff', 'NDVIre', 'ARVI_prev', 'NDTI', 'MTCI', 'MSI_diff', 'B8',\n",
    "       'NDI45', 'EVI_prev', 'MCARI_prev', 'NDTI_prev', 'GCI_diff', 'NDSI_prev',\n",
    "       'IRECI_prev', 'MTCI_diff', 'B8A', 'BSI', 'BSI_prev', 'MCARI_diff',\n",
    "       'MSI', 'NBRI_diff', 'CIr', 'NDI45_prev', 'RVI', 'NIRv_prev', 'MCARI',\n",
    "       'NDSI_diff', 'NDTI_diff', 'PSSRa', 'GNDVI', 'NIRv', 'B12', 'NBRI',\n",
    "       'MSI_prev', 'NDMI', 'NDWI', 'NDVI_prev', 'NDVI', 'CIr_prev', 'IRECI',\n",
    "       'NIRv_diff', 'NDI45_diff', 'NBRI_prev', 'GCI', 'EVI', 'RVI_prev',\n",
    "       'NDVIre_prev', 'NDWI_prev', 'NDMI_prev', 'PSSRa_prev', 'GNDVI_prev',\n",
    "       'GCI_prev', 'MTCI_prev']\n",
    "    \n",
    "\n",
    "#SELECTED_FEATURES = get_manually_selected()\n",
    "\n",
    "#SELECTED_FEATURES = NUMERIC_COLS\n",
    "#SELECTED_FEATURES = train_df[SELECTED_FEATURES].dropna(axis=1).columns\n",
    "\n",
    "\n",
    "SELECTED_FEATURES = get_ordered_rdm_forests_features()[:5] # get top N features\n",
    "\n",
    "print(\"selected features:\", SELECTED_FEATURES)\n",
    "\n",
    "def get_X_y(dataframe: pd.DataFrame):\n",
    "    df_X = dataframe[SELECTED_FEATURES]\n",
    "    #df_X = df_X.dropna(axis=1)\n",
    "    X = df_X.to_numpy().reshape((df_X.shape[0], df_X.shape[1], 1))\n",
    "    y = dataframe[\"har_evnt\"].to_numpy().astype(np.float32)\n",
    "    return X, y"
   ]
  },
  {
   "attachments": {},
   "cell_type": "markdown",
   "metadata": {},
   "source": [
    "# Separate by Farm"
   ]
  },
  {
   "cell_type": "code",
   "execution_count": 8,
   "metadata": {},
   "outputs": [
    {
     "name": "stdout",
     "output_type": "stream",
     "text": [
      "2334\n",
      "584\n",
      "(12376, 84) (2950, 84)\n"
     ]
    }
   ],
   "source": [
    "from sklearn.model_selection import train_test_split\n",
    "\n",
    "def separate_by_farm(df:pd.DataFrame):\n",
    "    points_df_list = []\n",
    "    for p in  df['point_idx'].unique(): # ['p0','p1','p2','p3','p4', ...]\n",
    "        curr_df = df[df[\"point_idx\"] == p]\n",
    "        points_df_list.append(curr_df)\n",
    "    len(points_df_list)\n",
    "\n",
    "    training_df_list, validation_df_list = train_test_split(points_df_list, train_size=0.8, random_state=42)\n",
    "\n",
    "    print(len(training_df_list))\n",
    "    print(len(validation_df_list))\n",
    "\n",
    "    # combine into two dataframes\n",
    "    train_df = pd.concat(training_df_list)\n",
    "    validate_df = pd.concat(validation_df_list)\n",
    "    print(train_df.shape, validate_df.shape)\n",
    "    \n",
    "    return train_df, validate_df\n",
    "\n",
    "validate_df, train_df = separate_by_farm(df)"
   ]
  },
  {
   "attachments": {},
   "cell_type": "markdown",
   "metadata": {},
   "source": [
    "# Random Upsampling"
   ]
  },
  {
   "cell_type": "code",
   "execution_count": 9,
   "metadata": {},
   "outputs": [
    {
     "name": "stdout",
     "output_type": "stream",
     "text": [
      "(280, 84)\n",
      "(2670, 84)\n",
      "(2670, 84)\n"
     ]
    }
   ],
   "source": [
    "#%%script echo skipping\n",
    "def apply_random_upsampling(df):\n",
    "    har_evnt_true_df = df[df[\"har_evnt\"]]\n",
    "    har_evnt_false_df = df[df[\"har_evnt\"] == False]\n",
    "    print(har_evnt_true_df.shape)\n",
    "    print(har_evnt_false_df.shape)\n",
    "\n",
    "    from sklearn.utils import resample\n",
    "\n",
    "    upsampled_har_evnt_true_df = resample(har_evnt_true_df, n_samples=har_evnt_false_df.shape[0],\n",
    "                                                    replace=True, random_state=42)\n",
    "    print(upsampled_har_evnt_true_df.shape)\n",
    "\n",
    "    return pd.concat([upsampled_har_evnt_true_df, har_evnt_false_df])\n",
    "    print(df.shape)\n",
    "\n",
    "train_df = apply_random_upsampling(train_df)"
   ]
  },
  {
   "attachments": {},
   "cell_type": "markdown",
   "metadata": {},
   "source": [
    "# Convert to Numpy"
   ]
  },
  {
   "cell_type": "code",
   "execution_count": 10,
   "metadata": {},
   "outputs": [
    {
     "name": "stdout",
     "output_type": "stream",
     "text": [
      "(5340, 5, 1) (5340,)\n",
      "(12376, 5, 1) (12376,)\n",
      "(3841, 5, 1) (3841,)\n"
     ]
    }
   ],
   "source": [
    "X_train, y_train = get_X_y(train_df)\n",
    "print(X_train.shape, y_train.shape)\n",
    "\n",
    "X_validate, y_validate = get_X_y(validate_df)\n",
    "print(X_validate.shape, y_validate.shape)\n",
    "\n",
    "X_test, y_test = get_X_y(test_df)\n",
    "print(X_test.shape, y_test.shape)"
   ]
  },
  {
   "cell_type": "code",
   "execution_count": 11,
   "metadata": {},
   "outputs": [],
   "source": [
    "from tensorflow.keras.layers import Conv1D, MaxPooling1D, Flatten, Dropout, BatchNormalization\n",
    "model = tf.keras.Sequential([\n",
    "    Conv1D(filters=32, kernel_size=3, activation='relu', input_shape=(X_train.shape[1], X_train.shape[2])),\n",
    "    MaxPooling1D(pool_size=2),\n",
    "    Flatten(),\n",
    "    #BatchNormalization(),\n",
    "    Dense(units=32, activation='relu'),\n",
    "    Dense(units=64, activation='relu'),\n",
    "    Dense(units=32, activation='relu'),\n",
    "    Dense(units=8, activation='relu'),\n",
    "    Dense(units=1, activation='sigmoid')\n",
    "])"
   ]
  },
  {
   "cell_type": "code",
   "execution_count": 12,
   "metadata": {},
   "outputs": [
    {
     "name": "stdout",
     "output_type": "stream",
     "text": [
      "Model: \"sequential\"\n",
      "_________________________________________________________________\n",
      " Layer (type)                Output Shape              Param #   \n",
      "=================================================================\n",
      " conv1d (Conv1D)             (None, 3, 32)             128       \n",
      "                                                                 \n",
      " max_pooling1d (MaxPooling1D  (None, 1, 32)            0         \n",
      " )                                                               \n",
      "                                                                 \n",
      " flatten (Flatten)           (None, 32)                0         \n",
      "                                                                 \n",
      " dense (Dense)               (None, 32)                1056      \n",
      "                                                                 \n",
      " dense_1 (Dense)             (None, 64)                2112      \n",
      "                                                                 \n",
      " dense_2 (Dense)             (None, 32)                2080      \n",
      "                                                                 \n",
      " dense_3 (Dense)             (None, 8)                 264       \n",
      "                                                                 \n",
      " dense_4 (Dense)             (None, 1)                 9         \n",
      "                                                                 \n",
      "=================================================================\n",
      "Total params: 5,649\n",
      "Trainable params: 5,649\n",
      "Non-trainable params: 0\n",
      "_________________________________________________________________\n"
     ]
    }
   ],
   "source": [
    "model.summary()"
   ]
  },
  {
   "cell_type": "code",
   "execution_count": 13,
   "metadata": {},
   "outputs": [],
   "source": [
    "metrics = [tf.keras.metrics.Precision(), tf.keras.metrics.Recall()] \n",
    "model.compile(loss='binary_crossentropy', optimizer='adam', metrics=metrics)\n"
   ]
  },
  {
   "cell_type": "code",
   "execution_count": 14,
   "metadata": {},
   "outputs": [
    {
     "name": "stdout",
     "output_type": "stream",
     "text": [
      "Epoch 1/100\n"
     ]
    },
    {
     "name": "stderr",
     "output_type": "stream",
     "text": [
      "2023-05-23 13:16:56.867938: W tensorflow/tsl/platform/profile_utils/cpu_utils.cc:128] Failed to get CPU frequency: 0 Hz\n"
     ]
    },
    {
     "name": "stdout",
     "output_type": "stream",
     "text": [
      "167/167 [==============================] - 1s 2ms/step - loss: 0.5434 - precision: 0.7919 - recall: 0.7768 - val_loss: 0.4733 - val_precision: 0.2769 - val_recall: 0.8320\n",
      "Epoch 2/100\n",
      "167/167 [==============================] - 0s 2ms/step - loss: 0.4405 - precision: 0.8140 - recall: 0.8457 - val_loss: 0.4098 - val_precision: 0.3154 - val_recall: 0.8131\n",
      "Epoch 3/100\n",
      "167/167 [==============================] - 0s 2ms/step - loss: 0.4056 - precision: 0.8211 - recall: 0.8697 - val_loss: 0.4091 - val_precision: 0.3038 - val_recall: 0.8401\n",
      "Epoch 4/100\n",
      "167/167 [==============================] - 0s 2ms/step - loss: 0.3885 - precision: 0.8241 - recall: 0.8723 - val_loss: 0.3853 - val_precision: 0.3096 - val_recall: 0.8167\n",
      "Epoch 5/100\n",
      "167/167 [==============================] - 0s 1ms/step - loss: 0.3825 - precision: 0.8236 - recall: 0.8779 - val_loss: 0.4345 - val_precision: 0.2892 - val_recall: 0.8751\n",
      "Epoch 6/100\n",
      "167/167 [==============================] - 0s 2ms/step - loss: 0.3730 - precision: 0.8249 - recall: 0.8839 - val_loss: 0.3549 - val_precision: 0.3337 - val_recall: 0.7942\n",
      "Epoch 7/100\n",
      "167/167 [==============================] - 0s 1ms/step - loss: 0.3735 - precision: 0.8283 - recall: 0.8891 - val_loss: 0.4092 - val_precision: 0.3081 - val_recall: 0.8544\n",
      "Epoch 8/100\n",
      "167/167 [==============================] - 0s 1ms/step - loss: 0.3677 - precision: 0.8248 - recall: 0.8906 - val_loss: 0.4411 - val_precision: 0.2886 - val_recall: 0.8733\n",
      "Epoch 9/100\n",
      "167/167 [==============================] - 0s 1ms/step - loss: 0.3653 - precision: 0.8276 - recall: 0.8884 - val_loss: 0.3455 - val_precision: 0.3234 - val_recall: 0.8176\n",
      "Epoch 10/100\n",
      "167/167 [==============================] - 0s 2ms/step - loss: 0.3631 - precision: 0.8252 - recall: 0.8910 - val_loss: 0.3946 - val_precision: 0.3022 - val_recall: 0.8697\n",
      "Epoch 11/100\n",
      "167/167 [==============================] - 0s 2ms/step - loss: 0.3567 - precision: 0.8243 - recall: 0.8876 - val_loss: 0.4766 - val_precision: 0.2692 - val_recall: 0.9057\n",
      "Epoch 12/100\n",
      "167/167 [==============================] - 0s 1ms/step - loss: 0.3608 - precision: 0.8247 - recall: 0.8918 - val_loss: 0.3818 - val_precision: 0.3104 - val_recall: 0.8544\n",
      "Epoch 13/100\n",
      "167/167 [==============================] - 0s 1ms/step - loss: 0.3553 - precision: 0.8286 - recall: 0.8944 - val_loss: 0.3832 - val_precision: 0.3138 - val_recall: 0.8679\n",
      "Epoch 14/100\n",
      "167/167 [==============================] - 0s 2ms/step - loss: 0.3530 - precision: 0.8304 - recall: 0.8933 - val_loss: 0.3775 - val_precision: 0.3151 - val_recall: 0.8437\n",
      "Epoch 15/100\n",
      "167/167 [==============================] - 0s 1ms/step - loss: 0.3474 - precision: 0.8301 - recall: 0.8914 - val_loss: 0.3595 - val_precision: 0.3286 - val_recall: 0.8437\n",
      "Epoch 16/100\n",
      "167/167 [==============================] - 0s 1ms/step - loss: 0.3522 - precision: 0.8312 - recall: 0.8891 - val_loss: 0.3791 - val_precision: 0.3207 - val_recall: 0.8589\n",
      "Epoch 17/100\n",
      "167/167 [==============================] - 0s 2ms/step - loss: 0.3452 - precision: 0.8369 - recall: 0.8936 - val_loss: 0.3928 - val_precision: 0.3110 - val_recall: 0.8805\n",
      "Epoch 18/100\n",
      "167/167 [==============================] - 0s 2ms/step - loss: 0.3394 - precision: 0.8405 - recall: 0.8981 - val_loss: 0.3637 - val_precision: 0.3318 - val_recall: 0.8356\n",
      "Epoch 19/100\n",
      "167/167 [==============================] - 0s 2ms/step - loss: 0.3420 - precision: 0.8347 - recall: 0.8944 - val_loss: 0.3531 - val_precision: 0.3392 - val_recall: 0.8185\n"
     ]
    }
   ],
   "source": [
    "callback = tf.keras.callbacks.EarlyStopping(monitor='val_loss', patience=10)\n",
    "history = model.fit(X_train, y_train, epochs=100, validation_data=(X_validate, y_validate), callbacks=[callback])"
   ]
  },
  {
   "cell_type": "code",
   "execution_count": 15,
   "metadata": {},
   "outputs": [
    {
     "data": {
      "image/png": "[encoded data removed]",
      "text/plain": [
       "<Figure size 640x480 with 1 Axes>"
      ]
     },
     "metadata": {},
     "output_type": "display_data"
    }
   ],
   "source": [
    "import matplotlib.pyplot as plt\n",
    "\n",
    "#acc = history.history['binary_accuracy']\n",
    "#val_acc = history.history['val_binary_accuracy']\n",
    "loss = history.history['loss']\n",
    "val_loss = history.history['val_loss']\n",
    "\n",
    "epochs = range(1, len(loss) + 1)\n",
    "\n",
    "#plt.plot(epochs, acc, 'bo', label='Training acc')\n",
    "#plt.plot(epochs, val_acc, 'b', label='Validation acc')\n",
    "#plt.title('Training and validation accuracy')\n",
    "#plt.legend()\n",
    "\n",
    "plt.figure()\n",
    "\n",
    "plt.plot(epochs, loss, 'bo', label='Training loss')\n",
    "plt.plot(epochs, val_loss, 'b', label='Validation loss')\n",
    "plt.title('Training and validation loss')\n",
    "plt.legend()\n",
    "\n",
    "plt.show()"
   ]
  },
  {
   "cell_type": "code",
   "execution_count": 16,
   "metadata": {},
   "outputs": [],
   "source": [
    "import sklearn\n",
    "import matplotlib.pyplot as plt\n",
    "import numpy\n",
    "from sklearn import metrics\n",
    "\n",
    "func = np.vectorize(lambda x: 0 if x < 0.5 else 1)\n",
    "\n",
    "def plot_confusion_matrix(actual, predicted):\n",
    "    print(metrics.confusion_matrix(actual, predicted))\n",
    "    confusion_matrix = metrics.confusion_matrix(actual, predicted, normalize='true')\n",
    "\n",
    "    cm_display = metrics.ConfusionMatrixDisplay(confusion_matrix = confusion_matrix, display_labels = [False, True])\n",
    "\n",
    "    cm_display.plot()\n",
    "    plt.show()"
   ]
  },
  {
   "cell_type": "code",
   "execution_count": 17,
   "metadata": {},
   "outputs": [
    {
     "name": "stdout",
     "output_type": "stream",
     "text": [
      "X_train\n",
      "167/167 [==============================] - 0s 352us/step\n",
      "(array([0, 1]), array([2576, 2764]))\n",
      "              precision    recall  f1-score   support\n",
      "\n",
      "         0.0       0.88      0.85      0.86      2670\n",
      "         1.0       0.85      0.88      0.87      2670\n",
      "\n",
      "    accuracy                           0.86      5340\n",
      "   macro avg       0.86      0.86      0.86      5340\n",
      "weighted avg       0.86      0.86      0.86      5340\n",
      "\n",
      "[[2261  409]\n",
      " [ 315 2355]]\n"
     ]
    },
    {
     "data": {
      "image/png": "[encoded data removed]",
      "text/plain": [
       "<Figure size 640x480 with 2 Axes>"
      ]
     },
     "metadata": {},
     "output_type": "display_data"
    }
   ],
   "source": [
    "print(\"X_train\")\n",
    "y_predict = np.array(list(model.predict(X_train)))\n",
    "y_predict = y_predict.reshape(y_predict.shape[0])\n",
    "print(np.unique(func(y_predict), return_counts=True))\n",
    "print(sklearn.metrics.classification_report(y_train, func(y_predict)))\n",
    "plot_confusion_matrix(y_train, func(y_predict))"
   ]
  },
  {
   "cell_type": "code",
   "execution_count": 18,
   "metadata": {},
   "outputs": [
    {
     "name": "stdout",
     "output_type": "stream",
     "text": [
      "X_validate\n",
      "387/387 [==============================] - 0s 455us/step\n",
      "(array([0, 1]), array([9690, 2686]))\n",
      "              precision    recall  f1-score   support\n",
      "\n",
      "         0.0       0.98      0.84      0.91     11263\n",
      "         1.0       0.34      0.82      0.48      1113\n",
      "\n",
      "    accuracy                           0.84     12376\n",
      "   macro avg       0.66      0.83      0.69     12376\n",
      "weighted avg       0.92      0.84      0.87     12376\n",
      "\n",
      "[[9488 1775]\n",
      " [ 202  911]]\n"
     ]
    },
    {
     "data": {
      "image/png": "[encoded data removed]",
      "text/plain": [
       "<Figure size 640x480 with 2 Axes>"
      ]
     },
     "metadata": {},
     "output_type": "display_data"
    }
   ],
   "source": [
    "print(\"X_validate\")\n",
    "\n",
    "y_predict = np.array(list(model.predict(X_validate)))\n",
    "y_predict = y_predict.reshape(y_predict.shape[0])\n",
    "print(np.unique(func(y_predict), return_counts=True))\n",
    "print(sklearn.metrics.classification_report(y_validate, func(y_predict)))\n",
    "plot_confusion_matrix(y_validate, func(y_predict))"
   ]
  },
  {
   "cell_type": "code",
   "execution_count": 20,
   "metadata": {},
   "outputs": [
    {
     "name": "stdout",
     "output_type": "stream",
     "text": [
      "X_test\n",
      "121/121 [==============================] - 0s 467us/step\n",
      "(array([0, 1]), array([3073,  768]))\n",
      "              precision    recall  f1-score   support\n",
      "\n",
      "         0.0       0.97      0.84      0.90      3528\n",
      "         1.0       0.28      0.70      0.40       313\n",
      "\n",
      "    accuracy                           0.83      3841\n",
      "   macro avg       0.63      0.77      0.65      3841\n",
      "weighted avg       0.91      0.83      0.86      3841\n",
      "\n",
      "[[2978  550]\n",
      " [  95  218]]\n"
     ]
    },
    {
     "data": {
      "image/png": "[encoded data removed]",
      "text/plain": [
       "<Figure size 640x480 with 2 Axes>"
      ]
     },
     "metadata": {},
     "output_type": "display_data"
    }
   ],
   "source": [
    "print(\"X_test\")\n",
    "\n",
    "y_predict = np.array(list(model.predict(X_test)))\n",
    "y_predict = y_predict.reshape(y_predict.shape[0])\n",
    "print(np.unique(func(y_predict), return_counts=True))\n",
    "print(sklearn.metrics.classification_report(y_test, func(y_predict)))\n",
    "plot_confusion_matrix(y_test, func(y_predict))"
   ]
  },
  {
   "attachments": {},
   "cell_type": "markdown",
   "metadata": {},
   "source": [
    "# Random Forests Feature Selection"
   ]
  },
  {
   "cell_type": "code",
   "execution_count": null,
   "metadata": {},
   "outputs": [],
   "source": [
    "def rm_extradim(X, y):\n",
    "    X, y = X.reshape(X.shape[0], X.shape[1]), y.reshape(y.shape[0])\n",
    "    return X, y\n",
    "\n",
    "\n",
    "X_train, y_train = rm_extradim(X_train, y_train)\n",
    "X_validate, y_validate = rm_extradim(X_validate, y_validate)\n",
    "X_test, y_test = rm_extradim(X_test, y_test)\n",
    "\n",
    "import sklearn\n",
    "from sklearn.ensemble import RandomForestClassifier\n",
    "from sklearn.metrics import accuracy_score\n",
    "\n",
    "rf = RandomForestClassifier()\n",
    "\n",
    "rf.fit(X_train, y_train)"
   ]
  },
  {
   "cell_type": "code",
   "execution_count": null,
   "metadata": {},
   "outputs": [],
   "source": [
    "y_predict = rf.predict(X_validate)\n",
    "print(\"accuracy: accuracy_score(y_validate, y_predict\")\n",
    "print(sklearn.metrics.classification_report(y_validate, y_predict))\n",
    "\n",
    "plot_confusion_matrix(y_validate, func(y_predict))"
   ]
  },
  {
   "cell_type": "code",
   "execution_count": null,
   "metadata": {},
   "outputs": [],
   "source": [
    "y_predict = rf.predict(X_test)\n",
    "print(\"accuracy:\", accuracy_score(y_test, y_predict))\n",
    "print(sklearn.metrics.classification_report(y_test, y_predict))\n",
    "\n",
    "plot_confusion_matrix(y_test, func(y_predict))"
   ]
  },
  {
   "cell_type": "code",
   "execution_count": null,
   "metadata": {},
   "outputs": [],
   "source": [
    "np.unique(y_train, return_counts=True)"
   ]
  },
  {
   "cell_type": "code",
   "execution_count": null,
   "metadata": {},
   "outputs": [],
   "source": [
    "feature_importances_df = pd.DataFrame(rf.feature_importances_,\n",
    "                    index=SELECTED_FEATURES, \n",
    "                    columns=['importance']).sort_values('importance', ascending=False)\n",
    "feature_importances_df"
   ]
  },
  {
   "cell_type": "code",
   "execution_count": null,
   "metadata": {},
   "outputs": [],
   "source": [
    "feature_importances_df.T.columns"
   ]
  },
  {
   "cell_type": "code",
   "execution_count": null,
   "metadata": {},
   "outputs": [],
   "source": []
  },
  {
   "cell_type": "code",
   "execution_count": null,
   "metadata": {},
   "outputs": [],
   "source": []
  },
  {
   "cell_type": "code",
   "execution_count": null,
   "metadata": {},
   "outputs": [],
   "source": []
  }
 ],
 "metadata": {
  "kernelspec": {
   "display_name": "harvest-event-detec-Fyp2lGEN-py3.9",
   "language": "python",
   "name": "python3"
  },
  "language_info": {
   "codemirror_mode": {
    "name": "ipython",
    "version": 3
   },
   "file_extension": ".py",
   "mimetype": "text/x-python",
   "name": "python",
   "nbconvert_exporter": "python",
   "pygments_lexer": "ipython3",
   "version": "3.10.11"
  },
  "orig_nbformat": 4
 },
 "nbformat": 4,
 "nbformat_minor": 2
}

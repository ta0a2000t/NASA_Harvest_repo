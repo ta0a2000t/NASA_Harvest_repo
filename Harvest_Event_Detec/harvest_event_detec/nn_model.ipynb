{
 "cells": [
  {
   "cell_type": "code",
   "execution_count": 4,
   "metadata": {},
   "outputs": [
    {
     "name": "stderr",
     "output_type": "stream",
     "text": [
      "2023-05-05 14:47:42.389825: I tensorflow/core/platform/cpu_feature_guard.cc:193] This TensorFlow binary is optimized with oneAPI Deep Neural Network Library (oneDNN) to use the following CPU instructions in performance-critical operations:  AVX2 FMA\n",
      "To enable them in other operations, rebuild TensorFlow with the appropriate compiler flags.\n"
     ]
    }
   ],
   "source": [
    "import datetime\n",
    "import geopandas\n",
    "import numpy as np\n",
    "import pandas as pd\n",
    "pd.options.mode.chained_assignment = None  # default='warn'\n",
    "\n",
    "import tensorflow as tf\n",
    "from tensorflow.keras.models import Sequential\n",
    "from tensorflow.keras.layers import Dense"
   ]
  },
  {
   "attachments": {},
   "cell_type": "markdown",
   "metadata": {},
   "source": []
  },
  {
   "cell_type": "code",
   "execution_count": 5,
   "metadata": {},
   "outputs": [],
   "source": [
    "# TODO try only with best performing numeric columns for input into model first\n",
    "# TODO select features for deep learning model after ranking features with random forest (feature importance)\n",
    "# TODO lstm network\n",
    "# TODO SMOTE algorithm, for upsampling havested fields; we only have ~300 :("
   ]
  },
  {
   "cell_type": "code",
   "execution_count": 6,
   "metadata": {},
   "outputs": [],
   "source": [
    "#local scripts\n",
    "from scripts import veg_indices, utilities, plots\n",
    "#from scripts.utilities import *"
   ]
  },
  {
   "cell_type": "code",
   "execution_count": 7,
   "metadata": {},
   "outputs": [],
   "source": [
    "# cpied from learning_about-data.ipynb\n",
    "BANDS_DICT = {   'B2': 'Blue',\n",
    "            'B3': 'Green',\n",
    "            'B4': 'Red',\n",
    "            'B5': 'Red_Edge_1',\n",
    "            'B6': 'Red_Edge_2',\n",
    "            'B7': 'Red_Edge_3',\n",
    "            'B8': 'NIR',\n",
    "            'B8A': 'Red_Edge_4',\n",
    "            'B11': 'SWIR_1',\n",
    "            'B12': 'SWIR_2'}\n",
    "\n",
    "BANDS = list(BANDS_DICT.keys())"
   ]
  },
  {
   "cell_type": "code",
   "execution_count": 8,
   "metadata": {},
   "outputs": [],
   "source": [
    "# cpied from learning_about-data.ipynb\n",
    "DF = geopandas.read_file('../data/merged_images.geojson')\n",
    "DF.rename(columns = {'is_within_period':'har_evnt'}, inplace = True)\n",
    "NUM_SAMPLES = len(np.unique(DF.image_idx)) - 1"
   ]
  },
  {
   "cell_type": "code",
   "execution_count": 9,
   "metadata": {},
   "outputs": [
    {
     "data": {
      "text/html": [
       "<div>\n",
       "<style scoped>\n",
       "    .dataframe tbody tr th:only-of-type {\n",
       "        vertical-align: middle;\n",
       "    }\n",
       "\n",
       "    .dataframe tbody tr th {\n",
       "        vertical-align: top;\n",
       "    }\n",
       "\n",
       "    .dataframe thead th {\n",
       "        text-align: right;\n",
       "    }\n",
       "</style>\n",
       "<table border=\"1\" class=\"dataframe\">\n",
       "  <thead>\n",
       "    <tr style=\"text-align: right;\">\n",
       "      <th></th>\n",
       "      <th>B11</th>\n",
       "      <th>B12</th>\n",
       "      <th>B2</th>\n",
       "      <th>B3</th>\n",
       "      <th>B4</th>\n",
       "      <th>B5</th>\n",
       "      <th>B6</th>\n",
       "      <th>B7</th>\n",
       "      <th>B8</th>\n",
       "      <th>B8A</th>\n",
       "      <th>NDVI</th>\n",
       "      <th>finHarvDat</th>\n",
       "      <th>lat</th>\n",
       "      <th>lon</th>\n",
       "      <th>point_idx</th>\n",
       "      <th>start_date</th>\n",
       "      <th>end_date</th>\n",
       "      <th>har_evnt</th>\n",
       "      <th>image_idx</th>\n",
       "      <th>geometry</th>\n",
       "    </tr>\n",
       "  </thead>\n",
       "  <tbody>\n",
       "    <tr>\n",
       "      <th>0</th>\n",
       "      <td>0.1000</td>\n",
       "      <td>0.1000</td>\n",
       "      <td>0.100</td>\n",
       "      <td>0.1000</td>\n",
       "      <td>0.1000</td>\n",
       "      <td>0.10000</td>\n",
       "      <td>0.10000</td>\n",
       "      <td>0.10000</td>\n",
       "      <td>0.1000</td>\n",
       "      <td>0.1000</td>\n",
       "      <td>0.000000</td>\n",
       "      <td>2022-08-11</td>\n",
       "      <td>50.655048</td>\n",
       "      <td>25.458684</td>\n",
       "      <td>p0</td>\n",
       "      <td>2022-01-08</td>\n",
       "      <td>2022-01-28</td>\n",
       "      <td>False</td>\n",
       "      <td>i0</td>\n",
       "      <td>POINT (25.45868 50.65505)</td>\n",
       "    </tr>\n",
       "    <tr>\n",
       "      <th>1</th>\n",
       "      <td>0.1000</td>\n",
       "      <td>0.1000</td>\n",
       "      <td>0.100</td>\n",
       "      <td>0.1000</td>\n",
       "      <td>0.1000</td>\n",
       "      <td>0.10000</td>\n",
       "      <td>0.10000</td>\n",
       "      <td>0.10000</td>\n",
       "      <td>0.1000</td>\n",
       "      <td>0.1000</td>\n",
       "      <td>0.000000</td>\n",
       "      <td>NaT</td>\n",
       "      <td>50.294633</td>\n",
       "      <td>36.289471</td>\n",
       "      <td>p1</td>\n",
       "      <td>2022-01-08</td>\n",
       "      <td>2022-01-28</td>\n",
       "      <td>False</td>\n",
       "      <td>i0</td>\n",
       "      <td>POINT (36.28947 50.29463)</td>\n",
       "    </tr>\n",
       "    <tr>\n",
       "      <th>2</th>\n",
       "      <td>0.1000</td>\n",
       "      <td>0.1000</td>\n",
       "      <td>0.100</td>\n",
       "      <td>0.1000</td>\n",
       "      <td>0.1000</td>\n",
       "      <td>0.10000</td>\n",
       "      <td>0.10000</td>\n",
       "      <td>0.10000</td>\n",
       "      <td>0.1000</td>\n",
       "      <td>0.1000</td>\n",
       "      <td>0.000000</td>\n",
       "      <td>NaT</td>\n",
       "      <td>50.860849</td>\n",
       "      <td>32.548484</td>\n",
       "      <td>p2</td>\n",
       "      <td>2022-01-08</td>\n",
       "      <td>2022-01-28</td>\n",
       "      <td>False</td>\n",
       "      <td>i0</td>\n",
       "      <td>POINT (32.54848 50.86085)</td>\n",
       "    </tr>\n",
       "    <tr>\n",
       "      <th>3</th>\n",
       "      <td>0.1000</td>\n",
       "      <td>0.1000</td>\n",
       "      <td>0.100</td>\n",
       "      <td>0.1000</td>\n",
       "      <td>0.1000</td>\n",
       "      <td>0.10000</td>\n",
       "      <td>0.10000</td>\n",
       "      <td>0.10000</td>\n",
       "      <td>0.1000</td>\n",
       "      <td>0.1000</td>\n",
       "      <td>0.000000</td>\n",
       "      <td>NaT</td>\n",
       "      <td>50.928689</td>\n",
       "      <td>31.637558</td>\n",
       "      <td>p3</td>\n",
       "      <td>2022-01-08</td>\n",
       "      <td>2022-01-28</td>\n",
       "      <td>False</td>\n",
       "      <td>i0</td>\n",
       "      <td>POINT (31.63756 50.92869)</td>\n",
       "    </tr>\n",
       "    <tr>\n",
       "      <th>4</th>\n",
       "      <td>0.1424</td>\n",
       "      <td>0.1083</td>\n",
       "      <td>0.030</td>\n",
       "      <td>0.0432</td>\n",
       "      <td>0.0631</td>\n",
       "      <td>0.07150</td>\n",
       "      <td>0.07760</td>\n",
       "      <td>0.08510</td>\n",
       "      <td>0.1066</td>\n",
       "      <td>0.1043</td>\n",
       "      <td>0.256335</td>\n",
       "      <td>2022-07-23</td>\n",
       "      <td>48.307964</td>\n",
       "      <td>37.348245</td>\n",
       "      <td>p4</td>\n",
       "      <td>2022-01-08</td>\n",
       "      <td>2022-01-28</td>\n",
       "      <td>False</td>\n",
       "      <td>i0</td>\n",
       "      <td>POINT (37.34824 48.30796)</td>\n",
       "    </tr>\n",
       "    <tr>\n",
       "      <th>...</th>\n",
       "      <td>...</td>\n",
       "      <td>...</td>\n",
       "      <td>...</td>\n",
       "      <td>...</td>\n",
       "      <td>...</td>\n",
       "      <td>...</td>\n",
       "      <td>...</td>\n",
       "      <td>...</td>\n",
       "      <td>...</td>\n",
       "      <td>...</td>\n",
       "      <td>...</td>\n",
       "      <td>...</td>\n",
       "      <td>...</td>\n",
       "      <td>...</td>\n",
       "      <td>...</td>\n",
       "      <td>...</td>\n",
       "      <td>...</td>\n",
       "      <td>...</td>\n",
       "      <td>...</td>\n",
       "      <td>...</td>\n",
       "    </tr>\n",
       "    <tr>\n",
       "      <th>9481</th>\n",
       "      <td>0.2557</td>\n",
       "      <td>0.1875</td>\n",
       "      <td>0.065</td>\n",
       "      <td>0.0740</td>\n",
       "      <td>0.0973</td>\n",
       "      <td>0.11695</td>\n",
       "      <td>0.14255</td>\n",
       "      <td>0.15525</td>\n",
       "      <td>0.1920</td>\n",
       "      <td>0.1847</td>\n",
       "      <td>0.327342</td>\n",
       "      <td>NaT</td>\n",
       "      <td>49.723156</td>\n",
       "      <td>36.817274</td>\n",
       "      <td>p553</td>\n",
       "      <td>2022-12-10</td>\n",
       "      <td>2022-12-30</td>\n",
       "      <td>False</td>\n",
       "      <td>i16</td>\n",
       "      <td>POINT (36.81727 49.72316)</td>\n",
       "    </tr>\n",
       "    <tr>\n",
       "      <th>9482</th>\n",
       "      <td>0.1616</td>\n",
       "      <td>0.1235</td>\n",
       "      <td>0.028</td>\n",
       "      <td>0.0442</td>\n",
       "      <td>0.0525</td>\n",
       "      <td>0.06390</td>\n",
       "      <td>0.08950</td>\n",
       "      <td>0.09310</td>\n",
       "      <td>0.1152</td>\n",
       "      <td>0.1073</td>\n",
       "      <td>0.373882</td>\n",
       "      <td>NaT</td>\n",
       "      <td>45.578351</td>\n",
       "      <td>28.700480</td>\n",
       "      <td>p554</td>\n",
       "      <td>2022-12-10</td>\n",
       "      <td>2022-12-30</td>\n",
       "      <td>False</td>\n",
       "      <td>i16</td>\n",
       "      <td>POINT (28.70048 45.57835)</td>\n",
       "    </tr>\n",
       "    <tr>\n",
       "      <th>9483</th>\n",
       "      <td>0.1675</td>\n",
       "      <td>0.1030</td>\n",
       "      <td>0.043</td>\n",
       "      <td>0.0678</td>\n",
       "      <td>0.0460</td>\n",
       "      <td>0.10960</td>\n",
       "      <td>0.23980</td>\n",
       "      <td>0.26430</td>\n",
       "      <td>0.2832</td>\n",
       "      <td>0.2783</td>\n",
       "      <td>0.720535</td>\n",
       "      <td>NaT</td>\n",
       "      <td>46.693510</td>\n",
       "      <td>35.051003</td>\n",
       "      <td>p555</td>\n",
       "      <td>2022-12-10</td>\n",
       "      <td>2022-12-30</td>\n",
       "      <td>False</td>\n",
       "      <td>i16</td>\n",
       "      <td>POINT (35.05100 46.69351)</td>\n",
       "    </tr>\n",
       "    <tr>\n",
       "      <th>9484</th>\n",
       "      <td>0.1000</td>\n",
       "      <td>0.1000</td>\n",
       "      <td>0.100</td>\n",
       "      <td>0.1000</td>\n",
       "      <td>0.1000</td>\n",
       "      <td>0.10000</td>\n",
       "      <td>0.10000</td>\n",
       "      <td>0.10000</td>\n",
       "      <td>0.1000</td>\n",
       "      <td>0.1000</td>\n",
       "      <td>0.000000</td>\n",
       "      <td>2022-07-30</td>\n",
       "      <td>50.451929</td>\n",
       "      <td>33.668204</td>\n",
       "      <td>p556</td>\n",
       "      <td>2022-12-10</td>\n",
       "      <td>2022-12-30</td>\n",
       "      <td>False</td>\n",
       "      <td>i16</td>\n",
       "      <td>POINT (33.66820 50.45193)</td>\n",
       "    </tr>\n",
       "    <tr>\n",
       "      <th>9485</th>\n",
       "      <td>0.1000</td>\n",
       "      <td>0.1000</td>\n",
       "      <td>0.100</td>\n",
       "      <td>0.1000</td>\n",
       "      <td>0.1000</td>\n",
       "      <td>0.10000</td>\n",
       "      <td>0.10000</td>\n",
       "      <td>0.10000</td>\n",
       "      <td>0.1000</td>\n",
       "      <td>0.1000</td>\n",
       "      <td>0.000000</td>\n",
       "      <td>NaT</td>\n",
       "      <td>46.994448</td>\n",
       "      <td>30.633461</td>\n",
       "      <td>p557</td>\n",
       "      <td>2022-12-10</td>\n",
       "      <td>2022-12-30</td>\n",
       "      <td>False</td>\n",
       "      <td>i16</td>\n",
       "      <td>POINT (30.63346 46.99445)</td>\n",
       "    </tr>\n",
       "  </tbody>\n",
       "</table>\n",
       "<p>9486 rows × 20 columns</p>\n",
       "</div>"
      ],
      "text/plain": [
       "         B11     B12     B2      B3      B4       B5       B6       B7  \\\n",
       "0     0.1000  0.1000  0.100  0.1000  0.1000  0.10000  0.10000  0.10000   \n",
       "1     0.1000  0.1000  0.100  0.1000  0.1000  0.10000  0.10000  0.10000   \n",
       "2     0.1000  0.1000  0.100  0.1000  0.1000  0.10000  0.10000  0.10000   \n",
       "3     0.1000  0.1000  0.100  0.1000  0.1000  0.10000  0.10000  0.10000   \n",
       "4     0.1424  0.1083  0.030  0.0432  0.0631  0.07150  0.07760  0.08510   \n",
       "...      ...     ...    ...     ...     ...      ...      ...      ...   \n",
       "9481  0.2557  0.1875  0.065  0.0740  0.0973  0.11695  0.14255  0.15525   \n",
       "9482  0.1616  0.1235  0.028  0.0442  0.0525  0.06390  0.08950  0.09310   \n",
       "9483  0.1675  0.1030  0.043  0.0678  0.0460  0.10960  0.23980  0.26430   \n",
       "9484  0.1000  0.1000  0.100  0.1000  0.1000  0.10000  0.10000  0.10000   \n",
       "9485  0.1000  0.1000  0.100  0.1000  0.1000  0.10000  0.10000  0.10000   \n",
       "\n",
       "          B8     B8A      NDVI finHarvDat        lat        lon point_idx  \\\n",
       "0     0.1000  0.1000  0.000000 2022-08-11  50.655048  25.458684        p0   \n",
       "1     0.1000  0.1000  0.000000        NaT  50.294633  36.289471        p1   \n",
       "2     0.1000  0.1000  0.000000        NaT  50.860849  32.548484        p2   \n",
       "3     0.1000  0.1000  0.000000        NaT  50.928689  31.637558        p3   \n",
       "4     0.1066  0.1043  0.256335 2022-07-23  48.307964  37.348245        p4   \n",
       "...      ...     ...       ...        ...        ...        ...       ...   \n",
       "9481  0.1920  0.1847  0.327342        NaT  49.723156  36.817274      p553   \n",
       "9482  0.1152  0.1073  0.373882        NaT  45.578351  28.700480      p554   \n",
       "9483  0.2832  0.2783  0.720535        NaT  46.693510  35.051003      p555   \n",
       "9484  0.1000  0.1000  0.000000 2022-07-30  50.451929  33.668204      p556   \n",
       "9485  0.1000  0.1000  0.000000        NaT  46.994448  30.633461      p557   \n",
       "\n",
       "     start_date   end_date  har_evnt image_idx                   geometry  \n",
       "0    2022-01-08 2022-01-28     False        i0  POINT (25.45868 50.65505)  \n",
       "1    2022-01-08 2022-01-28     False        i0  POINT (36.28947 50.29463)  \n",
       "2    2022-01-08 2022-01-28     False        i0  POINT (32.54848 50.86085)  \n",
       "3    2022-01-08 2022-01-28     False        i0  POINT (31.63756 50.92869)  \n",
       "4    2022-01-08 2022-01-28     False        i0  POINT (37.34824 48.30796)  \n",
       "...         ...        ...       ...       ...                        ...  \n",
       "9481 2022-12-10 2022-12-30     False       i16  POINT (36.81727 49.72316)  \n",
       "9482 2022-12-10 2022-12-30     False       i16  POINT (28.70048 45.57835)  \n",
       "9483 2022-12-10 2022-12-30     False       i16  POINT (35.05100 46.69351)  \n",
       "9484 2022-12-10 2022-12-30     False       i16  POINT (33.66820 50.45193)  \n",
       "9485 2022-12-10 2022-12-30     False       i16  POINT (30.63346 46.99445)  \n",
       "\n",
       "[9486 rows x 20 columns]"
      ]
     },
     "execution_count": 9,
     "metadata": {},
     "output_type": "execute_result"
    }
   ],
   "source": [
    "DF"
   ]
  },
  {
   "cell_type": "code",
   "execution_count": null,
   "metadata": {},
   "outputs": [],
   "source": []
  },
  {
   "cell_type": "code",
   "execution_count": null,
   "metadata": {},
   "outputs": [],
   "source": []
  },
  {
   "cell_type": "code",
   "execution_count": 10,
   "metadata": {},
   "outputs": [
    {
     "name": "stdout",
     "output_type": "stream",
     "text": [
      "Added:  ['DVI', 'RVI', 'ARVI', 'PSSRa', 'NDI45', 'GNDVI', 'MCARI', 'IRECI', 'CIr', 'MTCI', 'NDVIre', 'NIRv', 'EVI', 'NDTI', 'NDMI', 'MSI', 'GCI', 'NBRI', 'BSI', 'NDWI', 'NDSI']\n",
      "Added:  ['sample_idx', 'DVI_diff', 'RVI_diff', 'ARVI_diff', 'PSSRa_diff', 'NDI45_diff', 'GNDVI_diff', 'MCARI_diff', 'IRECI_diff', 'CIr_diff', 'MTCI_diff', 'NDVIre_diff', 'NIRv_diff', 'EVI_diff', 'NDTI_diff', 'NDMI_diff', 'MSI_diff', 'GCI_diff', 'NBRI_diff', 'BSI_diff', 'NDWI_diff', 'NDSI_diff', 'NDVI_diff']\n",
      "Index(['B11', 'B12', 'B2', 'B3', 'B4', 'B5', 'B6', 'B7', 'B8', 'B8A', 'NDVI',\n",
      "       'finHarvDat', 'lat', 'lon', 'point_idx', 'start_date', 'end_date',\n",
      "       'har_evnt', 'image_idx', 'geometry', 'DVI', 'RVI', 'ARVI', 'PSSRa',\n",
      "       'NDI45', 'GNDVI', 'MCARI', 'IRECI', 'CIr', 'MTCI', 'NDVIre', 'NIRv',\n",
      "       'EVI', 'NDTI', 'NDMI', 'MSI', 'GCI', 'NBRI', 'BSI', 'NDWI', 'NDSI',\n",
      "       'pt_idx', 'img_idx', 'DVI_diff', 'RVI_diff', 'ARVI_diff', 'PSSRa_diff',\n",
      "       'NDI45_diff', 'GNDVI_diff', 'MCARI_diff', 'IRECI_diff', 'CIr_diff',\n",
      "       'MTCI_diff', 'NDVIre_diff', 'NIRv_diff', 'EVI_diff', 'NDTI_diff',\n",
      "       'NDMI_diff', 'MSI_diff', 'GCI_diff', 'NBRI_diff', 'BSI_diff',\n",
      "       'NDWI_diff', 'NDSI_diff', 'NDVI_diff', 'sample_idx'],\n",
      "      dtype='object') (6678, 66)\n"
     ]
    }
   ],
   "source": [
    "# cpied from learning_about-data.ipynb\n",
    "df = DF.copy()\n",
    "df = df[(df.NDVI) != 0] # drop invalid points\n",
    "VEG_INDICES_NAMES = veg_indices.add_veg_indices(df) + ['NDVI'] \n",
    "VEG_DIFF_NAMES = veg_indices.add_veg_diff(df, VEG_INDICES_NAMES)\n",
    "NUMERIC_COLS = BANDS + VEG_INDICES_NAMES + VEG_DIFF_NAMES\n",
    "df = df.dropna(subset=['sample_idx']) # removes the first image, because sample_idx is NaN there\n",
    "\n",
    "\n",
    "\"\"\" \n",
    "# only look at samples 6, 7, 8, 9\n",
    "new_df = None\n",
    "for i in range(6, 9 + 1):\n",
    "\n",
    "    curr_df = df[df[\"sample_idx\"] == f\"s{i}\"]\n",
    "    if(type(new_df) == type(None)):\n",
    "        new_df = curr_df\n",
    "    else:\n",
    "        new_df = pd.concat([new_df, curr_df])\n",
    "df = new_df\n",
    "\"\"\"\n",
    "\n",
    "print(df.columns, df.shape)\n",
    "\n",
    "\n",
    "# For each 3-week image, standarize each column\n",
    "df = utilities.get_rm_outlier_standarize(df, NUMERIC_COLS, rm_outliers=False)\n",
    "\n",
    "\n"
   ]
  },
  {
   "cell_type": "code",
   "execution_count": null,
   "metadata": {},
   "outputs": [],
   "source": []
  },
  {
   "attachments": {},
   "cell_type": "markdown",
   "metadata": {},
   "source": [
    "### Upsample harvevnt == true"
   ]
  },
  {
   "cell_type": "code",
   "execution_count": 13,
   "metadata": {},
   "outputs": [
    {
     "name": "stdout",
     "output_type": "stream",
     "text": [
      "(328, 66)\n",
      "(6350, 66)\n"
     ]
    }
   ],
   "source": [
    "har_evnt_true_df = df[df[\"har_evnt\"]]\n",
    "har_evnt_false_df = df[df[\"har_evnt\"] == False]\n",
    "print(har_evnt_true_df.shape)\n",
    "print(har_evnt_false_df.shape)"
   ]
  },
  {
   "cell_type": "code",
   "execution_count": 17,
   "metadata": {},
   "outputs": [
    {
     "data": {
      "text/plain": [
       "(6350, 66)"
      ]
     },
     "execution_count": 17,
     "metadata": {},
     "output_type": "execute_result"
    }
   ],
   "source": [
    "from sklearn.utils import resample\n",
    "\n",
    "upsampled_har_evnt_true_df = resample(har_evnt_true_df, n_samples=har_evnt_false_df.shape[0],\n",
    "                                                 replace=True, random_state=42)\n",
    "upsampled_har_evnt_true_df.shape"
   ]
  },
  {
   "cell_type": "code",
   "execution_count": null,
   "metadata": {},
   "outputs": [],
   "source": [
    "df = pd.concat([upsampled_har_evnt_true_df, har_evnt_false_df])\n",
    "df.shape"
   ]
  },
  {
   "cell_type": "code",
   "execution_count": 47,
   "metadata": {},
   "outputs": [
    {
     "data": {
      "text/plain": [
       "556"
      ]
     },
     "execution_count": 47,
     "metadata": {},
     "output_type": "execute_result"
    }
   ],
   "source": [
    "            \n",
    "points_df_list = []\n",
    "for p in  df['point_idx'].unique(): # ['p0','p1','p2','p3','p4', ...]\n",
    "    curr_df = df[df[\"point_idx\"] == p]\n",
    "    points_df_list.append(curr_df)\n",
    "len(points_df_list)"
   ]
  },
  {
   "attachments": {},
   "cell_type": "markdown",
   "metadata": {},
   "source": [
    "# Separate Train, Val datasets"
   ]
  },
  {
   "cell_type": "code",
   "execution_count": 57,
   "metadata": {},
   "outputs": [],
   "source": [
    "from sklearn.model_selection import train_test_split\n",
    "\n",
    "training_df_list, validation_df_list = train_test_split(points_df_list, train_size=0.8, random_state=42)\n"
   ]
  },
  {
   "cell_type": "code",
   "execution_count": 58,
   "metadata": {},
   "outputs": [
    {
     "name": "stdout",
     "output_type": "stream",
     "text": [
      "444\n",
      "112\n"
     ]
    }
   ],
   "source": [
    "print(len(training_df_list))\n",
    "print(len(validation_df_list))\n",
    "\n"
   ]
  },
  {
   "attachments": {},
   "cell_type": "markdown",
   "metadata": {},
   "source": [
    "# combine into two dataframes\n"
   ]
  },
  {
   "cell_type": "code",
   "execution_count": 59,
   "metadata": {},
   "outputs": [
    {
     "data": {
      "text/plain": [
       "((9971, 66), (2729, 66))"
      ]
     },
     "execution_count": 59,
     "metadata": {},
     "output_type": "execute_result"
    }
   ],
   "source": [
    "train_df = pd.concat(training_df_list)\n",
    "validate_df = pd.concat(validation_df_list)\n",
    "train_df.shape, validate_df.shape"
   ]
  },
  {
   "attachments": {},
   "cell_type": "markdown",
   "metadata": {},
   "source": [
    "# Convert to Numpy"
   ]
  },
  {
   "cell_type": "code",
   "execution_count": 62,
   "metadata": {},
   "outputs": [],
   "source": [
    "\n",
    "def get_X_y(dataframe: pd.DataFrame):\n",
    "    df_X = dataframe[VEG_DIFF_NAMES]\n",
    "    df_X = df_X.drop(['DVI_diff'], axis=1) # drop nan col\n",
    "    X = df_X.to_numpy().reshape((df_X.shape[0], df_X.shape[1], 1))\n",
    "    y = dataframe[\"har_evnt\"].to_numpy().astype(np.float32)\n",
    "    return X, y"
   ]
  },
  {
   "cell_type": "code",
   "execution_count": 64,
   "metadata": {},
   "outputs": [
    {
     "name": "stdout",
     "output_type": "stream",
     "text": [
      "(9971, 21, 1) (9971,)\n",
      "(2729, 21, 1) (2729,)\n"
     ]
    }
   ],
   "source": [
    "X_train, y_train = get_X_y(train_df)\n",
    "print(X_train.shape, y_train.shape)\n",
    "X_validate, y_validate = get_X_y(validate_df)\n",
    "print(X_validate.shape, y_validate.shape)\n"
   ]
  },
  {
   "cell_type": "code",
   "execution_count": 69,
   "metadata": {},
   "outputs": [],
   "source": [
    "from tensorflow.keras.layers import Conv1D, MaxPooling1D, Flatten, Dropout, BatchNormalization\n",
    "\n",
    "model = tf.keras.Sequential([\n",
    "    Conv1D(filters=32, kernel_size=3, activation='relu', input_shape=(X_train.shape[1], X_train.shape[2])),\n",
    "    MaxPooling1D(pool_size=2),\n",
    "    Flatten(),\n",
    "    BatchNormalization(),\n",
    "    Dense(units=64, activation='relu'),\n",
    "    Dense(units=32, activation='relu'),\n",
    "    Dense(units=8, activation='relu'),\n",
    "    Dense(units=1, activation='sigmoid')\n",
    "])\n",
    "\n",
    "#model.compile(optimizer='adam', loss='mse', metrics=['mae'])"
   ]
  },
  {
   "cell_type": "code",
   "execution_count": 70,
   "metadata": {},
   "outputs": [
    {
     "name": "stdout",
     "output_type": "stream",
     "text": [
      "Model: \"sequential_2\"\n",
      "_________________________________________________________________\n",
      " Layer (type)                Output Shape              Param #   \n",
      "=================================================================\n",
      " conv1d_2 (Conv1D)           (None, 19, 32)            128       \n",
      "                                                                 \n",
      " max_pooling1d_2 (MaxPooling  (None, 9, 32)            0         \n",
      " 1D)                                                             \n",
      "                                                                 \n",
      " flatten_2 (Flatten)         (None, 288)               0         \n",
      "                                                                 \n",
      " batch_normalization_2 (Batc  (None, 288)              1152      \n",
      " hNormalization)                                                 \n",
      "                                                                 \n",
      " dense_8 (Dense)             (None, 64)                18496     \n",
      "                                                                 \n",
      " dense_9 (Dense)             (None, 32)                2080      \n",
      "                                                                 \n",
      " dense_10 (Dense)            (None, 8)                 264       \n",
      "                                                                 \n",
      " dense_11 (Dense)            (None, 1)                 9         \n",
      "                                                                 \n",
      "=================================================================\n",
      "Total params: 22,129\n",
      "Trainable params: 21,553\n",
      "Non-trainable params: 576\n",
      "_________________________________________________________________\n"
     ]
    }
   ],
   "source": [
    "model.summary()"
   ]
  },
  {
   "cell_type": "code",
   "execution_count": 71,
   "metadata": {},
   "outputs": [],
   "source": [
    "model.compile(loss='binary_crossentropy', optimizer='adam', metrics=['binary_accuracy'])\n"
   ]
  },
  {
   "cell_type": "code",
   "execution_count": 72,
   "metadata": {},
   "outputs": [
    {
     "name": "stdout",
     "output_type": "stream",
     "text": [
      "Epoch 1/50\n",
      "312/312 [==============================] - 4s 6ms/step - loss: 0.4760 - binary_accuracy: 0.7738 - val_loss: 0.6134 - val_binary_accuracy: 0.7402\n",
      "Epoch 2/50\n",
      "312/312 [==============================] - 1s 4ms/step - loss: 0.3600 - binary_accuracy: 0.8458 - val_loss: 0.6562 - val_binary_accuracy: 0.7658\n",
      "Epoch 3/50\n",
      "312/312 [==============================] - 1s 4ms/step - loss: 0.3051 - binary_accuracy: 0.8766 - val_loss: 0.6273 - val_binary_accuracy: 0.7790\n",
      "Epoch 4/50\n",
      "312/312 [==============================] - 1s 4ms/step - loss: 0.2815 - binary_accuracy: 0.8892 - val_loss: 0.7664 - val_binary_accuracy: 0.7787\n",
      "Epoch 5/50\n",
      "312/312 [==============================] - 1s 4ms/step - loss: 0.2576 - binary_accuracy: 0.8997 - val_loss: 0.7314 - val_binary_accuracy: 0.7889\n",
      "Epoch 6/50\n",
      "312/312 [==============================] - 1s 4ms/step - loss: 0.2391 - binary_accuracy: 0.9083 - val_loss: 0.8024 - val_binary_accuracy: 0.7453\n",
      "Epoch 7/50\n",
      "312/312 [==============================] - 1s 4ms/step - loss: 0.2270 - binary_accuracy: 0.9162 - val_loss: 0.7837 - val_binary_accuracy: 0.7050\n",
      "Epoch 8/50\n",
      "312/312 [==============================] - 1s 5ms/step - loss: 0.2047 - binary_accuracy: 0.9225 - val_loss: 0.7967 - val_binary_accuracy: 0.7886\n",
      "Epoch 9/50\n",
      "312/312 [==============================] - 1s 4ms/step - loss: 0.2108 - binary_accuracy: 0.9205 - val_loss: 0.9269 - val_binary_accuracy: 0.7552\n",
      "Epoch 10/50\n",
      "312/312 [==============================] - 1s 4ms/step - loss: 0.2000 - binary_accuracy: 0.9239 - val_loss: 0.9046 - val_binary_accuracy: 0.7552\n",
      "Epoch 11/50\n",
      "312/312 [==============================] - 1s 4ms/step - loss: 0.1841 - binary_accuracy: 0.9314 - val_loss: 1.1802 - val_binary_accuracy: 0.7435\n",
      "Epoch 12/50\n",
      "312/312 [==============================] - 1s 4ms/step - loss: 0.1852 - binary_accuracy: 0.9324 - val_loss: 1.1126 - val_binary_accuracy: 0.7431\n",
      "Epoch 13/50\n",
      "312/312 [==============================] - 1s 4ms/step - loss: 0.1725 - binary_accuracy: 0.9385 - val_loss: 0.9326 - val_binary_accuracy: 0.7812\n",
      "Epoch 14/50\n",
      "312/312 [==============================] - 1s 5ms/step - loss: 0.1732 - binary_accuracy: 0.9370 - val_loss: 1.0471 - val_binary_accuracy: 0.7505\n",
      "Epoch 15/50\n",
      "312/312 [==============================] - 1s 4ms/step - loss: 0.1651 - binary_accuracy: 0.9411 - val_loss: 1.3203 - val_binary_accuracy: 0.7266\n",
      "Epoch 16/50\n",
      "312/312 [==============================] - 1s 4ms/step - loss: 0.1630 - binary_accuracy: 0.9405 - val_loss: 1.1196 - val_binary_accuracy: 0.7618\n",
      "Epoch 17/50\n",
      "312/312 [==============================] - 1s 4ms/step - loss: 0.1545 - binary_accuracy: 0.9418 - val_loss: 1.2224 - val_binary_accuracy: 0.7296\n",
      "Epoch 18/50\n",
      "312/312 [==============================] - 1s 4ms/step - loss: 0.1544 - binary_accuracy: 0.9453 - val_loss: 1.0400 - val_binary_accuracy: 0.7571\n",
      "Epoch 19/50\n",
      "312/312 [==============================] - 1s 4ms/step - loss: 0.1469 - binary_accuracy: 0.9468 - val_loss: 1.3939 - val_binary_accuracy: 0.7296\n",
      "Epoch 20/50\n",
      "312/312 [==============================] - 1s 4ms/step - loss: 0.1467 - binary_accuracy: 0.9474 - val_loss: 1.2373 - val_binary_accuracy: 0.7490\n",
      "Epoch 21/50\n",
      "312/312 [==============================] - 1s 4ms/step - loss: 0.1324 - binary_accuracy: 0.9537 - val_loss: 1.1218 - val_binary_accuracy: 0.7479\n",
      "Epoch 22/50\n",
      "312/312 [==============================] - 2s 5ms/step - loss: 0.1445 - binary_accuracy: 0.9472 - val_loss: 1.1593 - val_binary_accuracy: 0.7578\n",
      "Epoch 23/50\n",
      "312/312 [==============================] - 1s 4ms/step - loss: 0.1321 - binary_accuracy: 0.9517 - val_loss: 1.4501 - val_binary_accuracy: 0.7347\n",
      "Epoch 24/50\n",
      "312/312 [==============================] - 2s 5ms/step - loss: 0.1251 - binary_accuracy: 0.9541 - val_loss: 1.4425 - val_binary_accuracy: 0.7530\n",
      "Epoch 25/50\n",
      "312/312 [==============================] - 1s 4ms/step - loss: 0.1296 - binary_accuracy: 0.9536 - val_loss: 1.4317 - val_binary_accuracy: 0.7640\n",
      "Epoch 26/50\n",
      "312/312 [==============================] - 1s 4ms/step - loss: 0.1285 - binary_accuracy: 0.9543 - val_loss: 1.4926 - val_binary_accuracy: 0.7391\n",
      "Epoch 27/50\n",
      "312/312 [==============================] - 1s 5ms/step - loss: 0.1346 - binary_accuracy: 0.9537 - val_loss: 1.6167 - val_binary_accuracy: 0.7281\n",
      "Epoch 28/50\n",
      "312/312 [==============================] - 1s 4ms/step - loss: 0.1244 - binary_accuracy: 0.9552 - val_loss: 1.4215 - val_binary_accuracy: 0.7380\n",
      "Epoch 29/50\n",
      "312/312 [==============================] - 1s 4ms/step - loss: 0.1173 - binary_accuracy: 0.9587 - val_loss: 1.9902 - val_binary_accuracy: 0.7025\n",
      "Epoch 30/50\n",
      "312/312 [==============================] - 1s 5ms/step - loss: 0.1184 - binary_accuracy: 0.9586 - val_loss: 1.8354 - val_binary_accuracy: 0.7354\n",
      "Epoch 31/50\n",
      "312/312 [==============================] - 1s 4ms/step - loss: 0.1134 - binary_accuracy: 0.9611 - val_loss: 1.5648 - val_binary_accuracy: 0.7332\n",
      "Epoch 32/50\n",
      "312/312 [==============================] - 2s 5ms/step - loss: 0.1135 - binary_accuracy: 0.9604 - val_loss: 1.7506 - val_binary_accuracy: 0.7138\n",
      "Epoch 33/50\n",
      "312/312 [==============================] - 1s 4ms/step - loss: 0.1136 - binary_accuracy: 0.9577 - val_loss: 1.8407 - val_binary_accuracy: 0.7142\n",
      "Epoch 34/50\n",
      "312/312 [==============================] - 1s 4ms/step - loss: 0.1114 - binary_accuracy: 0.9609 - val_loss: 1.7850 - val_binary_accuracy: 0.7153\n",
      "Epoch 35/50\n",
      "312/312 [==============================] - 2s 5ms/step - loss: 0.1076 - binary_accuracy: 0.9636 - val_loss: 1.8146 - val_binary_accuracy: 0.7549\n",
      "Epoch 36/50\n",
      "312/312 [==============================] - 1s 4ms/step - loss: 0.1134 - binary_accuracy: 0.9591 - val_loss: 1.6558 - val_binary_accuracy: 0.7050\n",
      "Epoch 37/50\n",
      "312/312 [==============================] - 1s 4ms/step - loss: 0.1023 - binary_accuracy: 0.9625 - val_loss: 1.7606 - val_binary_accuracy: 0.6585\n",
      "Epoch 38/50\n",
      "312/312 [==============================] - 1s 4ms/step - loss: 0.1080 - binary_accuracy: 0.9628 - val_loss: 1.6298 - val_binary_accuracy: 0.7266\n",
      "Epoch 39/50\n",
      "312/312 [==============================] - 1s 4ms/step - loss: 0.1036 - binary_accuracy: 0.9637 - val_loss: 2.0336 - val_binary_accuracy: 0.6819\n",
      "Epoch 40/50\n",
      "312/312 [==============================] - 1s 4ms/step - loss: 0.1014 - binary_accuracy: 0.9663 - val_loss: 1.9233 - val_binary_accuracy: 0.7094\n",
      "Epoch 41/50\n",
      "312/312 [==============================] - 1s 4ms/step - loss: 0.1052 - binary_accuracy: 0.9624 - val_loss: 1.9118 - val_binary_accuracy: 0.7010\n",
      "Epoch 42/50\n",
      "312/312 [==============================] - 1s 4ms/step - loss: 0.0987 - binary_accuracy: 0.9662 - val_loss: 1.7855 - val_binary_accuracy: 0.7197\n",
      "Epoch 43/50\n",
      "312/312 [==============================] - 1s 4ms/step - loss: 0.0966 - binary_accuracy: 0.9650 - val_loss: 1.9544 - val_binary_accuracy: 0.6808\n",
      "Epoch 44/50\n",
      "312/312 [==============================] - 1s 4ms/step - loss: 0.0965 - binary_accuracy: 0.9664 - val_loss: 2.0339 - val_binary_accuracy: 0.7145\n",
      "Epoch 45/50\n",
      "312/312 [==============================] - 1s 5ms/step - loss: 0.0907 - binary_accuracy: 0.9680 - val_loss: 2.1013 - val_binary_accuracy: 0.7021\n",
      "Epoch 46/50\n",
      "312/312 [==============================] - 1s 4ms/step - loss: 0.0955 - binary_accuracy: 0.9662 - val_loss: 2.1268 - val_binary_accuracy: 0.6328\n",
      "Epoch 47/50\n",
      "312/312 [==============================] - 1s 4ms/step - loss: 0.0955 - binary_accuracy: 0.9657 - val_loss: 1.8609 - val_binary_accuracy: 0.7043\n",
      "Epoch 48/50\n",
      "312/312 [==============================] - 1s 5ms/step - loss: 0.0911 - binary_accuracy: 0.9678 - val_loss: 1.8308 - val_binary_accuracy: 0.6999\n",
      "Epoch 49/50\n",
      "312/312 [==============================] - 1s 4ms/step - loss: 0.0876 - binary_accuracy: 0.9680 - val_loss: 2.4458 - val_binary_accuracy: 0.6951\n",
      "Epoch 50/50\n",
      "312/312 [==============================] - 1s 4ms/step - loss: 0.0973 - binary_accuracy: 0.9643 - val_loss: 2.0652 - val_binary_accuracy: 0.6966\n"
     ]
    }
   ],
   "source": [
    "history = model.fit(X_train, y_train, epochs=50, validation_data=(X_validate, y_validate))\n"
   ]
  },
  {
   "cell_type": "code",
   "execution_count": 73,
   "metadata": {},
   "outputs": [],
   "source": [
    "acc = history.history['binary_accuracy']\n",
    "val_acc = history.history['val_binary_accuracy']\n",
    "loss = history.history['loss']\n",
    "val_loss = history.history['val_loss']"
   ]
  },
  {
   "cell_type": "code",
   "execution_count": 74,
   "metadata": {},
   "outputs": [
    {
     "data": {
      "image/png": "[encoded data removed]",
      "text/plain": [
       "<Figure size 640x480 with 1 Axes>"
      ]
     },
     "metadata": {},
     "output_type": "display_data"
    },
    {
     "data": {
      "image/png": "[encoded data removed]",
      "text/plain": [
       "<Figure size 640x480 with 1 Axes>"
      ]
     },
     "metadata": {},
     "output_type": "display_data"
    }
   ],
   "source": [
    "import matplotlib.pyplot as plt\n",
    "\n",
    "epochs = range(1, len(acc) + 1)\n",
    "\n",
    "plt.plot(epochs, acc, 'bo', label='Training acc')\n",
    "plt.plot(epochs, val_acc, 'b', label='Validation acc')\n",
    "plt.title('Training and validation accuracy')\n",
    "plt.legend()\n",
    "\n",
    "plt.figure()\n",
    "\n",
    "plt.plot(epochs, loss, 'bo', label='Training loss')\n",
    "plt.plot(epochs, val_loss, 'b', label='Validation loss')\n",
    "plt.title('Training and validation loss')\n",
    "plt.legend()\n",
    "\n",
    "plt.show()"
   ]
  },
  {
   "cell_type": "code",
   "execution_count": null,
   "metadata": {},
   "outputs": [],
   "source": []
  },
  {
   "cell_type": "code",
   "execution_count": null,
   "metadata": {},
   "outputs": [],
   "source": []
  },
  {
   "cell_type": "code",
   "execution_count": null,
   "metadata": {},
   "outputs": [],
   "source": []
  },
  {
   "cell_type": "code",
   "execution_count": null,
   "metadata": {},
   "outputs": [],
   "source": []
  },
  {
   "cell_type": "code",
   "execution_count": null,
   "metadata": {},
   "outputs": [],
   "source": []
  },
  {
   "cell_type": "code",
   "execution_count": null,
   "metadata": {},
   "outputs": [],
   "source": []
  },
  {
   "cell_type": "code",
   "execution_count": null,
   "metadata": {},
   "outputs": [],
   "source": []
  },
  {
   "cell_type": "code",
   "execution_count": 75,
   "metadata": {},
   "outputs": [
    {
     "ename": "ValueError",
     "evalue": "in user code:\n\n    File \"/Users/tahaalnufaili/Library/Caches/pypoetry/virtualenvs/harvest-event-detec-Fyp2lGEN-py3.9/lib/python3.9/site-packages/keras/engine/training.py\", line 1249, in train_function  *\n        return step_function(self, iterator)\n    File \"/Users/tahaalnufaili/Library/Caches/pypoetry/virtualenvs/harvest-event-detec-Fyp2lGEN-py3.9/lib/python3.9/site-packages/keras/engine/training.py\", line 1233, in step_function  **\n        outputs = model.distribute_strategy.run(run_step, args=(data,))\n    File \"/Users/tahaalnufaili/Library/Caches/pypoetry/virtualenvs/harvest-event-detec-Fyp2lGEN-py3.9/lib/python3.9/site-packages/keras/engine/training.py\", line 1222, in run_step  **\n        outputs = model.train_step(data)\n    File \"/Users/tahaalnufaili/Library/Caches/pypoetry/virtualenvs/harvest-event-detec-Fyp2lGEN-py3.9/lib/python3.9/site-packages/keras/engine/training.py\", line 1023, in train_step\n        y_pred = self(x, training=True)\n    File \"/Users/tahaalnufaili/Library/Caches/pypoetry/virtualenvs/harvest-event-detec-Fyp2lGEN-py3.9/lib/python3.9/site-packages/keras/utils/traceback_utils.py\", line 70, in error_handler\n        raise e.with_traceback(filtered_tb) from None\n    File \"/Users/tahaalnufaili/Library/Caches/pypoetry/virtualenvs/harvest-event-detec-Fyp2lGEN-py3.9/lib/python3.9/site-packages/keras/engine/input_spec.py\", line 295, in assert_input_compatibility\n        raise ValueError(\n\n    ValueError: Input 0 of layer \"sequential_3\" is incompatible with the layer: expected shape=(None, 1249, 57), found shape=(None, 57)\n",
     "output_type": "error",
     "traceback": [
      "\u001b[0;31m---------------------------------------------------------------------------\u001b[0m",
      "\u001b[0;31mValueError\u001b[0m                                Traceback (most recent call last)",
      "Cell \u001b[0;32mIn[75], line 5\u001b[0m\n\u001b[1;32m      1\u001b[0m \u001b[39mfrom\u001b[39;00m \u001b[39msklearn\u001b[39;00m\u001b[39m.\u001b[39;00m\u001b[39mmodel_selection\u001b[39;00m \u001b[39mimport\u001b[39;00m train_test_split\n\u001b[1;32m      3\u001b[0m trainX, testX, trainy, testy \u001b[39m=\u001b[39m  train_test_split(X, Y, test_size \u001b[39m=\u001b[39m \u001b[39m0.4\u001b[39m,random_state\u001b[39m=\u001b[39m\u001b[39m42\u001b[39m) \n\u001b[0;32m----> 5\u001b[0m evaluate_model(trainX, trainy, testX, testy)\n",
      "Cell \u001b[0;32mIn[71], line 14\u001b[0m, in \u001b[0;36mevaluate_model\u001b[0;34m(trainX, trainy, testX, testy)\u001b[0m\n\u001b[1;32m     12\u001b[0m model\u001b[39m.\u001b[39mcompile(loss\u001b[39m=\u001b[39m\u001b[39m'\u001b[39m\u001b[39mcategorical_crossentropy\u001b[39m\u001b[39m'\u001b[39m, optimizer\u001b[39m=\u001b[39m\u001b[39m'\u001b[39m\u001b[39madam\u001b[39m\u001b[39m'\u001b[39m, metrics\u001b[39m=\u001b[39m[\u001b[39m'\u001b[39m\u001b[39maccuracy\u001b[39m\u001b[39m'\u001b[39m])\n\u001b[1;32m     13\u001b[0m \u001b[39m# fit network\u001b[39;00m\n\u001b[0;32m---> 14\u001b[0m model\u001b[39m.\u001b[39;49mfit(trainX, trainy, epochs\u001b[39m=\u001b[39;49mepochs, batch_size\u001b[39m=\u001b[39;49mbatch_size, verbose\u001b[39m=\u001b[39;49mverbose)\n\u001b[1;32m     15\u001b[0m \u001b[39m# evaluate model\u001b[39;00m\n\u001b[1;32m     16\u001b[0m _, accuracy \u001b[39m=\u001b[39m model\u001b[39m.\u001b[39mevaluate(testX, testy, batch_size\u001b[39m=\u001b[39mbatch_size, verbose\u001b[39m=\u001b[39m\u001b[39m0\u001b[39m)\n",
      "File \u001b[0;32m~/Library/Caches/pypoetry/virtualenvs/harvest-event-detec-Fyp2lGEN-py3.9/lib/python3.9/site-packages/keras/utils/traceback_utils.py:70\u001b[0m, in \u001b[0;36mfilter_traceback.<locals>.error_handler\u001b[0;34m(*args, **kwargs)\u001b[0m\n\u001b[1;32m     67\u001b[0m     filtered_tb \u001b[39m=\u001b[39m _process_traceback_frames(e\u001b[39m.\u001b[39m__traceback__)\n\u001b[1;32m     68\u001b[0m     \u001b[39m# To get the full stack trace, call:\u001b[39;00m\n\u001b[1;32m     69\u001b[0m     \u001b[39m# `tf.debugging.disable_traceback_filtering()`\u001b[39;00m\n\u001b[0;32m---> 70\u001b[0m     \u001b[39mraise\u001b[39;00m e\u001b[39m.\u001b[39mwith_traceback(filtered_tb) \u001b[39mfrom\u001b[39;00m \u001b[39mNone\u001b[39m\n\u001b[1;32m     71\u001b[0m \u001b[39mfinally\u001b[39;00m:\n\u001b[1;32m     72\u001b[0m     \u001b[39mdel\u001b[39;00m filtered_tb\n",
      "File \u001b[0;32m/var/folders/6q/tw4w22c97c98vxdk2crxzdb00000gn/T/__autograph_generated_fileemzwtj1w.py:15\u001b[0m, in \u001b[0;36mouter_factory.<locals>.inner_factory.<locals>.tf__train_function\u001b[0;34m(iterator)\u001b[0m\n\u001b[1;32m     13\u001b[0m \u001b[39mtry\u001b[39;00m:\n\u001b[1;32m     14\u001b[0m     do_return \u001b[39m=\u001b[39m \u001b[39mTrue\u001b[39;00m\n\u001b[0;32m---> 15\u001b[0m     retval_ \u001b[39m=\u001b[39m ag__\u001b[39m.\u001b[39mconverted_call(ag__\u001b[39m.\u001b[39mld(step_function), (ag__\u001b[39m.\u001b[39mld(\u001b[39mself\u001b[39m), ag__\u001b[39m.\u001b[39mld(iterator)), \u001b[39mNone\u001b[39;00m, fscope)\n\u001b[1;32m     16\u001b[0m \u001b[39mexcept\u001b[39;00m:\n\u001b[1;32m     17\u001b[0m     do_return \u001b[39m=\u001b[39m \u001b[39mFalse\u001b[39;00m\n",
      "\u001b[0;31mValueError\u001b[0m: in user code:\n\n    File \"/Users/tahaalnufaili/Library/Caches/pypoetry/virtualenvs/harvest-event-detec-Fyp2lGEN-py3.9/lib/python3.9/site-packages/keras/engine/training.py\", line 1249, in train_function  *\n        return step_function(self, iterator)\n    File \"/Users/tahaalnufaili/Library/Caches/pypoetry/virtualenvs/harvest-event-detec-Fyp2lGEN-py3.9/lib/python3.9/site-packages/keras/engine/training.py\", line 1233, in step_function  **\n        outputs = model.distribute_strategy.run(run_step, args=(data,))\n    File \"/Users/tahaalnufaili/Library/Caches/pypoetry/virtualenvs/harvest-event-detec-Fyp2lGEN-py3.9/lib/python3.9/site-packages/keras/engine/training.py\", line 1222, in run_step  **\n        outputs = model.train_step(data)\n    File \"/Users/tahaalnufaili/Library/Caches/pypoetry/virtualenvs/harvest-event-detec-Fyp2lGEN-py3.9/lib/python3.9/site-packages/keras/engine/training.py\", line 1023, in train_step\n        y_pred = self(x, training=True)\n    File \"/Users/tahaalnufaili/Library/Caches/pypoetry/virtualenvs/harvest-event-detec-Fyp2lGEN-py3.9/lib/python3.9/site-packages/keras/utils/traceback_utils.py\", line 70, in error_handler\n        raise e.with_traceback(filtered_tb) from None\n    File \"/Users/tahaalnufaili/Library/Caches/pypoetry/virtualenvs/harvest-event-detec-Fyp2lGEN-py3.9/lib/python3.9/site-packages/keras/engine/input_spec.py\", line 295, in assert_input_compatibility\n        raise ValueError(\n\n    ValueError: Input 0 of layer \"sequential_3\" is incompatible with the layer: expected shape=(None, 1249, 57), found shape=(None, 57)\n"
     ]
    }
   ],
   "source": [
    "from sklearn.model_selection import train_test_split\n",
    "\n",
    "trainX, testX, trainy, testy =  train_test_split(X, Y, test_size = 0.4,random_state=42) \n",
    "\n",
    "evaluate_model(trainX, trainy, testX, testy)"
   ]
  },
  {
   "cell_type": "code",
   "execution_count": null,
   "metadata": {},
   "outputs": [
    {
     "data": {
      "text/plain": [
       "((1249, 1), (834, 57))"
      ]
     },
     "execution_count": 74,
     "metadata": {},
     "output_type": "execute_result"
    }
   ],
   "source": [
    "testX.shape, trainy.shape"
   ]
  },
  {
   "cell_type": "code",
   "execution_count": null,
   "metadata": {},
   "outputs": [],
   "source": []
  }
 ],
 "metadata": {
  "kernelspec": {
   "display_name": "harvest-event-detec-Fyp2lGEN-py3.9",
   "language": "python",
   "name": "python3"
  },
  "language_info": {
   "codemirror_mode": {
    "name": "ipython",
    "version": 3
   },
   "file_extension": ".py",
   "mimetype": "text/x-python",
   "name": "python",
   "nbconvert_exporter": "python",
   "pygments_lexer": "ipython3",
   "version": "3.9.0"
  },
  "orig_nbformat": 4
 },
 "nbformat": 4,
 "nbformat_minor": 2
}

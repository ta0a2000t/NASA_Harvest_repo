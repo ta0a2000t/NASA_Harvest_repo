{
 "cells": [
  {
   "attachments": {},
   "cell_type": "markdown",
   "metadata": {},
   "source": [
    "## call \"~/.local/bin/poetry\" if poetry keyword not working on mac"
   ]
  },
  {
   "cell_type": "code",
   "execution_count": 1,
   "metadata": {},
   "outputs": [],
   "source": [
    "import datetime\n",
    "import geopandas\n",
    "import numpy as np\n",
    "import pandas as pd\n",
    "pd.options.mode.chained_assignment = None  # default='warn'\n",
    "\n",
    "import tensorflow as tf\n",
    "from tensorflow.keras.models import Sequential\n",
    "from tensorflow.keras.layers import Dense"
   ]
  },
  {
   "attachments": {},
   "cell_type": "markdown",
   "metadata": {},
   "source": []
  },
  {
   "cell_type": "code",
   "execution_count": 2,
   "metadata": {},
   "outputs": [],
   "source": [
    "# TODO try only with best performing numeric columns for input into model first\n",
    "# TODO select features for deep learning model after ranking features with random forest (feature importance)\n",
    "# TODO lstm network\n",
    "# DONE TODO SMOTE algorithm, for upsampling havested fields; we only have ~300 :("
   ]
  },
  {
   "cell_type": "code",
   "execution_count": 3,
   "metadata": {},
   "outputs": [],
   "source": [
    "# 1- upsample with smote DONE\n",
    "# 2- select best featues with random forests"
   ]
  },
  {
   "cell_type": "code",
   "execution_count": 4,
   "metadata": {},
   "outputs": [],
   "source": [
    "#local scripts\n",
    "\n",
    "from scripts import veg_indices, utilities, plots\n",
    "#from scripts.utilities import *"
   ]
  },
  {
   "cell_type": "code",
   "execution_count": 5,
   "metadata": {},
   "outputs": [],
   "source": [
    "# cpied from learning_about-data.ipynb\n",
    "BANDS_DICT = {   'B2': 'Blue',\n",
    "            'B3': 'Green',\n",
    "            'B4': 'Red',\n",
    "            'B5': 'Red_Edge_1',\n",
    "            'B6': 'Red_Edge_2',\n",
    "            'B7': 'Red_Edge_3',\n",
    "            'B8': 'NIR',\n",
    "            'B8A': 'Red_Edge_4',\n",
    "            'B11': 'SWIR_1',\n",
    "            'B12': 'SWIR_2'}\n",
    "\n",
    "BANDS = list(BANDS_DICT.keys())"
   ]
  },
  {
   "cell_type": "code",
   "execution_count": 6,
   "metadata": {},
   "outputs": [],
   "source": [
    "# cpied from learning_about-data.ipynb\n",
    "DF = geopandas.read_file('../data/merged_images.geojson')\n",
    "DF.rename(columns = {'is_within_period':'har_evnt'}, inplace = True)\n",
    "NUM_SAMPLES = len(np.unique(DF.image_idx)) - 1"
   ]
  },
  {
   "cell_type": "code",
   "execution_count": 7,
   "metadata": {},
   "outputs": [
    {
     "data": {
      "text/html": [
       "<div>\n",
       "<style scoped>\n",
       "    .dataframe tbody tr th:only-of-type {\n",
       "        vertical-align: middle;\n",
       "    }\n",
       "\n",
       "    .dataframe tbody tr th {\n",
       "        vertical-align: top;\n",
       "    }\n",
       "\n",
       "    .dataframe thead th {\n",
       "        text-align: right;\n",
       "    }\n",
       "</style>\n",
       "<table border=\"1\" class=\"dataframe\">\n",
       "  <thead>\n",
       "    <tr style=\"text-align: right;\">\n",
       "      <th></th>\n",
       "      <th>B11</th>\n",
       "      <th>B12</th>\n",
       "      <th>B2</th>\n",
       "      <th>B3</th>\n",
       "      <th>B4</th>\n",
       "      <th>B5</th>\n",
       "      <th>B6</th>\n",
       "      <th>B7</th>\n",
       "      <th>B8</th>\n",
       "      <th>B8A</th>\n",
       "      <th>NDVI</th>\n",
       "      <th>finHarvDat</th>\n",
       "      <th>lat</th>\n",
       "      <th>lon</th>\n",
       "      <th>point_idx</th>\n",
       "      <th>start_date</th>\n",
       "      <th>end_date</th>\n",
       "      <th>har_evnt</th>\n",
       "      <th>image_idx</th>\n",
       "      <th>geometry</th>\n",
       "    </tr>\n",
       "  </thead>\n",
       "  <tbody>\n",
       "    <tr>\n",
       "      <th>0</th>\n",
       "      <td>0.1000</td>\n",
       "      <td>0.1000</td>\n",
       "      <td>0.100</td>\n",
       "      <td>0.1000</td>\n",
       "      <td>0.1000</td>\n",
       "      <td>0.10000</td>\n",
       "      <td>0.10000</td>\n",
       "      <td>0.10000</td>\n",
       "      <td>0.1000</td>\n",
       "      <td>0.1000</td>\n",
       "      <td>0.000000</td>\n",
       "      <td>2022-08-11</td>\n",
       "      <td>50.655048</td>\n",
       "      <td>25.458684</td>\n",
       "      <td>p0</td>\n",
       "      <td>2022-01-08</td>\n",
       "      <td>2022-01-28</td>\n",
       "      <td>False</td>\n",
       "      <td>i0</td>\n",
       "      <td>POINT (25.45868 50.65505)</td>\n",
       "    </tr>\n",
       "    <tr>\n",
       "      <th>1</th>\n",
       "      <td>0.1000</td>\n",
       "      <td>0.1000</td>\n",
       "      <td>0.100</td>\n",
       "      <td>0.1000</td>\n",
       "      <td>0.1000</td>\n",
       "      <td>0.10000</td>\n",
       "      <td>0.10000</td>\n",
       "      <td>0.10000</td>\n",
       "      <td>0.1000</td>\n",
       "      <td>0.1000</td>\n",
       "      <td>0.000000</td>\n",
       "      <td>NaT</td>\n",
       "      <td>50.294633</td>\n",
       "      <td>36.289471</td>\n",
       "      <td>p1</td>\n",
       "      <td>2022-01-08</td>\n",
       "      <td>2022-01-28</td>\n",
       "      <td>False</td>\n",
       "      <td>i0</td>\n",
       "      <td>POINT (36.28947 50.29463)</td>\n",
       "    </tr>\n",
       "    <tr>\n",
       "      <th>2</th>\n",
       "      <td>0.1000</td>\n",
       "      <td>0.1000</td>\n",
       "      <td>0.100</td>\n",
       "      <td>0.1000</td>\n",
       "      <td>0.1000</td>\n",
       "      <td>0.10000</td>\n",
       "      <td>0.10000</td>\n",
       "      <td>0.10000</td>\n",
       "      <td>0.1000</td>\n",
       "      <td>0.1000</td>\n",
       "      <td>0.000000</td>\n",
       "      <td>NaT</td>\n",
       "      <td>50.860849</td>\n",
       "      <td>32.548484</td>\n",
       "      <td>p2</td>\n",
       "      <td>2022-01-08</td>\n",
       "      <td>2022-01-28</td>\n",
       "      <td>False</td>\n",
       "      <td>i0</td>\n",
       "      <td>POINT (32.54848 50.86085)</td>\n",
       "    </tr>\n",
       "    <tr>\n",
       "      <th>3</th>\n",
       "      <td>0.1000</td>\n",
       "      <td>0.1000</td>\n",
       "      <td>0.100</td>\n",
       "      <td>0.1000</td>\n",
       "      <td>0.1000</td>\n",
       "      <td>0.10000</td>\n",
       "      <td>0.10000</td>\n",
       "      <td>0.10000</td>\n",
       "      <td>0.1000</td>\n",
       "      <td>0.1000</td>\n",
       "      <td>0.000000</td>\n",
       "      <td>NaT</td>\n",
       "      <td>50.928689</td>\n",
       "      <td>31.637558</td>\n",
       "      <td>p3</td>\n",
       "      <td>2022-01-08</td>\n",
       "      <td>2022-01-28</td>\n",
       "      <td>False</td>\n",
       "      <td>i0</td>\n",
       "      <td>POINT (31.63756 50.92869)</td>\n",
       "    </tr>\n",
       "    <tr>\n",
       "      <th>4</th>\n",
       "      <td>0.1424</td>\n",
       "      <td>0.1083</td>\n",
       "      <td>0.030</td>\n",
       "      <td>0.0432</td>\n",
       "      <td>0.0631</td>\n",
       "      <td>0.07150</td>\n",
       "      <td>0.07760</td>\n",
       "      <td>0.08510</td>\n",
       "      <td>0.1066</td>\n",
       "      <td>0.1043</td>\n",
       "      <td>0.256335</td>\n",
       "      <td>2022-07-23</td>\n",
       "      <td>48.307964</td>\n",
       "      <td>37.348245</td>\n",
       "      <td>p4</td>\n",
       "      <td>2022-01-08</td>\n",
       "      <td>2022-01-28</td>\n",
       "      <td>False</td>\n",
       "      <td>i0</td>\n",
       "      <td>POINT (37.34824 48.30796)</td>\n",
       "    </tr>\n",
       "    <tr>\n",
       "      <th>...</th>\n",
       "      <td>...</td>\n",
       "      <td>...</td>\n",
       "      <td>...</td>\n",
       "      <td>...</td>\n",
       "      <td>...</td>\n",
       "      <td>...</td>\n",
       "      <td>...</td>\n",
       "      <td>...</td>\n",
       "      <td>...</td>\n",
       "      <td>...</td>\n",
       "      <td>...</td>\n",
       "      <td>...</td>\n",
       "      <td>...</td>\n",
       "      <td>...</td>\n",
       "      <td>...</td>\n",
       "      <td>...</td>\n",
       "      <td>...</td>\n",
       "      <td>...</td>\n",
       "      <td>...</td>\n",
       "      <td>...</td>\n",
       "    </tr>\n",
       "    <tr>\n",
       "      <th>9481</th>\n",
       "      <td>0.2557</td>\n",
       "      <td>0.1875</td>\n",
       "      <td>0.065</td>\n",
       "      <td>0.0740</td>\n",
       "      <td>0.0973</td>\n",
       "      <td>0.11695</td>\n",
       "      <td>0.14255</td>\n",
       "      <td>0.15525</td>\n",
       "      <td>0.1920</td>\n",
       "      <td>0.1847</td>\n",
       "      <td>0.327342</td>\n",
       "      <td>NaT</td>\n",
       "      <td>49.723156</td>\n",
       "      <td>36.817274</td>\n",
       "      <td>p553</td>\n",
       "      <td>2022-12-10</td>\n",
       "      <td>2022-12-30</td>\n",
       "      <td>False</td>\n",
       "      <td>i16</td>\n",
       "      <td>POINT (36.81727 49.72316)</td>\n",
       "    </tr>\n",
       "    <tr>\n",
       "      <th>9482</th>\n",
       "      <td>0.1616</td>\n",
       "      <td>0.1235</td>\n",
       "      <td>0.028</td>\n",
       "      <td>0.0442</td>\n",
       "      <td>0.0525</td>\n",
       "      <td>0.06390</td>\n",
       "      <td>0.08950</td>\n",
       "      <td>0.09310</td>\n",
       "      <td>0.1152</td>\n",
       "      <td>0.1073</td>\n",
       "      <td>0.373882</td>\n",
       "      <td>NaT</td>\n",
       "      <td>45.578351</td>\n",
       "      <td>28.700480</td>\n",
       "      <td>p554</td>\n",
       "      <td>2022-12-10</td>\n",
       "      <td>2022-12-30</td>\n",
       "      <td>False</td>\n",
       "      <td>i16</td>\n",
       "      <td>POINT (28.70048 45.57835)</td>\n",
       "    </tr>\n",
       "    <tr>\n",
       "      <th>9483</th>\n",
       "      <td>0.1675</td>\n",
       "      <td>0.1030</td>\n",
       "      <td>0.043</td>\n",
       "      <td>0.0678</td>\n",
       "      <td>0.0460</td>\n",
       "      <td>0.10960</td>\n",
       "      <td>0.23980</td>\n",
       "      <td>0.26430</td>\n",
       "      <td>0.2832</td>\n",
       "      <td>0.2783</td>\n",
       "      <td>0.720535</td>\n",
       "      <td>NaT</td>\n",
       "      <td>46.693510</td>\n",
       "      <td>35.051003</td>\n",
       "      <td>p555</td>\n",
       "      <td>2022-12-10</td>\n",
       "      <td>2022-12-30</td>\n",
       "      <td>False</td>\n",
       "      <td>i16</td>\n",
       "      <td>POINT (35.05100 46.69351)</td>\n",
       "    </tr>\n",
       "    <tr>\n",
       "      <th>9484</th>\n",
       "      <td>0.1000</td>\n",
       "      <td>0.1000</td>\n",
       "      <td>0.100</td>\n",
       "      <td>0.1000</td>\n",
       "      <td>0.1000</td>\n",
       "      <td>0.10000</td>\n",
       "      <td>0.10000</td>\n",
       "      <td>0.10000</td>\n",
       "      <td>0.1000</td>\n",
       "      <td>0.1000</td>\n",
       "      <td>0.000000</td>\n",
       "      <td>2022-07-30</td>\n",
       "      <td>50.451929</td>\n",
       "      <td>33.668204</td>\n",
       "      <td>p556</td>\n",
       "      <td>2022-12-10</td>\n",
       "      <td>2022-12-30</td>\n",
       "      <td>False</td>\n",
       "      <td>i16</td>\n",
       "      <td>POINT (33.66820 50.45193)</td>\n",
       "    </tr>\n",
       "    <tr>\n",
       "      <th>9485</th>\n",
       "      <td>0.1000</td>\n",
       "      <td>0.1000</td>\n",
       "      <td>0.100</td>\n",
       "      <td>0.1000</td>\n",
       "      <td>0.1000</td>\n",
       "      <td>0.10000</td>\n",
       "      <td>0.10000</td>\n",
       "      <td>0.10000</td>\n",
       "      <td>0.1000</td>\n",
       "      <td>0.1000</td>\n",
       "      <td>0.000000</td>\n",
       "      <td>NaT</td>\n",
       "      <td>46.994448</td>\n",
       "      <td>30.633461</td>\n",
       "      <td>p557</td>\n",
       "      <td>2022-12-10</td>\n",
       "      <td>2022-12-30</td>\n",
       "      <td>False</td>\n",
       "      <td>i16</td>\n",
       "      <td>POINT (30.63346 46.99445)</td>\n",
       "    </tr>\n",
       "  </tbody>\n",
       "</table>\n",
       "<p>9486 rows × 20 columns</p>\n",
       "</div>"
      ],
      "text/plain": [
       "         B11     B12     B2      B3      B4       B5       B6       B7   \n",
       "0     0.1000  0.1000  0.100  0.1000  0.1000  0.10000  0.10000  0.10000  \\\n",
       "1     0.1000  0.1000  0.100  0.1000  0.1000  0.10000  0.10000  0.10000   \n",
       "2     0.1000  0.1000  0.100  0.1000  0.1000  0.10000  0.10000  0.10000   \n",
       "3     0.1000  0.1000  0.100  0.1000  0.1000  0.10000  0.10000  0.10000   \n",
       "4     0.1424  0.1083  0.030  0.0432  0.0631  0.07150  0.07760  0.08510   \n",
       "...      ...     ...    ...     ...     ...      ...      ...      ...   \n",
       "9481  0.2557  0.1875  0.065  0.0740  0.0973  0.11695  0.14255  0.15525   \n",
       "9482  0.1616  0.1235  0.028  0.0442  0.0525  0.06390  0.08950  0.09310   \n",
       "9483  0.1675  0.1030  0.043  0.0678  0.0460  0.10960  0.23980  0.26430   \n",
       "9484  0.1000  0.1000  0.100  0.1000  0.1000  0.10000  0.10000  0.10000   \n",
       "9485  0.1000  0.1000  0.100  0.1000  0.1000  0.10000  0.10000  0.10000   \n",
       "\n",
       "          B8     B8A      NDVI finHarvDat        lat        lon point_idx   \n",
       "0     0.1000  0.1000  0.000000 2022-08-11  50.655048  25.458684        p0  \\\n",
       "1     0.1000  0.1000  0.000000        NaT  50.294633  36.289471        p1   \n",
       "2     0.1000  0.1000  0.000000        NaT  50.860849  32.548484        p2   \n",
       "3     0.1000  0.1000  0.000000        NaT  50.928689  31.637558        p3   \n",
       "4     0.1066  0.1043  0.256335 2022-07-23  48.307964  37.348245        p4   \n",
       "...      ...     ...       ...        ...        ...        ...       ...   \n",
       "9481  0.1920  0.1847  0.327342        NaT  49.723156  36.817274      p553   \n",
       "9482  0.1152  0.1073  0.373882        NaT  45.578351  28.700480      p554   \n",
       "9483  0.2832  0.2783  0.720535        NaT  46.693510  35.051003      p555   \n",
       "9484  0.1000  0.1000  0.000000 2022-07-30  50.451929  33.668204      p556   \n",
       "9485  0.1000  0.1000  0.000000        NaT  46.994448  30.633461      p557   \n",
       "\n",
       "     start_date   end_date  har_evnt image_idx                   geometry  \n",
       "0    2022-01-08 2022-01-28     False        i0  POINT (25.45868 50.65505)  \n",
       "1    2022-01-08 2022-01-28     False        i0  POINT (36.28947 50.29463)  \n",
       "2    2022-01-08 2022-01-28     False        i0  POINT (32.54848 50.86085)  \n",
       "3    2022-01-08 2022-01-28     False        i0  POINT (31.63756 50.92869)  \n",
       "4    2022-01-08 2022-01-28     False        i0  POINT (37.34824 48.30796)  \n",
       "...         ...        ...       ...       ...                        ...  \n",
       "9481 2022-12-10 2022-12-30     False       i16  POINT (36.81727 49.72316)  \n",
       "9482 2022-12-10 2022-12-30     False       i16  POINT (28.70048 45.57835)  \n",
       "9483 2022-12-10 2022-12-30     False       i16  POINT (35.05100 46.69351)  \n",
       "9484 2022-12-10 2022-12-30     False       i16  POINT (33.66820 50.45193)  \n",
       "9485 2022-12-10 2022-12-30     False       i16  POINT (30.63346 46.99445)  \n",
       "\n",
       "[9486 rows x 20 columns]"
      ]
     },
     "execution_count": 7,
     "metadata": {},
     "output_type": "execute_result"
    }
   ],
   "source": [
    "DF"
   ]
  },
  {
   "cell_type": "code",
   "execution_count": null,
   "metadata": {},
   "outputs": [],
   "source": []
  },
  {
   "cell_type": "code",
   "execution_count": null,
   "metadata": {},
   "outputs": [],
   "source": []
  },
  {
   "cell_type": "code",
   "execution_count": 8,
   "metadata": {},
   "outputs": [
    {
     "name": "stdout",
     "output_type": "stream",
     "text": [
      "Added:  ['DVI', 'RVI', 'ARVI', 'PSSRa', 'NDI45', 'GNDVI', 'MCARI', 'IRECI', 'CIr', 'MTCI', 'NDVIre', 'NIRv', 'EVI', 'NDTI', 'NDMI', 'MSI', 'GCI', 'NBRI', 'BSI', 'NDWI', 'NDSI']\n",
      "Added:  ['sample_idx', 'DVI_diff', 'RVI_diff', 'ARVI_diff', 'PSSRa_diff', 'NDI45_diff', 'GNDVI_diff', 'MCARI_diff', 'IRECI_diff', 'CIr_diff', 'MTCI_diff', 'NDVIre_diff', 'NIRv_diff', 'EVI_diff', 'NDTI_diff', 'NDMI_diff', 'MSI_diff', 'GCI_diff', 'NBRI_diff', 'BSI_diff', 'NDWI_diff', 'NDSI_diff', 'NDVI_diff']\n",
      "Index(['B11', 'B12', 'B2', 'B3', 'B4', 'B5', 'B6', 'B7', 'B8', 'B8A', 'NDVI',\n",
      "       'finHarvDat', 'lat', 'lon', 'point_idx', 'start_date', 'end_date',\n",
      "       'har_evnt', 'image_idx', 'geometry', 'DVI', 'RVI', 'ARVI', 'PSSRa',\n",
      "       'NDI45', 'GNDVI', 'MCARI', 'IRECI', 'CIr', 'MTCI', 'NDVIre', 'NIRv',\n",
      "       'EVI', 'NDTI', 'NDMI', 'MSI', 'GCI', 'NBRI', 'BSI', 'NDWI', 'NDSI',\n",
      "       'pt_idx', 'img_idx', 'DVI_diff', 'RVI_diff', 'ARVI_diff', 'PSSRa_diff',\n",
      "       'NDI45_diff', 'GNDVI_diff', 'MCARI_diff', 'IRECI_diff', 'CIr_diff',\n",
      "       'MTCI_diff', 'NDVIre_diff', 'NIRv_diff', 'EVI_diff', 'NDTI_diff',\n",
      "       'NDMI_diff', 'MSI_diff', 'GCI_diff', 'NBRI_diff', 'BSI_diff',\n",
      "       'NDWI_diff', 'NDSI_diff', 'NDVI_diff', 'sample_idx'],\n",
      "      dtype='object') (6678, 66)\n"
     ]
    }
   ],
   "source": [
    "# cpied from learning_about-data.ipynb\n",
    "df = DF.copy()\n",
    "df = df[(df.NDVI) != 0] # drop invalid points\n",
    "VEG_INDICES_NAMES = veg_indices.add_veg_indices(df) + ['NDVI'] \n",
    "VEG_DIFF_NAMES = veg_indices.add_veg_diff(df, VEG_INDICES_NAMES)\n",
    "NUMERIC_COLS = BANDS + VEG_INDICES_NAMES + VEG_DIFF_NAMES\n",
    "df = df.dropna(subset=['sample_idx']) # removes the first image, because sample_idx is NaN there\n",
    "\n",
    "\n",
    "\"\"\" \n",
    "# only look at samples 6, 7, 8, 9\n",
    "new_df = None\n",
    "for i in range(6, 9 + 1):\n",
    "\n",
    "    curr_df = df[df[\"sample_idx\"] == f\"s{i}\"]\n",
    "    if(type(new_df) == type(None)):\n",
    "        new_df = curr_df\n",
    "    else:\n",
    "        new_df = pd.concat([new_df, curr_df])\n",
    "df = new_df\n",
    "\"\"\"\n",
    "\n",
    "print(df.columns, df.shape)\n",
    "\n",
    "\n",
    "# For each 3-week image, standarize each column\n",
    "df = utilities.get_rm_outlier_standarize(df, NUMERIC_COLS, rm_outliers=False)\n",
    "\n",
    "all_df_cols = list(df.columns)\n"
   ]
  },
  {
   "cell_type": "code",
   "execution_count": 9,
   "metadata": {},
   "outputs": [],
   "source": [
    "SELECTED_FEATURES = VEG_DIFF_NAMES\n",
    "\n",
    "\n",
    "def get_X_y(dataframe: pd.DataFrame):\n",
    "    df_X = dataframe[SELECTED_FEATURES]\n",
    "    df_X = df_X.drop(['DVI_diff'], axis=1) # drop nan col\n",
    "    X = df_X.to_numpy().reshape((df_X.shape[0], df_X.shape[1], 1))\n",
    "    y = dataframe[\"har_evnt\"].to_numpy().astype(np.float32)\n",
    "    return X, y"
   ]
  },
  {
   "cell_type": "code",
   "execution_count": null,
   "metadata": {},
   "outputs": [],
   "source": []
  },
  {
   "attachments": {},
   "cell_type": "markdown",
   "metadata": {},
   "source": [
    "# Random Upsampling (not used)"
   ]
  },
  {
   "cell_type": "code",
   "execution_count": 10,
   "metadata": {},
   "outputs": [
    {
     "name": "stdout",
     "output_type": "stream",
     "text": [
      "skipping\n"
     ]
    }
   ],
   "source": [
    "%%script echo skipping\n",
    "\n",
    "har_evnt_true_df = df[df[\"har_evnt\"]]\n",
    "har_evnt_false_df = df[df[\"har_evnt\"] == False]\n",
    "print(har_evnt_true_df.shape)\n",
    "print(har_evnt_false_df.shape)\n",
    "\n",
    "from sklearn.utils import resample\n",
    "\n",
    "upsampled_har_evnt_true_df = resample(har_evnt_true_df, n_samples=har_evnt_false_df.shape[0],\n",
    "                                                 replace=True, random_state=42)\n",
    "print(upsampled_har_evnt_true_df.shape)\n",
    "\n",
    "df = pd.concat([upsampled_har_evnt_true_df, har_evnt_false_df])\n",
    "df.shape"
   ]
  },
  {
   "attachments": {},
   "cell_type": "markdown",
   "metadata": {},
   "source": [
    "# Separate Train, Val datasets"
   ]
  },
  {
   "cell_type": "code",
   "execution_count": 11,
   "metadata": {},
   "outputs": [
    {
     "data": {
      "text/plain": [
       "556"
      ]
     },
     "execution_count": 11,
     "metadata": {},
     "output_type": "execute_result"
    }
   ],
   "source": [
    "            \n",
    "points_df_list = []\n",
    "for p in  df['point_idx'].unique(): # ['p0','p1','p2','p3','p4', ...]\n",
    "    curr_df = df[df[\"point_idx\"] == p]\n",
    "    points_df_list.append(curr_df)\n",
    "len(points_df_list)"
   ]
  },
  {
   "cell_type": "code",
   "execution_count": 12,
   "metadata": {},
   "outputs": [],
   "source": [
    "from sklearn.model_selection import train_test_split\n",
    "\n",
    "training_df_list, validation_df_list = train_test_split(points_df_list, train_size=0.8, random_state=42)\n"
   ]
  },
  {
   "cell_type": "code",
   "execution_count": 13,
   "metadata": {},
   "outputs": [
    {
     "name": "stdout",
     "output_type": "stream",
     "text": [
      "444\n",
      "112\n"
     ]
    }
   ],
   "source": [
    "print(len(training_df_list))\n",
    "print(len(validation_df_list))\n",
    "\n"
   ]
  },
  {
   "attachments": {},
   "cell_type": "markdown",
   "metadata": {},
   "source": [
    "# combine into two dataframes\n"
   ]
  },
  {
   "cell_type": "code",
   "execution_count": 14,
   "metadata": {},
   "outputs": [
    {
     "data": {
      "text/plain": [
       "((5345, 66), (1333, 66))"
      ]
     },
     "execution_count": 14,
     "metadata": {},
     "output_type": "execute_result"
    }
   ],
   "source": [
    "train_df = pd.concat(training_df_list)\n",
    "validate_df = pd.concat(validation_df_list)\n",
    "train_df.shape, validate_df.shape"
   ]
  },
  {
   "attachments": {},
   "cell_type": "markdown",
   "metadata": {},
   "source": [
    "# Convert to Numpy & SMOTE Upsampling"
   ]
  },
  {
   "cell_type": "code",
   "execution_count": 15,
   "metadata": {},
   "outputs": [
    {
     "name": "stdout",
     "output_type": "stream",
     "text": [
      "(5345, 21, 1) (5345,)\n",
      "(1333, 21, 1) (1333,)\n"
     ]
    }
   ],
   "source": [
    "X_train, y_train = get_X_y(train_df)\n",
    "print(X_train.shape, y_train.shape)\n",
    "X_validate, y_validate = get_X_y(validate_df)\n",
    "print(X_validate.shape, y_validate.shape)\n"
   ]
  },
  {
   "cell_type": "code",
   "execution_count": 16,
   "metadata": {},
   "outputs": [
    {
     "name": "stdout",
     "output_type": "stream",
     "text": [
      "(5345, 21, 1)\n",
      "Before Counter({0.0: 5082, 1.0: 263})\n",
      "After Counter({0.0: 5082, 1.0: 5082})\n",
      "\n",
      "(1333, 21, 1)\n",
      "Before Counter({0.0: 1268, 1.0: 65})\n",
      "After Counter({0.0: 1268, 1.0: 1268})\n",
      "\n"
     ]
    }
   ],
   "source": [
    "import imblearn\n",
    "from imblearn.over_sampling import SMOTE\n",
    "from collections import Counter\n",
    "\n",
    "def upsample(X, y):\n",
    "    print(X.shape)\n",
    "    # oversampling the train dataset using SMOTE\n",
    "    smt = SMOTE()\n",
    "    counter = Counter(y)\n",
    "    print('Before',counter)\n",
    "    X = X.reshape(X.shape[0], X.shape[1]) # remove last dim in (6678, 21, 1)\n",
    "    X, y = smt.fit_resample(X, y)\n",
    "    X_sm, y_sm = smt.fit_resample(X, y)\n",
    "\n",
    "    counter = Counter(y_sm)\n",
    "    print('After',counter)\n",
    "\n",
    "    X = X.reshape(X.shape[0], X.shape[1], 1)\n",
    "    print(\"\")\n",
    "    return X, y\n",
    "\n",
    "X_train, y_train = upsample(X_train, y_train)\n",
    "X_validate, y_validate = upsample(X_validate, y_validate)\n",
    "\n"
   ]
  },
  {
   "cell_type": "code",
   "execution_count": 31,
   "metadata": {},
   "outputs": [],
   "source": [
    "from tensorflow.keras.layers import Conv1D, MaxPooling1D, Flatten, Dropout, BatchNormalization\n",
    "model = tf.keras.Sequential([\n",
    "    Conv1D(filters=32, kernel_size=3, activation='relu', input_shape=(X_train.shape[1], X_train.shape[2])),\n",
    "    MaxPooling1D(pool_size=2),\n",
    "    Flatten(),\n",
    "    BatchNormalization(),\n",
    "    Dense(units=64, activation='relu'),\n",
    "    Dense(units=32, activation='relu'),\n",
    "    Dense(units=8, activation='relu'),\n",
    "    Dense(units=1, activation='sigmoid')\n",
    "])\n",
    "\n",
    "#model.compile(optimizer='adam', loss='mse', metrics=['mae'])"
   ]
  },
  {
   "cell_type": "code",
   "execution_count": 32,
   "metadata": {},
   "outputs": [
    {
     "name": "stdout",
     "output_type": "stream",
     "text": [
      "Model: \"sequential_3\"\n",
      "_________________________________________________________________\n",
      " Layer (type)                Output Shape              Param #   \n",
      "=================================================================\n",
      " conv1d_3 (Conv1D)           (None, 19, 32)            128       \n",
      "                                                                 \n",
      " max_pooling1d_3 (MaxPooling  (None, 9, 32)            0         \n",
      " 1D)                                                             \n",
      "                                                                 \n",
      " flatten_3 (Flatten)         (None, 288)               0         \n",
      "                                                                 \n",
      " batch_normalization_3 (Batc  (None, 288)              1152      \n",
      " hNormalization)                                                 \n",
      "                                                                 \n",
      " dense_16 (Dense)            (None, 64)                18496     \n",
      "                                                                 \n",
      " dense_17 (Dense)            (None, 32)                2080      \n",
      "                                                                 \n",
      " dense_18 (Dense)            (None, 8)                 264       \n",
      "                                                                 \n",
      " dense_19 (Dense)            (None, 1)                 9         \n",
      "                                                                 \n",
      "=================================================================\n",
      "Total params: 22,129\n",
      "Trainable params: 21,553\n",
      "Non-trainable params: 576\n",
      "_________________________________________________________________\n"
     ]
    }
   ],
   "source": [
    "model.summary()"
   ]
  },
  {
   "cell_type": "code",
   "execution_count": 33,
   "metadata": {},
   "outputs": [],
   "source": [
    "model.compile(loss='binary_crossentropy', optimizer='adam', metrics=['binary_accuracy'])\n"
   ]
  },
  {
   "cell_type": "code",
   "execution_count": 34,
   "metadata": {},
   "outputs": [
    {
     "name": "stdout",
     "output_type": "stream",
     "text": [
      "Epoch 1/50\n",
      "318/318 [==============================] - 1s 1ms/step - loss: 0.4353 - binary_accuracy: 0.8032 - val_loss: 0.6053 - val_binary_accuracy: 0.6183\n",
      "Epoch 2/50\n",
      "318/318 [==============================] - 0s 1ms/step - loss: 0.3293 - binary_accuracy: 0.8678 - val_loss: 0.5234 - val_binary_accuracy: 0.7800\n",
      "Epoch 3/50\n",
      "318/318 [==============================] - 0s 1ms/step - loss: 0.2934 - binary_accuracy: 0.8819 - val_loss: 0.5651 - val_binary_accuracy: 0.7879\n",
      "Epoch 4/50\n",
      "318/318 [==============================] - 0s 1ms/step - loss: 0.2567 - binary_accuracy: 0.9009 - val_loss: 0.6832 - val_binary_accuracy: 0.7721\n",
      "Epoch 5/50\n",
      "318/318 [==============================] - 0s 1ms/step - loss: 0.2339 - binary_accuracy: 0.9080 - val_loss: 0.6127 - val_binary_accuracy: 0.7733\n",
      "Epoch 6/50\n",
      "318/318 [==============================] - 0s 1ms/step - loss: 0.2253 - binary_accuracy: 0.9179 - val_loss: 0.6494 - val_binary_accuracy: 0.7886\n",
      "Epoch 7/50\n",
      "318/318 [==============================] - 0s 1ms/step - loss: 0.2006 - binary_accuracy: 0.9276 - val_loss: 0.6787 - val_binary_accuracy: 0.8119\n",
      "Epoch 8/50\n",
      "318/318 [==============================] - 0s 1ms/step - loss: 0.1907 - binary_accuracy: 0.9284 - val_loss: 0.6301 - val_binary_accuracy: 0.7953\n",
      "Epoch 9/50\n",
      "318/318 [==============================] - 0s 1ms/step - loss: 0.1857 - binary_accuracy: 0.9342 - val_loss: 0.8888 - val_binary_accuracy: 0.7906\n",
      "Epoch 10/50\n",
      "318/318 [==============================] - 0s 1ms/step - loss: 0.1789 - binary_accuracy: 0.9373 - val_loss: 0.7772 - val_binary_accuracy: 0.7579\n",
      "Epoch 11/50\n",
      "318/318 [==============================] - 0s 1ms/step - loss: 0.1789 - binary_accuracy: 0.9331 - val_loss: 0.8216 - val_binary_accuracy: 0.7823\n",
      "Epoch 12/50\n",
      "318/318 [==============================] - 0s 1ms/step - loss: 0.1643 - binary_accuracy: 0.9417 - val_loss: 0.6981 - val_binary_accuracy: 0.7906\n",
      "Epoch 13/50\n",
      "318/318 [==============================] - 0s 1ms/step - loss: 0.1671 - binary_accuracy: 0.9396 - val_loss: 0.7885 - val_binary_accuracy: 0.7839\n",
      "Epoch 14/50\n",
      "318/318 [==============================] - 0s 1ms/step - loss: 0.1581 - binary_accuracy: 0.9429 - val_loss: 0.7941 - val_binary_accuracy: 0.7827\n",
      "Epoch 15/50\n",
      "318/318 [==============================] - 0s 1ms/step - loss: 0.1540 - binary_accuracy: 0.9439 - val_loss: 0.8943 - val_binary_accuracy: 0.7756\n",
      "Epoch 16/50\n",
      "318/318 [==============================] - 0s 1ms/step - loss: 0.1516 - binary_accuracy: 0.9456 - val_loss: 0.8393 - val_binary_accuracy: 0.7827\n",
      "Epoch 17/50\n",
      "318/318 [==============================] - 0s 1ms/step - loss: 0.1449 - binary_accuracy: 0.9463 - val_loss: 0.8206 - val_binary_accuracy: 0.8052\n",
      "Epoch 18/50\n",
      "318/318 [==============================] - 0s 1ms/step - loss: 0.1484 - binary_accuracy: 0.9471 - val_loss: 0.9132 - val_binary_accuracy: 0.7650\n",
      "Epoch 19/50\n",
      "318/318 [==============================] - 0s 1ms/step - loss: 0.1373 - binary_accuracy: 0.9512 - val_loss: 1.0038 - val_binary_accuracy: 0.7693\n",
      "Epoch 20/50\n",
      "318/318 [==============================] - 0s 1ms/step - loss: 0.1388 - binary_accuracy: 0.9499 - val_loss: 0.9224 - val_binary_accuracy: 0.7496\n",
      "Epoch 21/50\n",
      "318/318 [==============================] - 0s 1ms/step - loss: 0.1275 - binary_accuracy: 0.9543 - val_loss: 0.8078 - val_binary_accuracy: 0.7969\n",
      "Epoch 22/50\n",
      "318/318 [==============================] - 0s 1ms/step - loss: 0.1306 - binary_accuracy: 0.9539 - val_loss: 0.9753 - val_binary_accuracy: 0.7713\n",
      "Epoch 23/50\n",
      "318/318 [==============================] - 0s 1ms/step - loss: 0.1337 - binary_accuracy: 0.9530 - val_loss: 1.0019 - val_binary_accuracy: 0.7606\n",
      "Epoch 24/50\n",
      "318/318 [==============================] - 0s 1ms/step - loss: 0.1286 - binary_accuracy: 0.9520 - val_loss: 0.9873 - val_binary_accuracy: 0.7626\n",
      "Epoch 25/50\n",
      "318/318 [==============================] - 0s 1ms/step - loss: 0.1194 - binary_accuracy: 0.9587 - val_loss: 1.0318 - val_binary_accuracy: 0.7630\n",
      "Epoch 26/50\n",
      "318/318 [==============================] - 0s 1ms/step - loss: 0.1149 - binary_accuracy: 0.9574 - val_loss: 0.9610 - val_binary_accuracy: 0.7914\n",
      "Epoch 27/50\n",
      "318/318 [==============================] - 0s 1ms/step - loss: 0.1166 - binary_accuracy: 0.9593 - val_loss: 1.1786 - val_binary_accuracy: 0.7563\n",
      "Epoch 28/50\n",
      "318/318 [==============================] - 0s 1ms/step - loss: 0.1228 - binary_accuracy: 0.9554 - val_loss: 1.1355 - val_binary_accuracy: 0.7827\n",
      "Epoch 29/50\n",
      "318/318 [==============================] - 0s 1ms/step - loss: 0.1193 - binary_accuracy: 0.9571 - val_loss: 1.0204 - val_binary_accuracy: 0.7993\n",
      "Epoch 30/50\n",
      "318/318 [==============================] - 0s 1ms/step - loss: 0.1139 - binary_accuracy: 0.9592 - val_loss: 1.1916 - val_binary_accuracy: 0.7764\n",
      "Epoch 31/50\n",
      "318/318 [==============================] - 0s 1ms/step - loss: 0.1202 - binary_accuracy: 0.9569 - val_loss: 0.9785 - val_binary_accuracy: 0.7843\n",
      "Epoch 32/50\n",
      "318/318 [==============================] - 0s 1ms/step - loss: 0.1133 - binary_accuracy: 0.9583 - val_loss: 1.0739 - val_binary_accuracy: 0.7879\n",
      "Epoch 33/50\n",
      "318/318 [==============================] - 0s 1ms/step - loss: 0.1039 - binary_accuracy: 0.9616 - val_loss: 1.0139 - val_binary_accuracy: 0.7760\n",
      "Epoch 34/50\n",
      "318/318 [==============================] - 0s 1ms/step - loss: 0.1092 - binary_accuracy: 0.9601 - val_loss: 0.9627 - val_binary_accuracy: 0.7626\n",
      "Epoch 35/50\n",
      "318/318 [==============================] - 0s 1ms/step - loss: 0.1056 - binary_accuracy: 0.9636 - val_loss: 0.9178 - val_binary_accuracy: 0.7934\n",
      "Epoch 36/50\n",
      "318/318 [==============================] - 0s 1ms/step - loss: 0.0970 - binary_accuracy: 0.9679 - val_loss: 1.1936 - val_binary_accuracy: 0.7733\n",
      "Epoch 37/50\n",
      "318/318 [==============================] - 0s 1ms/step - loss: 0.1076 - binary_accuracy: 0.9608 - val_loss: 1.1170 - val_binary_accuracy: 0.7693\n",
      "Epoch 38/50\n",
      "318/318 [==============================] - 0s 1ms/step - loss: 0.1015 - binary_accuracy: 0.9636 - val_loss: 1.1824 - val_binary_accuracy: 0.7535\n",
      "Epoch 39/50\n",
      "318/318 [==============================] - 0s 1ms/step - loss: 0.0982 - binary_accuracy: 0.9658 - val_loss: 1.1008 - val_binary_accuracy: 0.7993\n",
      "Epoch 40/50\n",
      "318/318 [==============================] - 0s 1ms/step - loss: 0.1022 - binary_accuracy: 0.9641 - val_loss: 1.2879 - val_binary_accuracy: 0.7599\n",
      "Epoch 41/50\n",
      "318/318 [==============================] - 0s 1ms/step - loss: 0.0976 - binary_accuracy: 0.9648 - val_loss: 1.1116 - val_binary_accuracy: 0.7882\n",
      "Epoch 42/50\n",
      "318/318 [==============================] - 0s 1ms/step - loss: 0.0903 - binary_accuracy: 0.9713 - val_loss: 1.2150 - val_binary_accuracy: 0.7843\n",
      "Epoch 43/50\n",
      "318/318 [==============================] - 0s 1ms/step - loss: 0.0984 - binary_accuracy: 0.9662 - val_loss: 1.2068 - val_binary_accuracy: 0.7823\n",
      "Epoch 44/50\n",
      "318/318 [==============================] - 0s 1ms/step - loss: 0.0893 - binary_accuracy: 0.9674 - val_loss: 1.1927 - val_binary_accuracy: 0.7914\n",
      "Epoch 45/50\n",
      "318/318 [==============================] - 0s 1ms/step - loss: 0.0918 - binary_accuracy: 0.9677 - val_loss: 1.1921 - val_binary_accuracy: 0.7587\n",
      "Epoch 46/50\n",
      "318/318 [==============================] - 0s 1ms/step - loss: 0.0996 - binary_accuracy: 0.9650 - val_loss: 0.9418 - val_binary_accuracy: 0.7930\n",
      "Epoch 47/50\n",
      "318/318 [==============================] - 0s 1ms/step - loss: 0.0910 - binary_accuracy: 0.9681 - val_loss: 1.2564 - val_binary_accuracy: 0.7863\n",
      "Epoch 48/50\n",
      "318/318 [==============================] - 0s 1ms/step - loss: 0.0981 - binary_accuracy: 0.9633 - val_loss: 1.3797 - val_binary_accuracy: 0.7709\n",
      "Epoch 49/50\n",
      "318/318 [==============================] - 0s 1ms/step - loss: 0.0879 - binary_accuracy: 0.9699 - val_loss: 1.2685 - val_binary_accuracy: 0.7681\n",
      "Epoch 50/50\n",
      "318/318 [==============================] - 0s 1ms/step - loss: 0.0936 - binary_accuracy: 0.9666 - val_loss: 1.2124 - val_binary_accuracy: 0.7528\n"
     ]
    }
   ],
   "source": [
    "history = model.fit(X_train, y_train, epochs=50, validation_data=(X_validate, y_validate))\n"
   ]
  },
  {
   "cell_type": "code",
   "execution_count": 36,
   "metadata": {},
   "outputs": [
    {
     "data": {
      "image/png": "[encoded data removed]",
      "text/plain": [
       "<Figure size 640x480 with 1 Axes>"
      ]
     },
     "metadata": {},
     "output_type": "display_data"
    },
    {
     "data": {
      "image/png": "[encoded data removed]",
      "text/plain": [
       "<Figure size 640x480 with 1 Axes>"
      ]
     },
     "metadata": {},
     "output_type": "display_data"
    }
   ],
   "source": [
    "import matplotlib.pyplot as plt\n",
    "\n",
    "acc = history.history['binary_accuracy']\n",
    "val_acc = history.history['val_binary_accuracy']\n",
    "loss = history.history['loss']\n",
    "val_loss = history.history['val_loss']\n",
    "\n",
    "epochs = range(1, len(acc) + 1)\n",
    "\n",
    "plt.plot(epochs, acc, 'bo', label='Training acc')\n",
    "plt.plot(epochs, val_acc, 'b', label='Validation acc')\n",
    "plt.title('Training and validation accuracy')\n",
    "plt.legend()\n",
    "\n",
    "plt.figure()\n",
    "\n",
    "plt.plot(epochs, loss, 'bo', label='Training loss')\n",
    "plt.plot(epochs, val_loss, 'b', label='Validation loss')\n",
    "plt.title('Training and validation loss')\n",
    "plt.legend()\n",
    "\n",
    "plt.show()"
   ]
  },
  {
   "cell_type": "code",
   "execution_count": null,
   "metadata": {},
   "outputs": [],
   "source": []
  },
  {
   "cell_type": "code",
   "execution_count": null,
   "metadata": {},
   "outputs": [],
   "source": []
  },
  {
   "cell_type": "code",
   "execution_count": null,
   "metadata": {},
   "outputs": [],
   "source": []
  },
  {
   "cell_type": "code",
   "execution_count": null,
   "metadata": {},
   "outputs": [],
   "source": []
  },
  {
   "cell_type": "code",
   "execution_count": null,
   "metadata": {},
   "outputs": [],
   "source": []
  },
  {
   "cell_type": "code",
   "execution_count": null,
   "metadata": {},
   "outputs": [],
   "source": []
  },
  {
   "cell_type": "code",
   "execution_count": null,
   "metadata": {},
   "outputs": [],
   "source": []
  }
 ],
 "metadata": {
  "kernelspec": {
   "display_name": "harvest-event-detec-Fyp2lGEN-py3.9",
   "language": "python",
   "name": "python3"
  },
  "language_info": {
   "codemirror_mode": {
    "name": "ipython",
    "version": 3
   },
   "file_extension": ".py",
   "mimetype": "text/x-python",
   "name": "python",
   "nbconvert_exporter": "python",
   "pygments_lexer": "ipython3",
   "version": "3.10.11"
  },
  "orig_nbformat": 4
 },
 "nbformat": 4,
 "nbformat_minor": 2
}

{
 "cells": [
  {
   "attachments": {},
   "cell_type": "markdown",
   "metadata": {},
   "source": [
    "## call \"~/.local/bin/poetry\" if poetry keyword not working on mac"
   ]
  },
  {
   "cell_type": "code",
   "execution_count": null,
   "metadata": {},
   "outputs": [],
   "source": [
    "# TODO split based on farms"
   ]
  },
  {
   "cell_type": "code",
   "execution_count": 1,
   "metadata": {},
   "outputs": [],
   "source": [
    "import datetime\n",
    "import geopandas\n",
    "import numpy as np\n",
    "import pandas as pd\n",
    "pd.options.mode.chained_assignment = None  # default='warn'\n",
    "\n",
    "import tensorflow as tf\n",
    "from tensorflow.keras.models import Sequential\n",
    "from tensorflow.keras.layers import Dense"
   ]
  },
  {
   "attachments": {},
   "cell_type": "markdown",
   "metadata": {},
   "source": []
  },
  {
   "cell_type": "code",
   "execution_count": 2,
   "metadata": {},
   "outputs": [],
   "source": [
    "# TODO try only with best performing numeric columns for input into model first\n",
    "# TODO select features for deep learning model after ranking features with random forest (feature importance)\n",
    "# TODO lstm network\n",
    "# DONE TODO SMOTE algorithm, for upsampling havested fields; we only have ~300 :(\n",
    "    \n",
    "    \n",
    "# TODO convert image_idx into cyclic numeric values using sin or cos.\n",
    "    # https://datascience.stackexchange.com/questions/17759/encoding-features-like-month-and-hour-as-categorial-or-numeric"
   ]
  },
  {
   "cell_type": "code",
   "execution_count": 3,
   "metadata": {},
   "outputs": [],
   "source": [
    "# 1- upsample with smote DONE\n",
    "# 2- select best featues with random forests"
   ]
  },
  {
   "cell_type": "code",
   "execution_count": 4,
   "metadata": {},
   "outputs": [],
   "source": [
    "#local scripts\n",
    "\n",
    "from scripts import veg_indices, utilities, plots\n",
    "#from scripts.utilities import *"
   ]
  },
  {
   "cell_type": "code",
   "execution_count": 5,
   "metadata": {},
   "outputs": [],
   "source": [
    "# cpied from learning_about-data.ipynb\n",
    "BANDS_DICT = {   'B2': 'Blue',\n",
    "            'B3': 'Green',\n",
    "            'B4': 'Red',\n",
    "            'B5': 'Red_Edge_1',\n",
    "            'B6': 'Red_Edge_2',\n",
    "            'B7': 'Red_Edge_3',\n",
    "            'B8': 'NIR',\n",
    "            'B8A': 'Red_Edge_4',\n",
    "            'B11': 'SWIR_1',\n",
    "            'B12': 'SWIR_2'}\n",
    "\n",
    "BANDS = list(BANDS_DICT.keys())"
   ]
  },
  {
   "cell_type": "code",
   "execution_count": 6,
   "metadata": {},
   "outputs": [],
   "source": [
    "# cpied from learning_about-data.ipynb\n",
    "DF = geopandas.read_file('../data/merged_images.geojson')\n",
    "DF.rename(columns = {'is_within_period':'har_evnt'}, inplace = True)\n",
    "NUM_SAMPLES = len(np.unique(DF.image_idx)) - 1"
   ]
  },
  {
   "cell_type": "code",
   "execution_count": 7,
   "metadata": {},
   "outputs": [
    {
     "data": {
      "text/html": [
       "<div>\n",
       "<style scoped>\n",
       "    .dataframe tbody tr th:only-of-type {\n",
       "        vertical-align: middle;\n",
       "    }\n",
       "\n",
       "    .dataframe tbody tr th {\n",
       "        vertical-align: top;\n",
       "    }\n",
       "\n",
       "    .dataframe thead th {\n",
       "        text-align: right;\n",
       "    }\n",
       "</style>\n",
       "<table border=\"1\" class=\"dataframe\">\n",
       "  <thead>\n",
       "    <tr style=\"text-align: right;\">\n",
       "      <th></th>\n",
       "      <th>B11</th>\n",
       "      <th>B12</th>\n",
       "      <th>B2</th>\n",
       "      <th>B3</th>\n",
       "      <th>B4</th>\n",
       "      <th>B5</th>\n",
       "      <th>B6</th>\n",
       "      <th>B7</th>\n",
       "      <th>B8</th>\n",
       "      <th>B8A</th>\n",
       "      <th>NDVI</th>\n",
       "      <th>finHarvDat</th>\n",
       "      <th>lat</th>\n",
       "      <th>lon</th>\n",
       "      <th>point_idx</th>\n",
       "      <th>start_date</th>\n",
       "      <th>end_date</th>\n",
       "      <th>har_evnt</th>\n",
       "      <th>image_idx</th>\n",
       "      <th>geometry</th>\n",
       "    </tr>\n",
       "  </thead>\n",
       "  <tbody>\n",
       "    <tr>\n",
       "      <th>0</th>\n",
       "      <td>0.1000</td>\n",
       "      <td>0.1000</td>\n",
       "      <td>0.100</td>\n",
       "      <td>0.1000</td>\n",
       "      <td>0.1000</td>\n",
       "      <td>0.10000</td>\n",
       "      <td>0.10000</td>\n",
       "      <td>0.10000</td>\n",
       "      <td>0.1000</td>\n",
       "      <td>0.1000</td>\n",
       "      <td>0.000000</td>\n",
       "      <td>2022-08-11</td>\n",
       "      <td>50.655048</td>\n",
       "      <td>25.458684</td>\n",
       "      <td>p0</td>\n",
       "      <td>2022-01-08</td>\n",
       "      <td>2022-01-28</td>\n",
       "      <td>False</td>\n",
       "      <td>i0</td>\n",
       "      <td>POINT (25.45868 50.65505)</td>\n",
       "    </tr>\n",
       "    <tr>\n",
       "      <th>1</th>\n",
       "      <td>0.1000</td>\n",
       "      <td>0.1000</td>\n",
       "      <td>0.100</td>\n",
       "      <td>0.1000</td>\n",
       "      <td>0.1000</td>\n",
       "      <td>0.10000</td>\n",
       "      <td>0.10000</td>\n",
       "      <td>0.10000</td>\n",
       "      <td>0.1000</td>\n",
       "      <td>0.1000</td>\n",
       "      <td>0.000000</td>\n",
       "      <td>NaT</td>\n",
       "      <td>50.294633</td>\n",
       "      <td>36.289471</td>\n",
       "      <td>p1</td>\n",
       "      <td>2022-01-08</td>\n",
       "      <td>2022-01-28</td>\n",
       "      <td>False</td>\n",
       "      <td>i0</td>\n",
       "      <td>POINT (36.28947 50.29463)</td>\n",
       "    </tr>\n",
       "    <tr>\n",
       "      <th>2</th>\n",
       "      <td>0.1000</td>\n",
       "      <td>0.1000</td>\n",
       "      <td>0.100</td>\n",
       "      <td>0.1000</td>\n",
       "      <td>0.1000</td>\n",
       "      <td>0.10000</td>\n",
       "      <td>0.10000</td>\n",
       "      <td>0.10000</td>\n",
       "      <td>0.1000</td>\n",
       "      <td>0.1000</td>\n",
       "      <td>0.000000</td>\n",
       "      <td>NaT</td>\n",
       "      <td>50.860849</td>\n",
       "      <td>32.548484</td>\n",
       "      <td>p2</td>\n",
       "      <td>2022-01-08</td>\n",
       "      <td>2022-01-28</td>\n",
       "      <td>False</td>\n",
       "      <td>i0</td>\n",
       "      <td>POINT (32.54848 50.86085)</td>\n",
       "    </tr>\n",
       "    <tr>\n",
       "      <th>3</th>\n",
       "      <td>0.1000</td>\n",
       "      <td>0.1000</td>\n",
       "      <td>0.100</td>\n",
       "      <td>0.1000</td>\n",
       "      <td>0.1000</td>\n",
       "      <td>0.10000</td>\n",
       "      <td>0.10000</td>\n",
       "      <td>0.10000</td>\n",
       "      <td>0.1000</td>\n",
       "      <td>0.1000</td>\n",
       "      <td>0.000000</td>\n",
       "      <td>NaT</td>\n",
       "      <td>50.928689</td>\n",
       "      <td>31.637558</td>\n",
       "      <td>p3</td>\n",
       "      <td>2022-01-08</td>\n",
       "      <td>2022-01-28</td>\n",
       "      <td>False</td>\n",
       "      <td>i0</td>\n",
       "      <td>POINT (31.63756 50.92869)</td>\n",
       "    </tr>\n",
       "    <tr>\n",
       "      <th>4</th>\n",
       "      <td>0.1424</td>\n",
       "      <td>0.1083</td>\n",
       "      <td>0.030</td>\n",
       "      <td>0.0432</td>\n",
       "      <td>0.0631</td>\n",
       "      <td>0.07150</td>\n",
       "      <td>0.07760</td>\n",
       "      <td>0.08510</td>\n",
       "      <td>0.1066</td>\n",
       "      <td>0.1043</td>\n",
       "      <td>0.256335</td>\n",
       "      <td>2022-07-23</td>\n",
       "      <td>48.307964</td>\n",
       "      <td>37.348245</td>\n",
       "      <td>p4</td>\n",
       "      <td>2022-01-08</td>\n",
       "      <td>2022-01-28</td>\n",
       "      <td>False</td>\n",
       "      <td>i0</td>\n",
       "      <td>POINT (37.34824 48.30796)</td>\n",
       "    </tr>\n",
       "    <tr>\n",
       "      <th>...</th>\n",
       "      <td>...</td>\n",
       "      <td>...</td>\n",
       "      <td>...</td>\n",
       "      <td>...</td>\n",
       "      <td>...</td>\n",
       "      <td>...</td>\n",
       "      <td>...</td>\n",
       "      <td>...</td>\n",
       "      <td>...</td>\n",
       "      <td>...</td>\n",
       "      <td>...</td>\n",
       "      <td>...</td>\n",
       "      <td>...</td>\n",
       "      <td>...</td>\n",
       "      <td>...</td>\n",
       "      <td>...</td>\n",
       "      <td>...</td>\n",
       "      <td>...</td>\n",
       "      <td>...</td>\n",
       "      <td>...</td>\n",
       "    </tr>\n",
       "    <tr>\n",
       "      <th>9481</th>\n",
       "      <td>0.2557</td>\n",
       "      <td>0.1875</td>\n",
       "      <td>0.065</td>\n",
       "      <td>0.0740</td>\n",
       "      <td>0.0973</td>\n",
       "      <td>0.11695</td>\n",
       "      <td>0.14255</td>\n",
       "      <td>0.15525</td>\n",
       "      <td>0.1920</td>\n",
       "      <td>0.1847</td>\n",
       "      <td>0.327342</td>\n",
       "      <td>NaT</td>\n",
       "      <td>49.723156</td>\n",
       "      <td>36.817274</td>\n",
       "      <td>p553</td>\n",
       "      <td>2022-12-10</td>\n",
       "      <td>2022-12-30</td>\n",
       "      <td>False</td>\n",
       "      <td>i16</td>\n",
       "      <td>POINT (36.81727 49.72316)</td>\n",
       "    </tr>\n",
       "    <tr>\n",
       "      <th>9482</th>\n",
       "      <td>0.1616</td>\n",
       "      <td>0.1235</td>\n",
       "      <td>0.028</td>\n",
       "      <td>0.0442</td>\n",
       "      <td>0.0525</td>\n",
       "      <td>0.06390</td>\n",
       "      <td>0.08950</td>\n",
       "      <td>0.09310</td>\n",
       "      <td>0.1152</td>\n",
       "      <td>0.1073</td>\n",
       "      <td>0.373882</td>\n",
       "      <td>NaT</td>\n",
       "      <td>45.578351</td>\n",
       "      <td>28.700480</td>\n",
       "      <td>p554</td>\n",
       "      <td>2022-12-10</td>\n",
       "      <td>2022-12-30</td>\n",
       "      <td>False</td>\n",
       "      <td>i16</td>\n",
       "      <td>POINT (28.70048 45.57835)</td>\n",
       "    </tr>\n",
       "    <tr>\n",
       "      <th>9483</th>\n",
       "      <td>0.1675</td>\n",
       "      <td>0.1030</td>\n",
       "      <td>0.043</td>\n",
       "      <td>0.0678</td>\n",
       "      <td>0.0460</td>\n",
       "      <td>0.10960</td>\n",
       "      <td>0.23980</td>\n",
       "      <td>0.26430</td>\n",
       "      <td>0.2832</td>\n",
       "      <td>0.2783</td>\n",
       "      <td>0.720535</td>\n",
       "      <td>NaT</td>\n",
       "      <td>46.693510</td>\n",
       "      <td>35.051003</td>\n",
       "      <td>p555</td>\n",
       "      <td>2022-12-10</td>\n",
       "      <td>2022-12-30</td>\n",
       "      <td>False</td>\n",
       "      <td>i16</td>\n",
       "      <td>POINT (35.05100 46.69351)</td>\n",
       "    </tr>\n",
       "    <tr>\n",
       "      <th>9484</th>\n",
       "      <td>0.1000</td>\n",
       "      <td>0.1000</td>\n",
       "      <td>0.100</td>\n",
       "      <td>0.1000</td>\n",
       "      <td>0.1000</td>\n",
       "      <td>0.10000</td>\n",
       "      <td>0.10000</td>\n",
       "      <td>0.10000</td>\n",
       "      <td>0.1000</td>\n",
       "      <td>0.1000</td>\n",
       "      <td>0.000000</td>\n",
       "      <td>2022-07-30</td>\n",
       "      <td>50.451929</td>\n",
       "      <td>33.668204</td>\n",
       "      <td>p556</td>\n",
       "      <td>2022-12-10</td>\n",
       "      <td>2022-12-30</td>\n",
       "      <td>False</td>\n",
       "      <td>i16</td>\n",
       "      <td>POINT (33.66820 50.45193)</td>\n",
       "    </tr>\n",
       "    <tr>\n",
       "      <th>9485</th>\n",
       "      <td>0.1000</td>\n",
       "      <td>0.1000</td>\n",
       "      <td>0.100</td>\n",
       "      <td>0.1000</td>\n",
       "      <td>0.1000</td>\n",
       "      <td>0.10000</td>\n",
       "      <td>0.10000</td>\n",
       "      <td>0.10000</td>\n",
       "      <td>0.1000</td>\n",
       "      <td>0.1000</td>\n",
       "      <td>0.000000</td>\n",
       "      <td>NaT</td>\n",
       "      <td>46.994448</td>\n",
       "      <td>30.633461</td>\n",
       "      <td>p557</td>\n",
       "      <td>2022-12-10</td>\n",
       "      <td>2022-12-30</td>\n",
       "      <td>False</td>\n",
       "      <td>i16</td>\n",
       "      <td>POINT (30.63346 46.99445)</td>\n",
       "    </tr>\n",
       "  </tbody>\n",
       "</table>\n",
       "<p>9486 rows × 20 columns</p>\n",
       "</div>"
      ],
      "text/plain": [
       "         B11     B12     B2      B3      B4       B5       B6       B7   \n",
       "0     0.1000  0.1000  0.100  0.1000  0.1000  0.10000  0.10000  0.10000  \\\n",
       "1     0.1000  0.1000  0.100  0.1000  0.1000  0.10000  0.10000  0.10000   \n",
       "2     0.1000  0.1000  0.100  0.1000  0.1000  0.10000  0.10000  0.10000   \n",
       "3     0.1000  0.1000  0.100  0.1000  0.1000  0.10000  0.10000  0.10000   \n",
       "4     0.1424  0.1083  0.030  0.0432  0.0631  0.07150  0.07760  0.08510   \n",
       "...      ...     ...    ...     ...     ...      ...      ...      ...   \n",
       "9481  0.2557  0.1875  0.065  0.0740  0.0973  0.11695  0.14255  0.15525   \n",
       "9482  0.1616  0.1235  0.028  0.0442  0.0525  0.06390  0.08950  0.09310   \n",
       "9483  0.1675  0.1030  0.043  0.0678  0.0460  0.10960  0.23980  0.26430   \n",
       "9484  0.1000  0.1000  0.100  0.1000  0.1000  0.10000  0.10000  0.10000   \n",
       "9485  0.1000  0.1000  0.100  0.1000  0.1000  0.10000  0.10000  0.10000   \n",
       "\n",
       "          B8     B8A      NDVI finHarvDat        lat        lon point_idx   \n",
       "0     0.1000  0.1000  0.000000 2022-08-11  50.655048  25.458684        p0  \\\n",
       "1     0.1000  0.1000  0.000000        NaT  50.294633  36.289471        p1   \n",
       "2     0.1000  0.1000  0.000000        NaT  50.860849  32.548484        p2   \n",
       "3     0.1000  0.1000  0.000000        NaT  50.928689  31.637558        p3   \n",
       "4     0.1066  0.1043  0.256335 2022-07-23  48.307964  37.348245        p4   \n",
       "...      ...     ...       ...        ...        ...        ...       ...   \n",
       "9481  0.1920  0.1847  0.327342        NaT  49.723156  36.817274      p553   \n",
       "9482  0.1152  0.1073  0.373882        NaT  45.578351  28.700480      p554   \n",
       "9483  0.2832  0.2783  0.720535        NaT  46.693510  35.051003      p555   \n",
       "9484  0.1000  0.1000  0.000000 2022-07-30  50.451929  33.668204      p556   \n",
       "9485  0.1000  0.1000  0.000000        NaT  46.994448  30.633461      p557   \n",
       "\n",
       "     start_date   end_date  har_evnt image_idx                   geometry  \n",
       "0    2022-01-08 2022-01-28     False        i0  POINT (25.45868 50.65505)  \n",
       "1    2022-01-08 2022-01-28     False        i0  POINT (36.28947 50.29463)  \n",
       "2    2022-01-08 2022-01-28     False        i0  POINT (32.54848 50.86085)  \n",
       "3    2022-01-08 2022-01-28     False        i0  POINT (31.63756 50.92869)  \n",
       "4    2022-01-08 2022-01-28     False        i0  POINT (37.34824 48.30796)  \n",
       "...         ...        ...       ...       ...                        ...  \n",
       "9481 2022-12-10 2022-12-30     False       i16  POINT (36.81727 49.72316)  \n",
       "9482 2022-12-10 2022-12-30     False       i16  POINT (28.70048 45.57835)  \n",
       "9483 2022-12-10 2022-12-30     False       i16  POINT (35.05100 46.69351)  \n",
       "9484 2022-12-10 2022-12-30     False       i16  POINT (33.66820 50.45193)  \n",
       "9485 2022-12-10 2022-12-30     False       i16  POINT (30.63346 46.99445)  \n",
       "\n",
       "[9486 rows x 20 columns]"
      ]
     },
     "execution_count": 7,
     "metadata": {},
     "output_type": "execute_result"
    }
   ],
   "source": [
    "DF"
   ]
  },
  {
   "cell_type": "code",
   "execution_count": 9,
   "metadata": {},
   "outputs": [
    {
     "name": "stdout",
     "output_type": "stream",
     "text": [
      "Added:  ['RVI', 'ARVI', 'PSSRa', 'NDI45', 'GNDVI', 'MCARI', 'IRECI', 'CIr', 'MTCI', 'NDVIre', 'NIRv', 'EVI', 'NDTI', 'NDMI', 'MSI', 'GCI', 'NBRI', 'BSI', 'NDWI', 'NDSI']\n",
      "(not in place), created : ['RVI_diff', 'ARVI_diff', 'PSSRa_diff', 'NDI45_diff', 'GNDVI_diff', 'MCARI_diff', 'IRECI_diff', 'CIr_diff', 'MTCI_diff', 'NDVIre_diff', 'NIRv_diff', 'EVI_diff', 'NDTI_diff', 'NDMI_diff', 'MSI_diff', 'GCI_diff', 'NBRI_diff', 'BSI_diff', 'NDWI_diff', 'NDSI_diff', 'NDVI_diff']\n",
      "Index(['B11', 'B12', 'B2', 'B3', 'B4', 'B5', 'B6', 'B7', 'B8', 'B8A', 'NDVI',\n",
      "       'finHarvDat', 'lat', 'lon', 'point_idx', 'start_date', 'end_date',\n",
      "       'har_evnt', 'image_idx', 'geometry', 'RVI', 'ARVI', 'PSSRa', 'NDI45',\n",
      "       'GNDVI', 'MCARI', 'IRECI', 'CIr', 'MTCI', 'NDVIre', 'NIRv', 'EVI',\n",
      "       'NDTI', 'NDMI', 'MSI', 'GCI', 'NBRI', 'BSI', 'NDWI', 'NDSI', 'RVI_diff',\n",
      "       'ARVI_diff', 'PSSRa_diff', 'NDI45_diff', 'GNDVI_diff', 'MCARI_diff',\n",
      "       'IRECI_diff', 'CIr_diff', 'MTCI_diff', 'NDVIre_diff', 'NIRv_diff',\n",
      "       'EVI_diff', 'NDTI_diff', 'NDMI_diff', 'MSI_diff', 'GCI_diff',\n",
      "       'NBRI_diff', 'BSI_diff', 'NDWI_diff', 'NDSI_diff', 'NDVI_diff'],\n",
      "      dtype='object') (3925, 61)\n"
     ]
    }
   ],
   "source": [
    "# cpied from learning_about-data.ipynb\n",
    "df = DF.copy()\n",
    "df = df[(df.NDVI) != 0] # drop invalid points\n",
    "VEG_INDICES_NAMES = veg_indices.add_veg_indices(df) + ['NDVI'] \n",
    "df, VEG_DIFF_NAMES = veg_indices.get_added_veg_diff(df, VEG_INDICES_NAMES)\n",
    "NUMERIC_COLS = BANDS + VEG_INDICES_NAMES + VEG_DIFF_NAMES\n",
    "\n",
    "df = utilities.get_drop_after_harvest(df)# drop rows of non-harvest, after a harvest event in a farm ( a point )\n",
    "\n",
    "\n",
    "print(df.columns, df.shape)\n",
    "\n",
    "# For each 3-week image, standarize each column\n",
    "#df = utilities.get_rm_outlier_standarize(df, NUMERIC_COLS, rm_outliers=False)"
   ]
  },
  {
   "cell_type": "code",
   "execution_count": 10,
   "metadata": {},
   "outputs": [
    {
     "name": "stdout",
     "output_type": "stream",
     "text": [
      "skipping\n"
     ]
    }
   ],
   "source": [
    "%%script echo skipping\n",
    "\n",
    "compression_opts = dict(method='zip',\n",
    "                        archive_name='out_raw_bands.csv')\n",
    "df.to_csv(\"dataframe_raw_bands.zip\", index=True, compression=compression_opts)"
   ]
  },
  {
   "attachments": {},
   "cell_type": "markdown",
   "metadata": {},
   "source": [
    "#### metric0: Bhattacharyya Distance\n",
    "- s6\n",
    "    * RVI\n",
    "    * NDVI\n",
    "- s7\n",
    "    * B12\n",
    "    * B4\n",
    "    * NDMI_diff\n",
    "- s8\n",
    "    * NDSI_diff\n",
    "    * NDI45\n",
    "- s9 \n",
    "    * NDSI_diff\n",
    "    * NBRI\n",
    "    * BSI_diff\n",
    "- [\"RVI\", \"NDVI\", \"B12\", \"B4\", \"NDMI_diff\", \"NDSI_diff\", \"NDI45\", \"NDSI_diff\", \"NBRI\", \"BSI_diff\"]\n",
    "\n",
    "\n",
    "\n",
    "#### metric1: Hellinger Distance (same results as metric0!)\n",
    "- s6\n",
    "    * RVI\n",
    "    * NDVI\n",
    "- s7\n",
    "    * B12\n",
    "    * B4\n",
    "    * NDMI_diff\n",
    "- s8\n",
    "    * NDSI_diff\n",
    "    * NDI45\n",
    "- s9 \n",
    "    * NDSI_diff\n",
    "    * NBRI\n",
    "    * BSI_diff\n",
    "\n",
    "    \n",
    "#### metric2: Two-sample Kolmogorov Smirnov test P-Value\n",
    "- s6\n",
    "    * RVI\n",
    "    * BSI_diff\n",
    "- s7\n",
    "    * NDVI\n",
    "    * IRECI_diff\n",
    "- s8\n",
    "    * BSI_diff\n",
    "    * NBRI\n",
    "    * NBRI_diff\n",
    "    * NDMI\n",
    "    * ARVI\n",
    "    * MSI_diff\n",
    "- s9 \n",
    "    * BSI_diff\n",
    "    * IRECI_diff\n",
    "- [\"RVI\", \"BSI_diff\", \"NDVI\", \"IRECI_diff\", \"BSI_diff\", \"NBRI\", \"NBRI_diff\", \"NDMI\", \"ARVI\", \"MSI_diff\"]\n",
    "\n",
    "\n",
    "#### metric3: Jensen-Shannon Divergence (JSD) \n",
    "- s6\n",
    "    * B6\n",
    "    * NDVIre_diff\n",
    "    * B2\n",
    "- s7\n",
    "    * ARVI_diff\n",
    "    * B6\n",
    "    * B7\n",
    "    * B8A\n",
    "- s8\n",
    "    * B12\n",
    "- s9 \n",
    "    * MTCI\n",
    "    * NDVIre_diff\n",
    "\n",
    "- [\"B6\", \"NDVIre_diff\", \"B2\", \"ARVI_diff\", \"B6\", \"B7\", \"B8A\", \"B12\", \"MTCI\", \"NDVIre_diff\"]"
   ]
  },
  {
   "cell_type": "code",
   "execution_count": 11,
   "metadata": {},
   "outputs": [
    {
     "name": "stdout",
     "output_type": "stream",
     "text": [
      "['B4', 'B5', 'B3', 'B2', 'B11', 'RVI', 'NDVIre', 'NDVI', 'NDSI', 'GNDVI', 'NDWI', 'NDTI', 'GCI', 'ARVI', 'NBRI', 'B7', 'CIr', 'IRECI', 'MTCI', 'MSI', 'PSSRa', 'NDI45']\n"
     ]
    }
   ],
   "source": [
    "def get_manually_selected():\n",
    "    METRIC0 = [\"RVI\", \"NDVI\", \"B12\", \"B4\", \"NDMI_diff\", \"NDSI_diff\", \"NDI45\", \"NDSI_diff\", \"NBRI\", \"BSI_diff\"]\n",
    "    METRIC1 = METRIC0\n",
    "    METRIC2 = [\"RVI\", \"BSI_diff\", \"NDVI\", \"IRECI_diff\", \"BSI_diff\", \"NBRI\", \"NBRI_diff\", \"NDMI\", \"ARVI\", \"MSI_diff\"]\n",
    "    METRIC3 = [\"B6\", \"NDVIre_diff\", \"B2\", \"ARVI_diff\", \"B6\", \"B7\", \"B8A\", \"B12\", \"MTCI\", \"NDVIre_diff\"]\n",
    "\n",
    "    return np.unique(np.concatenate([METRIC0, METRIC1, METRIC2, METRIC3]))\n",
    "\n",
    "def get_ordered_rdm_forests_features():\n",
    "    # first one is the most important\n",
    "    return ['B4', 'B5', 'B3', 'B2', 'B11', 'RVI', 'NDVIre', 'NDVI', 'NDSI', 'GNDVI',\n",
    "       'NDWI', 'NDTI', 'GCI', 'ARVI', 'NBRI', 'B7', 'CIr', 'IRECI', 'MTCI',\n",
    "       'MSI', 'PSSRa', 'NDI45', 'B12', 'B8', 'NDMI', 'BSI', 'NDTI_diff',\n",
    "       'MSI_diff', 'MTCI_diff', 'NDMI_diff', 'NBRI_diff', 'NDWI_diff', 'NIRv',\n",
    "       'CIr_diff', 'NDSI_diff', 'NDI45_diff', 'B6', 'RVI_diff', 'EVI',\n",
    "       'GCI_diff', 'ARVI_diff', 'GNDVI_diff', 'NDVIre_diff', 'BSI_diff',\n",
    "       'MCARI', 'PSSRa_diff', 'MCARI_diff', 'NDVI_diff', 'NIRv_diff',\n",
    "       'EVI_diff', 'IRECI_diff', 'B8A']\n",
    "    \n",
    "\n",
    "#SELECTED_FEATURES = get_manually_selected()\n",
    "\n",
    "#SELECTED_FEATURES = NUMERIC_COLS\n",
    "#SELECTED_FEATURES = df[SELECTED_FEATURES].dropna(axis=1).columns\n",
    "\n",
    "\n",
    "SELECTED_FEATURES = get_ordered_rdm_forests_features()[:21 + 1] # get top 21 features\n",
    "\n",
    "#SELECTED_FEATURES = [\"NDVI\", \"NDVI_diff\", \"B2\", \"B3\", \"B4\"]\n",
    "\n",
    "print(SELECTED_FEATURES)\n",
    "\n",
    "def get_X_y(dataframe: pd.DataFrame):\n",
    "    df_X = dataframe[SELECTED_FEATURES]\n",
    "    df_X = df_X.dropna(axis=1)\n",
    "    X = df_X.to_numpy().reshape((df_X.shape[0], df_X.shape[1], 1))\n",
    "    y = dataframe[\"har_evnt\"].to_numpy().astype(np.float32)\n",
    "    return X, y"
   ]
  },
  {
   "cell_type": "code",
   "execution_count": null,
   "metadata": {},
   "outputs": [],
   "source": []
  },
  {
   "attachments": {},
   "cell_type": "markdown",
   "metadata": {},
   "source": [
    "# Random Upsampling (not used)"
   ]
  },
  {
   "attachments": {},
   "cell_type": "markdown",
   "metadata": {},
   "source": [
    "# Separate Train, Val datasets (based on points)"
   ]
  },
  {
   "cell_type": "code",
   "execution_count": 12,
   "metadata": {},
   "outputs": [
    {
     "name": "stdout",
     "output_type": "stream",
     "text": [
      "skipping\n"
     ]
    }
   ],
   "source": [
    "%%script echo skipping\n",
    "from sklearn.model_selection import train_test_split\n",
    "\n",
    "            \n",
    "points_df_list = []\n",
    "for p in  df['point_idx'].unique(): # ['p0','p1','p2','p3','p4', ...]\n",
    "    curr_df = df[df[\"point_idx\"] == p]\n",
    "    points_df_list.append(curr_df)\n",
    "len(points_df_list)\n",
    "\n",
    "training_df_list, validation_df_list = train_test_split(points_df_list, train_size=0.8, random_state=42)\n",
    "\n",
    "print(len(training_df_list))\n",
    "print(len(validation_df_list))\n",
    "\n",
    "\n",
    "# combine into two dataframes\n",
    "train_df = pd.concat(training_df_list)\n",
    "validate_df = pd.concat(validation_df_list)\n",
    "train_df.shape, validate_df.shape"
   ]
  },
  {
   "attachments": {},
   "cell_type": "markdown",
   "metadata": {},
   "source": [
    "# Separate Train, Val datasets"
   ]
  },
  {
   "cell_type": "code",
   "execution_count": 13,
   "metadata": {},
   "outputs": [
    {
     "name": "stdout",
     "output_type": "stream",
     "text": [
      "(3140, 61) (785, 61)\n",
      "(array([False,  True]), array([2890,  250]))\n",
      "(array([False,  True]), array([722,  63]))\n"
     ]
    }
   ],
   "source": [
    "from sklearn.model_selection import train_test_split\n",
    "\n",
    "train_df, validate_df = train_test_split(df, train_size=0.8, random_state=42, stratify=df.har_evnt)\n",
    "\n",
    "print(train_df.shape, validate_df.shape)\n",
    "print(np.unique(train_df.har_evnt, return_counts=True))\n",
    "print(np.unique(validate_df.har_evnt, return_counts=True))"
   ]
  },
  {
   "cell_type": "code",
   "execution_count": 14,
   "metadata": {},
   "outputs": [
    {
     "name": "stdout",
     "output_type": "stream",
     "text": [
      "(250, 61)\n",
      "(2890, 61)\n",
      "(2890, 61)\n"
     ]
    }
   ],
   "source": [
    "#%%script echo skipping\n",
    "def apply_random_upsampling(df):\n",
    "    har_evnt_true_df = df[df[\"har_evnt\"]]\n",
    "    har_evnt_false_df = df[df[\"har_evnt\"] == False]\n",
    "    print(har_evnt_true_df.shape)\n",
    "    print(har_evnt_false_df.shape)\n",
    "\n",
    "    from sklearn.utils import resample\n",
    "\n",
    "    upsampled_har_evnt_true_df = resample(har_evnt_true_df, n_samples=har_evnt_false_df.shape[0],\n",
    "                                                    replace=True, random_state=42)\n",
    "    print(upsampled_har_evnt_true_df.shape)\n",
    "\n",
    "    return pd.concat([upsampled_har_evnt_true_df, har_evnt_false_df])\n",
    "    print(df.shape)\n",
    "\n",
    "train_df = apply_random_upsampling(train_df)"
   ]
  },
  {
   "attachments": {},
   "cell_type": "markdown",
   "metadata": {},
   "source": [
    "# Convert to Numpy"
   ]
  },
  {
   "cell_type": "code",
   "execution_count": 17,
   "metadata": {},
   "outputs": [
    {
     "name": "stdout",
     "output_type": "stream",
     "text": [
      "(5780, 22, 1) (5780,)\n",
      "(785, 22, 1) (785,)\n"
     ]
    }
   ],
   "source": [
    "X_train, y_train = get_X_y(train_df)\n",
    "print(X_train.shape, y_train.shape)\n",
    "X_validate, y_validate = get_X_y(validate_df)\n",
    "print(X_validate.shape, y_validate.shape)\n"
   ]
  },
  {
   "attachments": {},
   "cell_type": "markdown",
   "metadata": {},
   "source": [
    "# SMOTE Upsampling"
   ]
  },
  {
   "cell_type": "code",
   "execution_count": null,
   "metadata": {},
   "outputs": [],
   "source": [
    "%%script echo skipping\n",
    "\n",
    "import imblearn\n",
    "from imblearn.over_sampling import SMOTE\n",
    "from collections import Counter\n",
    "\n",
    "def upsample(X, y):\n",
    "    print(X.shape)\n",
    "    # oversampling the train dataset using SMOTE\n",
    "    smt = SMOTE()\n",
    "    counter = Counter(y)\n",
    "    print('Before',counter)\n",
    "    X = X.reshape(X.shape[0], X.shape[1]) # remove last dim in (6678, 21, 1)\n",
    "    X, y = smt.fit_resample(X, y)\n",
    "    X_sm, y_sm = smt.fit_resample(X, y)\n",
    "\n",
    "    counter = Counter(y_sm)\n",
    "    print('After',counter)\n",
    "\n",
    "    X = X.reshape(X.shape[0], X.shape[1], 1)\n",
    "    print(\"\")\n",
    "    return X, y\n",
    "\n",
    "X_train, y_train = upsample(X_train, y_train)\n"
   ]
  },
  {
   "cell_type": "code",
   "execution_count": null,
   "metadata": {},
   "outputs": [],
   "source": [
    "from tensorflow.keras.layers import Conv1D, MaxPooling1D, Flatten, Dropout, BatchNormalization\n",
    "model = tf.keras.Sequential([\n",
    "    Conv1D(filters=32, kernel_size=3, activation='relu', input_shape=(X_train.shape[1], X_train.shape[2])),\n",
    "    MaxPooling1D(pool_size=2),\n",
    "    Flatten(),\n",
    "    BatchNormalization(),\n",
    "    Dense(units=32, activation='relu'),\n",
    "    Dense(units=64, activation='relu'),\n",
    "    Dense(units=32, activation='relu'),\n",
    "    Dense(units=8, activation='relu'),\n",
    "    Dense(units=1, activation='sigmoid')\n",
    "])\n",
    "\n",
    "#model.compile(optimizer='adam', loss='mse', metrics=['mae'])"
   ]
  },
  {
   "cell_type": "code",
   "execution_count": null,
   "metadata": {},
   "outputs": [],
   "source": [
    "model.summary()"
   ]
  },
  {
   "cell_type": "code",
   "execution_count": null,
   "metadata": {},
   "outputs": [],
   "source": [
    "model.compile(loss='binary_crossentropy', optimizer='adam', metrics=['binary_accuracy'])\n"
   ]
  },
  {
   "cell_type": "code",
   "execution_count": null,
   "metadata": {},
   "outputs": [],
   "source": [
    "history = model.fit(X_train, y_train, epochs=20, validation_data=(X_validate, y_validate))\n"
   ]
  },
  {
   "cell_type": "code",
   "execution_count": null,
   "metadata": {},
   "outputs": [],
   "source": [
    "import matplotlib.pyplot as plt\n",
    "\n",
    "acc = history.history['binary_accuracy']\n",
    "val_acc = history.history['val_binary_accuracy']\n",
    "loss = history.history['loss']\n",
    "val_loss = history.history['val_loss']\n",
    "\n",
    "epochs = range(1, len(acc) + 1)\n",
    "\n",
    "plt.plot(epochs, acc, 'bo', label='Training acc')\n",
    "plt.plot(epochs, val_acc, 'b', label='Validation acc')\n",
    "plt.title('Training and validation accuracy')\n",
    "plt.legend()\n",
    "\n",
    "plt.figure()\n",
    "\n",
    "plt.plot(epochs, loss, 'bo', label='Training loss')\n",
    "plt.plot(epochs, val_loss, 'b', label='Validation loss')\n",
    "plt.title('Training and validation loss')\n",
    "plt.legend()\n",
    "\n",
    "plt.show()"
   ]
  },
  {
   "cell_type": "code",
   "execution_count": null,
   "metadata": {},
   "outputs": [],
   "source": [
    "import sklearn\n",
    "func = np.vectorize(lambda x: 0 if x < 0.5 else 1)"
   ]
  },
  {
   "attachments": {},
   "cell_type": "markdown",
   "metadata": {},
   "source": []
  },
  {
   "cell_type": "code",
   "execution_count": null,
   "metadata": {},
   "outputs": [],
   "source": [
    "import matplotlib.pyplot as plt\n",
    "import numpy\n",
    "from sklearn import metrics\n",
    "\n",
    "def plot_confusion_matrix(actual, predicted):\n",
    "    confusion_matrix = metrics.confusion_matrix(actual, predicted)\n",
    "\n",
    "    cm_display = metrics.ConfusionMatrixDisplay(confusion_matrix = confusion_matrix, display_labels = [False, True])\n",
    "\n",
    "    cm_display.plot()\n",
    "    plt.show()"
   ]
  },
  {
   "cell_type": "code",
   "execution_count": null,
   "metadata": {},
   "outputs": [],
   "source": [
    "print(\"X_train\")\n",
    "y_predict = np.array(list(model.predict(X_train)))\n",
    "y_predict = y_predict.reshape(y_predict.shape[0])\n",
    "print(np.unique(func(y_predict), return_counts=True))\n",
    "print(sklearn.metrics.classification_report(y_train, func(y_predict)))\n",
    "plot_confusion_matrix(y_train, func(y_predict))"
   ]
  },
  {
   "cell_type": "code",
   "execution_count": null,
   "metadata": {},
   "outputs": [],
   "source": [
    "print(\"X_validate\")\n",
    "\n",
    "y_predict = np.array(list(model.predict(X_validate)))\n",
    "y_predict = y_predict.reshape(y_predict.shape[0])\n",
    "print(np.unique(func(y_predict), return_counts=True))\n",
    "print(sklearn.metrics.classification_report(y_validate, func(y_predict)))\n",
    "plot_confusion_matrix(y_validate, func(y_predict))"
   ]
  },
  {
   "cell_type": "code",
   "execution_count": null,
   "metadata": {},
   "outputs": [],
   "source": []
  },
  {
   "cell_type": "code",
   "execution_count": null,
   "metadata": {},
   "outputs": [],
   "source": [
    "def rm_extradim(X, y):\n",
    "    X, y = X.reshape(X.shape[0], X.shape[1]), y.reshape(y.shape[0])\n",
    "    return X, y"
   ]
  },
  {
   "attachments": {},
   "cell_type": "markdown",
   "metadata": {},
   "source": [
    "# Random Forests Feature Selection"
   ]
  },
  {
   "cell_type": "code",
   "execution_count": null,
   "metadata": {},
   "outputs": [],
   "source": [
    "\n",
    "X_train, y_train = rm_extradim(X_train, y_train)\n",
    "X_validate, y_validate = rm_extradim(X_validate, y_validate)\n",
    "\n",
    "import sklearn\n",
    "from sklearn.ensemble import RandomForestClassifier\n",
    "from sklearn.metrics import accuracy_score\n",
    "\n",
    "rf = RandomForestClassifier()\n",
    "\n",
    "rf.fit(X_train, y_train)\n",
    "y_predict = rf.predict(X_validate)\n",
    "\n",
    "\n",
    "accuracy_score(y_validate, y_predict)"
   ]
  },
  {
   "cell_type": "code",
   "execution_count": null,
   "metadata": {},
   "outputs": [],
   "source": [
    "print(sklearn.metrics.classification_report(y_validate, y_predict))\n",
    "\n",
    "plot_confusion_matrix(y_validate, func(y_predict))"
   ]
  },
  {
   "cell_type": "code",
   "execution_count": null,
   "metadata": {},
   "outputs": [],
   "source": [
    "np.unique(y_train, return_counts=True)"
   ]
  },
  {
   "cell_type": "code",
   "execution_count": null,
   "metadata": {},
   "outputs": [],
   "source": [
    "feature_importances_df = pd.DataFrame(rf.feature_importances_,\n",
    "                    index=SELECTED_FEATURES, \n",
    "                    columns=['importance']).sort_values('importance', ascending=False)\n",
    "feature_importances_df"
   ]
  },
  {
   "cell_type": "code",
   "execution_count": null,
   "metadata": {},
   "outputs": [],
   "source": [
    "feature_importances_df.T.columns"
   ]
  },
  {
   "cell_type": "code",
   "execution_count": null,
   "metadata": {},
   "outputs": [],
   "source": [
    "sorted(get_manually_selected())"
   ]
  },
  {
   "cell_type": "code",
   "execution_count": null,
   "metadata": {},
   "outputs": [],
   "source": []
  },
  {
   "cell_type": "code",
   "execution_count": null,
   "metadata": {},
   "outputs": [],
   "source": []
  }
 ],
 "metadata": {
  "kernelspec": {
   "display_name": "harvest-event-detec-Fyp2lGEN-py3.9",
   "language": "python",
   "name": "python3"
  },
  "language_info": {
   "codemirror_mode": {
    "name": "ipython",
    "version": 3
   },
   "file_extension": ".py",
   "mimetype": "text/x-python",
   "name": "python",
   "nbconvert_exporter": "python",
   "pygments_lexer": "ipython3",
   "version": "3.10.11"
  },
  "orig_nbformat": 4
 },
 "nbformat": 4,
 "nbformat_minor": 2
}
